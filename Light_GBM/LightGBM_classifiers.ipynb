{
 "cells": [
  {
   "cell_type": "markdown",
   "metadata": {},
   "source": [
    "# Light GBM"
   ]
  },
  {
   "cell_type": "code",
   "execution_count": 6,
   "metadata": {},
   "outputs": [
    {
     "name": "stdout",
     "output_type": "stream",
     "text": [
      "Defaulting to user installation because normal site-packages is not writeable\n",
      "Requirement already satisfied: lightgbm in /Users/necmiyesoyla/Library/Python/3.9/lib/python/site-packages (3.3.5)\n",
      "Requirement already satisfied: scikit-learn!=0.22.0 in /Users/necmiyesoyla/Library/Python/3.9/lib/python/site-packages (from lightgbm) (1.2.0)\n",
      "Requirement already satisfied: numpy in /Users/necmiyesoyla/Library/Python/3.9/lib/python/site-packages (from lightgbm) (1.23.5)\n",
      "Requirement already satisfied: wheel in /Applications/Xcode.app/Contents/Developer/Library/Frameworks/Python3.framework/Versions/3.9/lib/python3.9/site-packages (from lightgbm) (0.37.0)\n",
      "Requirement already satisfied: scipy in /Users/necmiyesoyla/Library/Python/3.9/lib/python/site-packages (from lightgbm) (1.9.3)\n",
      "Requirement already satisfied: threadpoolctl>=2.0.0 in /Users/necmiyesoyla/Library/Python/3.9/lib/python/site-packages (from scikit-learn!=0.22.0->lightgbm) (3.1.0)\n",
      "Requirement already satisfied: joblib>=1.1.1 in /Users/necmiyesoyla/Library/Python/3.9/lib/python/site-packages (from scikit-learn!=0.22.0->lightgbm) (1.2.0)\n"
     ]
    }
   ],
   "source": [
    "!pip3 install lightgbm\n",
    "#"
   ]
  },
  {
   "cell_type": "code",
   "execution_count": 7,
   "metadata": {},
   "outputs": [
    {
     "ename": "ImportError",
     "evalue": "cannot import name 'LGBMClassifiers' from 'lightgbm' (/Users/necmiyesoyla/Library/Python/3.9/lib/python/site-packages/lightgbm/__init__.py)",
     "output_type": "error",
     "traceback": [
      "\u001b[0;31m---------------------------------------------------------------------------\u001b[0m",
      "\u001b[0;31mImportError\u001b[0m                               Traceback (most recent call last)",
      "Cell \u001b[0;32mIn[7], line 1\u001b[0m\n\u001b[0;32m----> 1\u001b[0m \u001b[38;5;28;01mfrom\u001b[39;00m \u001b[38;5;21;01mlightgbm\u001b[39;00m \u001b[38;5;28;01mimport\u001b[39;00m LGBMClassifiers\n",
      "\u001b[0;31mImportError\u001b[0m: cannot import name 'LGBMClassifiers' from 'lightgbm' (/Users/necmiyesoyla/Library/Python/3.9/lib/python/site-packages/lightgbm/__init__.py)"
     ]
    }
   ],
   "source": [
    "from lightgbm import LGBMClassifiers"
   ]
  },
  {
   "cell_type": "code",
   "execution_count": null,
   "metadata": {},
   "outputs": [],
   "source": []
  }
 ],
 "metadata": {
  "kernelspec": {
   "display_name": "Python 3.9.6 64-bit",
   "language": "python",
   "name": "python3"
  },
  "language_info": {
   "codemirror_mode": {
    "name": "ipython",
    "version": 3
   },
   "file_extension": ".py",
   "mimetype": "text/x-python",
   "name": "python",
   "nbconvert_exporter": "python",
   "pygments_lexer": "ipython3",
   "version": "3.9.6"
  },
  "orig_nbformat": 4,
  "vscode": {
   "interpreter": {
    "hash": "31f2aee4e71d21fbe5cf8b01ff0e069b9275f58929596ceb00d14d90e3e16cd6"
   }
  }
 },
 "nbformat": 4,
 "nbformat_minor": 2
}
