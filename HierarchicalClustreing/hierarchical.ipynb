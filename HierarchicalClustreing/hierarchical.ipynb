{
 "cells": [
  {
   "cell_type": "markdown",
   "metadata": {},
   "source": [
    "# Hiyerarşik Kümeleme\n",
    "\n",
    "Adı üstünde veriyi hiyerarşik bir yapı haline getirir."
   ]
  },
  {
   "cell_type": "markdown",
   "metadata": {},
   "source": [
    "Hiyerarşikm olan olmayan kümeleme yöntemelri farkı dersek\n",
    "\n",
    "- Hiyerarşik olmayan kümelemede sadece gözlemler kümelenebilir değişkenler kümelenemez. Ve küme sayısını kendimiz belirleriz\n",
    "\n",
    "- Hiyerarşik kğmeledme ise değişknelerde kümelenebilir. grafiği çevirdiğimiz ve gözlemelri değişken, \n",
    "değişkneleri gözlem gibi kabul ettiğimizi düşünelim. bu durumda değişkneleri kümeleyebilriz. Ayrıca küme sayısını kullanılan algoritmalarla belirleriz\n",
    "\n",
    "- Karar ağaçlarından farkı ise: Karar ağaçalarınd adallanma bağımlı değişkene göre yapılır. Değişknelerin bağımlı değişkneen\n",
    " etkisine göre dallanam yapılır. Hiyerarşik kümelemede ise bilindiği üzere bir bağımşı değişkne yok tamamen makinemiz kendi kümeliyor. \n",
    "Bunu yaparkende gözlemlerin birbirlerinde uzaklığınıa bakılıyor. Özetler karar ağaçalarında bağımlı değişknle ilişkiye, hiyerarşik kümelemde gözlemelr arası uzaklığa bakılır."
   ]
  },
  {
   "cell_type": "markdown",
   "metadata": {},
   "source": [
    "Birleştirici Kümeleme(Aşşağıdan yukarıya):\n",
    "\n",
    "- Başlangıçta gözlem sasyısı kadar kümeleme vardır.\n",
    "\n",
    "- Veri setinde birbirine en yakın olan iki gözlem bulunur\n",
    "\n",
    "- bu iki nokta b,r araya getirilerek yeni bir gözlme oluşturulur. Bu işlem tekraralanarak yukarıya kadaar çıkılır. Yani tüm gözlemler tek bir kümde toplanana  kadar işlem devam eder.\n",
    "\n",
    "Birlerine yakınlıkları uzaklık hesapplama yöntemleriyle bulunur. Öklid, manhattan, korelasyon vb."
   ]
  },
  {
   "cell_type": "code",
   "execution_count": null,
   "metadata": {},
   "outputs": [],
   "source": []
  }
 ],
 "metadata": {
  "language_info": {
   "name": "python"
  },
  "orig_nbformat": 4
 },
 "nbformat": 4,
 "nbformat_minor": 2
}
