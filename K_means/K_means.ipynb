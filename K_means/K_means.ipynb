{
 "cells": [
  {
   "cell_type": "markdown",
   "metadata": {},
   "source": [
    "# K Means"
   ]
  },
  {
   "cell_type": "markdown",
   "metadata": {},
   "source": [
    "Amaç gözlemleri birnirlerine olan benzerleiklerime göre kümelere ayırmaktır. \n",
    "\n",
    "Kümeler eiçi benzerlik yüksek kümeler arası benzerlik düşükm olsun isteriz\n",
    "\n",
    "- Küme saysıs belirlenir k sayıda olsun\n",
    "\n",
    "- Rastgele k sayıda merkez seçilir\n",
    "\n",
    "- Her gözlem için k merkezlere uzaklık hessaplanır ve kendisine en yakşn merkeze atanır.\n",
    "\n",
    "- Atama işlemlerinden sonra oluşan kümeler için tekrardan merkez hesaplamaları yapılır\n",
    "\n",
    "- Bu işlembelirlenen bir iterasyonnadedince devam edilir. hatası en düşük olann şekil son hal kabul edilir"
   ]
  },
  {
   "cell_type": "code",
   "execution_count": 102,
   "metadata": {},
   "outputs": [],
   "source": [
    "from warnings import filterwarnings\n",
    "filterwarnings('ignore')\n",
    "import numpy as np\n",
    "import pandas as pd \n",
    "import seaborn as sns\n",
    "import matplotlib.pyplot as plt\n",
    "import scipy as sp\n",
    "from sklearn.cluster import KMeans"
   ]
  },
  {
   "cell_type": "code",
   "execution_count": 103,
   "metadata": {},
   "outputs": [
    {
     "data": {
      "text/html": [
       "<div>\n",
       "<style scoped>\n",
       "    .dataframe tbody tr th:only-of-type {\n",
       "        vertical-align: middle;\n",
       "    }\n",
       "\n",
       "    .dataframe tbody tr th {\n",
       "        vertical-align: top;\n",
       "    }\n",
       "\n",
       "    .dataframe thead th {\n",
       "        text-align: right;\n",
       "    }\n",
       "</style>\n",
       "<table border=\"1\" class=\"dataframe\">\n",
       "  <thead>\n",
       "    <tr style=\"text-align: right;\">\n",
       "      <th></th>\n",
       "      <th>Unnamed: 0</th>\n",
       "      <th>Murder</th>\n",
       "      <th>Assault</th>\n",
       "      <th>UrbanPop</th>\n",
       "      <th>Rape</th>\n",
       "    </tr>\n",
       "  </thead>\n",
       "  <tbody>\n",
       "    <tr>\n",
       "      <th>0</th>\n",
       "      <td>Alabama</td>\n",
       "      <td>13.2</td>\n",
       "      <td>236</td>\n",
       "      <td>58</td>\n",
       "      <td>21.2</td>\n",
       "    </tr>\n",
       "    <tr>\n",
       "      <th>1</th>\n",
       "      <td>Alaska</td>\n",
       "      <td>10.0</td>\n",
       "      <td>263</td>\n",
       "      <td>48</td>\n",
       "      <td>44.5</td>\n",
       "    </tr>\n",
       "    <tr>\n",
       "      <th>2</th>\n",
       "      <td>Arizona</td>\n",
       "      <td>8.1</td>\n",
       "      <td>294</td>\n",
       "      <td>80</td>\n",
       "      <td>31.0</td>\n",
       "    </tr>\n",
       "    <tr>\n",
       "      <th>3</th>\n",
       "      <td>Arkansas</td>\n",
       "      <td>8.8</td>\n",
       "      <td>190</td>\n",
       "      <td>50</td>\n",
       "      <td>19.5</td>\n",
       "    </tr>\n",
       "    <tr>\n",
       "      <th>4</th>\n",
       "      <td>California</td>\n",
       "      <td>9.0</td>\n",
       "      <td>276</td>\n",
       "      <td>91</td>\n",
       "      <td>40.6</td>\n",
       "    </tr>\n",
       "  </tbody>\n",
       "</table>\n",
       "</div>"
      ],
      "text/plain": [
       "   Unnamed: 0  Murder  Assault  UrbanPop  Rape\n",
       "0     Alabama    13.2      236        58  21.2\n",
       "1      Alaska    10.0      263        48  44.5\n",
       "2     Arizona     8.1      294        80  31.0\n",
       "3    Arkansas     8.8      190        50  19.5\n",
       "4  California     9.0      276        91  40.6"
      ]
     },
     "execution_count": 103,
     "metadata": {},
     "output_type": "execute_result"
    }
   ],
   "source": [
    "data=pd.read_csv(\"USArrests.csv\")\n",
    "df=data.copy()\n",
    "df.head()\n",
    "#gördüğün gibi eyalet isimleri değişkne gibi olmuş ancak index ismi olmalılar öncelikle onu düzeltelim"
   ]
  },
  {
   "cell_type": "code",
   "execution_count": 104,
   "metadata": {},
   "outputs": [
    {
     "data": {
      "text/html": [
       "<div>\n",
       "<style scoped>\n",
       "    .dataframe tbody tr th:only-of-type {\n",
       "        vertical-align: middle;\n",
       "    }\n",
       "\n",
       "    .dataframe tbody tr th {\n",
       "        vertical-align: top;\n",
       "    }\n",
       "\n",
       "    .dataframe thead th {\n",
       "        text-align: right;\n",
       "    }\n",
       "</style>\n",
       "<table border=\"1\" class=\"dataframe\">\n",
       "  <thead>\n",
       "    <tr style=\"text-align: right;\">\n",
       "      <th></th>\n",
       "      <th>Murder</th>\n",
       "      <th>Assault</th>\n",
       "      <th>UrbanPop</th>\n",
       "      <th>Rape</th>\n",
       "    </tr>\n",
       "    <tr>\n",
       "      <th>Unnamed: 0</th>\n",
       "      <th></th>\n",
       "      <th></th>\n",
       "      <th></th>\n",
       "      <th></th>\n",
       "    </tr>\n",
       "  </thead>\n",
       "  <tbody>\n",
       "    <tr>\n",
       "      <th>Alabama</th>\n",
       "      <td>13.2</td>\n",
       "      <td>236</td>\n",
       "      <td>58</td>\n",
       "      <td>21.2</td>\n",
       "    </tr>\n",
       "    <tr>\n",
       "      <th>Alaska</th>\n",
       "      <td>10.0</td>\n",
       "      <td>263</td>\n",
       "      <td>48</td>\n",
       "      <td>44.5</td>\n",
       "    </tr>\n",
       "    <tr>\n",
       "      <th>Arizona</th>\n",
       "      <td>8.1</td>\n",
       "      <td>294</td>\n",
       "      <td>80</td>\n",
       "      <td>31.0</td>\n",
       "    </tr>\n",
       "    <tr>\n",
       "      <th>Arkansas</th>\n",
       "      <td>8.8</td>\n",
       "      <td>190</td>\n",
       "      <td>50</td>\n",
       "      <td>19.5</td>\n",
       "    </tr>\n",
       "    <tr>\n",
       "      <th>California</th>\n",
       "      <td>9.0</td>\n",
       "      <td>276</td>\n",
       "      <td>91</td>\n",
       "      <td>40.6</td>\n",
       "    </tr>\n",
       "  </tbody>\n",
       "</table>\n",
       "</div>"
      ],
      "text/plain": [
       "            Murder  Assault  UrbanPop  Rape\n",
       "Unnamed: 0                                 \n",
       "Alabama       13.2      236        58  21.2\n",
       "Alaska        10.0      263        48  44.5\n",
       "Arizona        8.1      294        80  31.0\n",
       "Arkansas       8.8      190        50  19.5\n",
       "California     9.0      276        91  40.6"
      ]
     },
     "execution_count": 104,
     "metadata": {},
     "output_type": "execute_result"
    }
   ],
   "source": [
    "x=df.iloc[:,0]\n",
    "df.index=x\n",
    "df=df.iloc[:,1:5]\n",
    "df.head()"
   ]
  },
  {
   "cell_type": "code",
   "execution_count": 105,
   "metadata": {},
   "outputs": [
    {
     "data": {
      "text/html": [
       "<div>\n",
       "<style scoped>\n",
       "    .dataframe tbody tr th:only-of-type {\n",
       "        vertical-align: middle;\n",
       "    }\n",
       "\n",
       "    .dataframe tbody tr th {\n",
       "        vertical-align: top;\n",
       "    }\n",
       "\n",
       "    .dataframe thead th {\n",
       "        text-align: right;\n",
       "    }\n",
       "</style>\n",
       "<table border=\"1\" class=\"dataframe\">\n",
       "  <thead>\n",
       "    <tr style=\"text-align: right;\">\n",
       "      <th></th>\n",
       "      <th>Murder</th>\n",
       "      <th>Assault</th>\n",
       "      <th>UrbanPop</th>\n",
       "      <th>Rape</th>\n",
       "    </tr>\n",
       "  </thead>\n",
       "  <tbody>\n",
       "    <tr>\n",
       "      <th>Alabama</th>\n",
       "      <td>13.2</td>\n",
       "      <td>236</td>\n",
       "      <td>58</td>\n",
       "      <td>21.2</td>\n",
       "    </tr>\n",
       "    <tr>\n",
       "      <th>Alaska</th>\n",
       "      <td>10.0</td>\n",
       "      <td>263</td>\n",
       "      <td>48</td>\n",
       "      <td>44.5</td>\n",
       "    </tr>\n",
       "    <tr>\n",
       "      <th>Arizona</th>\n",
       "      <td>8.1</td>\n",
       "      <td>294</td>\n",
       "      <td>80</td>\n",
       "      <td>31.0</td>\n",
       "    </tr>\n",
       "    <tr>\n",
       "      <th>Arkansas</th>\n",
       "      <td>8.8</td>\n",
       "      <td>190</td>\n",
       "      <td>50</td>\n",
       "      <td>19.5</td>\n",
       "    </tr>\n",
       "    <tr>\n",
       "      <th>California</th>\n",
       "      <td>9.0</td>\n",
       "      <td>276</td>\n",
       "      <td>91</td>\n",
       "      <td>40.6</td>\n",
       "    </tr>\n",
       "  </tbody>\n",
       "</table>\n",
       "</div>"
      ],
      "text/plain": [
       "            Murder  Assault  UrbanPop  Rape\n",
       "Alabama       13.2      236        58  21.2\n",
       "Alaska        10.0      263        48  44.5\n",
       "Arizona        8.1      294        80  31.0\n",
       "Arkansas       8.8      190        50  19.5\n",
       "California     9.0      276        91  40.6"
      ]
     },
     "execution_count": 105,
     "metadata": {},
     "output_type": "execute_result"
    }
   ],
   "source": [
    "df=df.rename_axis(index=None)\n",
    "df.head()"
   ]
  },
  {
   "cell_type": "code",
   "execution_count": 106,
   "metadata": {},
   "outputs": [
    {
     "data": {
      "text/plain": [
       "Murder      0\n",
       "Assault     0\n",
       "UrbanPop    0\n",
       "Rape        0\n",
       "dtype: int64"
      ]
     },
     "execution_count": 106,
     "metadata": {},
     "output_type": "execute_result"
    }
   ],
   "source": [
    "df.isnull().sum()"
   ]
  },
  {
   "cell_type": "code",
   "execution_count": 107,
   "metadata": {},
   "outputs": [
    {
     "name": "stdout",
     "output_type": "stream",
     "text": [
      "<class 'pandas.core.frame.DataFrame'>\n",
      "Index: 50 entries, Alabama to Wyoming\n",
      "Data columns (total 4 columns):\n",
      " #   Column    Non-Null Count  Dtype  \n",
      "---  ------    --------------  -----  \n",
      " 0   Murder    50 non-null     float64\n",
      " 1   Assault   50 non-null     int64  \n",
      " 2   UrbanPop  50 non-null     int64  \n",
      " 3   Rape      50 non-null     float64\n",
      "dtypes: float64(2), int64(2)\n",
      "memory usage: 2.0+ KB\n"
     ]
    }
   ],
   "source": [
    "df.info()"
   ]
  },
  {
   "cell_type": "code",
   "execution_count": 108,
   "metadata": {},
   "outputs": [
    {
     "data": {
      "text/html": [
       "<div>\n",
       "<style scoped>\n",
       "    .dataframe tbody tr th:only-of-type {\n",
       "        vertical-align: middle;\n",
       "    }\n",
       "\n",
       "    .dataframe tbody tr th {\n",
       "        vertical-align: top;\n",
       "    }\n",
       "\n",
       "    .dataframe thead th {\n",
       "        text-align: right;\n",
       "    }\n",
       "</style>\n",
       "<table border=\"1\" class=\"dataframe\">\n",
       "  <thead>\n",
       "    <tr style=\"text-align: right;\">\n",
       "      <th></th>\n",
       "      <th>count</th>\n",
       "      <th>mean</th>\n",
       "      <th>std</th>\n",
       "      <th>min</th>\n",
       "      <th>25%</th>\n",
       "      <th>50%</th>\n",
       "      <th>75%</th>\n",
       "      <th>max</th>\n",
       "    </tr>\n",
       "  </thead>\n",
       "  <tbody>\n",
       "    <tr>\n",
       "      <th>Murder</th>\n",
       "      <td>50.0</td>\n",
       "      <td>7.788</td>\n",
       "      <td>4.355510</td>\n",
       "      <td>0.8</td>\n",
       "      <td>4.075</td>\n",
       "      <td>7.25</td>\n",
       "      <td>11.250</td>\n",
       "      <td>17.4</td>\n",
       "    </tr>\n",
       "    <tr>\n",
       "      <th>Assault</th>\n",
       "      <td>50.0</td>\n",
       "      <td>170.760</td>\n",
       "      <td>83.337661</td>\n",
       "      <td>45.0</td>\n",
       "      <td>109.000</td>\n",
       "      <td>159.00</td>\n",
       "      <td>249.000</td>\n",
       "      <td>337.0</td>\n",
       "    </tr>\n",
       "    <tr>\n",
       "      <th>UrbanPop</th>\n",
       "      <td>50.0</td>\n",
       "      <td>65.540</td>\n",
       "      <td>14.474763</td>\n",
       "      <td>32.0</td>\n",
       "      <td>54.500</td>\n",
       "      <td>66.00</td>\n",
       "      <td>77.750</td>\n",
       "      <td>91.0</td>\n",
       "    </tr>\n",
       "    <tr>\n",
       "      <th>Rape</th>\n",
       "      <td>50.0</td>\n",
       "      <td>21.232</td>\n",
       "      <td>9.366385</td>\n",
       "      <td>7.3</td>\n",
       "      <td>15.075</td>\n",
       "      <td>20.10</td>\n",
       "      <td>26.175</td>\n",
       "      <td>46.0</td>\n",
       "    </tr>\n",
       "  </tbody>\n",
       "</table>\n",
       "</div>"
      ],
      "text/plain": [
       "          count     mean        std   min      25%     50%      75%    max\n",
       "Murder     50.0    7.788   4.355510   0.8    4.075    7.25   11.250   17.4\n",
       "Assault    50.0  170.760  83.337661  45.0  109.000  159.00  249.000  337.0\n",
       "UrbanPop   50.0   65.540  14.474763  32.0   54.500   66.00   77.750   91.0\n",
       "Rape       50.0   21.232   9.366385   7.3   15.075   20.10   26.175   46.0"
      ]
     },
     "execution_count": 108,
     "metadata": {},
     "output_type": "execute_result"
    }
   ],
   "source": [
    "df.describe().T\n",
    "# Ne görüyoruz murder %75 lik kısım 11 iken max kısım 17 demek ki bir kaç eyalette bu bireden yükseliyor\n",
    "#mesala murderın ağırlığını arttırmak istersek bir değişkne daha ekleyip 11 in üstü olanları 1 diğerlerine 0 atayabiliriz"
   ]
  },
  {
   "cell_type": "code",
   "execution_count": 109,
   "metadata": {},
   "outputs": [
    {
     "data": {
      "text/plain": [
       "array([[<AxesSubplot: title={'center': 'Murder'}>,\n",
       "        <AxesSubplot: title={'center': 'Assault'}>],\n",
       "       [<AxesSubplot: title={'center': 'UrbanPop'}>,\n",
       "        <AxesSubplot: title={'center': 'Rape'}>]], dtype=object)"
      ]
     },
     "execution_count": 109,
     "metadata": {},
     "output_type": "execute_result"
    },
    {
     "data": {
      "image/png": "[encoded data removed]",
      "text/plain": [
       "<Figure size 500x500 with 4 Axes>"
      ]
     },
     "metadata": {},
     "output_type": "display_data"
    }
   ],
   "source": [
    "df.hist(figsize=(5,5))"
   ]
  },
  {
   "cell_type": "code",
   "execution_count": 110,
   "metadata": {},
   "outputs": [],
   "source": [
    "from sklearn.cluster import KMeans"
   ]
  },
  {
   "cell_type": "code",
   "execution_count": 111,
   "metadata": {},
   "outputs": [
    {
     "name": "stdout",
     "output_type": "stream",
     "text": [
      "\u001b[0;31mType:\u001b[0m        KMeans\n",
      "\u001b[0;31mString form:\u001b[0m KMeans(n_clusters=4)\n",
      "\u001b[0;31mFile:\u001b[0m        ~/Library/Python/3.9/lib/python/site-packages/sklearn/cluster/_kmeans.py\n",
      "\u001b[0;31mDocstring:\u001b[0m  \n",
      "K-Means clustering.\n",
      "\n",
      "Read more in the :ref:`User Guide <k_means>`.\n",
      "\n",
      "Parameters\n",
      "----------\n",
      "\n",
      "n_clusters : int, default=8\n",
      "    The number of clusters to form as well as the number of\n",
      "    centroids to generate.\n",
      "\n",
      "init : {'k-means++', 'random'}, callable or array-like of shape             (n_clusters, n_features), default='k-means++'\n",
      "    Method for initialization:\n",
      "\n",
      "    'k-means++' : selects initial cluster centroids using sampling based on\n",
      "    an empirical probability distribution of the points' contribution to the\n",
      "    overall inertia. This technique speeds up convergence. The algorithm\n",
      "    implemented is \"greedy k-means++\". It differs from the vanilla k-means++\n",
      "    by making several trials at each sampling step and choosing the bestcentroid\n",
      "    among them.\n",
      "\n",
      "    'random': choose `n_clusters` observations (rows) at random from data\n",
      "    for the initial centroids.\n",
      "\n",
      "    If an array is passed, it should be of shape (n_clusters, n_features)\n",
      "    and gives the initial centers.\n",
      "\n",
      "    If a callable is passed, it should take arguments X, n_clusters and a\n",
      "    random state and return an initialization.\n",
      "\n",
      "n_init : 'auto' or int, default=10\n",
      "    Number of times the k-means algorithm is run with different centroid\n",
      "    seeds. The final results is the best output of `n_init` consecutive runs\n",
      "    in terms of inertia. Several runs are recommended for sparse\n",
      "    high-dimensional problems (see :ref:`kmeans_sparse_high_dim`).\n",
      "\n",
      "    When `n_init='auto'`, the number of runs will be 10 if using\n",
      "    `init='random'`, and 1 if using `init='kmeans++'`.\n",
      "\n",
      "    .. versionadded:: 1.2\n",
      "       Added 'auto' option for `n_init`.\n",
      "\n",
      "    .. versionchanged:: 1.4\n",
      "       Default value for `n_init` will change from 10 to `'auto'` in version 1.4.\n",
      "\n",
      "max_iter : int, default=300\n",
      "    Maximum number of iterations of the k-means algorithm for a\n",
      "    single run.\n",
      "\n",
      "tol : float, default=1e-4\n",
      "    Relative tolerance with regards to Frobenius norm of the difference\n",
      "    in the cluster centers of two consecutive iterations to declare\n",
      "    convergence.\n",
      "\n",
      "verbose : int, default=0\n",
      "    Verbosity mode.\n",
      "\n",
      "random_state : int, RandomState instance or None, default=None\n",
      "    Determines random number generation for centroid initialization. Use\n",
      "    an int to make the randomness deterministic.\n",
      "    See :term:`Glossary <random_state>`.\n",
      "\n",
      "copy_x : bool, default=True\n",
      "    When pre-computing distances it is more numerically accurate to center\n",
      "    the data first. If copy_x is True (default), then the original data is\n",
      "    not modified. If False, the original data is modified, and put back\n",
      "    before the function returns, but small numerical differences may be\n",
      "    introduced by subtracting and then adding the data mean. Note that if\n",
      "    the original data is not C-contiguous, a copy will be made even if\n",
      "    copy_x is False. If the original data is sparse, but not in CSR format,\n",
      "    a copy will be made even if copy_x is False.\n",
      "\n",
      "algorithm : {\"lloyd\", \"elkan\", \"auto\", \"full\"}, default=\"lloyd\"\n",
      "    K-means algorithm to use. The classical EM-style algorithm is `\"lloyd\"`.\n",
      "    The `\"elkan\"` variation can be more efficient on some datasets with\n",
      "    well-defined clusters, by using the triangle inequality. However it's\n",
      "    more memory intensive due to the allocation of an extra array of shape\n",
      "    `(n_samples, n_clusters)`.\n",
      "\n",
      "    `\"auto\"` and `\"full\"` are deprecated and they will be removed in\n",
      "    Scikit-Learn 1.3. They are both aliases for `\"lloyd\"`.\n",
      "\n",
      "    .. versionchanged:: 0.18\n",
      "        Added Elkan algorithm\n",
      "\n",
      "    .. versionchanged:: 1.1\n",
      "        Renamed \"full\" to \"lloyd\", and deprecated \"auto\" and \"full\".\n",
      "        Changed \"auto\" to use \"lloyd\" instead of \"elkan\".\n",
      "\n",
      "Attributes\n",
      "----------\n",
      "cluster_centers_ : ndarray of shape (n_clusters, n_features)\n",
      "    Coordinates of cluster centers. If the algorithm stops before fully\n",
      "    converging (see ``tol`` and ``max_iter``), these will not be\n",
      "    consistent with ``labels_``.\n",
      "\n",
      "labels_ : ndarray of shape (n_samples,)\n",
      "    Labels of each point\n",
      "\n",
      "inertia_ : float\n",
      "    Sum of squared distances of samples to their closest cluster center,\n",
      "    weighted by the sample weights if provided.\n",
      "\n",
      "n_iter_ : int\n",
      "    Number of iterations run.\n",
      "\n",
      "n_features_in_ : int\n",
      "    Number of features seen during :term:`fit`.\n",
      "\n",
      "    .. versionadded:: 0.24\n",
      "\n",
      "feature_names_in_ : ndarray of shape (`n_features_in_`,)\n",
      "    Names of features seen during :term:`fit`. Defined only when `X`\n",
      "    has feature names that are all strings.\n",
      "\n",
      "    .. versionadded:: 1.0\n",
      "\n",
      "See Also\n",
      "--------\n",
      "MiniBatchKMeans : Alternative online implementation that does incremental\n",
      "    updates of the centers positions using mini-batches.\n",
      "    For large scale learning (say n_samples > 10k) MiniBatchKMeans is\n",
      "    probably much faster than the default batch implementation.\n",
      "\n",
      "Notes\n",
      "-----\n",
      "The k-means problem is solved using either Lloyd's or Elkan's algorithm.\n",
      "\n",
      "The average complexity is given by O(k n T), where n is the number of\n",
      "samples and T is the number of iteration.\n",
      "\n",
      "The worst case complexity is given by O(n^(k+2/p)) with\n",
      "n = n_samples, p = n_features.\n",
      "Refer to :doi:`\"How slow is the k-means method?\" D. Arthur and S. Vassilvitskii -\n",
      "SoCG2006.<10.1145/1137856.1137880>` for more details.\n",
      "\n",
      "In practice, the k-means algorithm is very fast (one of the fastest\n",
      "clustering algorithms available), but it falls in local minima. That's why\n",
      "it can be useful to restart it several times.\n",
      "\n",
      "If the algorithm stops before fully converging (because of ``tol`` or\n",
      "``max_iter``), ``labels_`` and ``cluster_centers_`` will not be consistent,\n",
      "i.e. the ``cluster_centers_`` will not be the means of the points in each\n",
      "cluster. Also, the estimator will reassign ``labels_`` after the last\n",
      "iteration to make ``labels_`` consistent with ``predict`` on the training\n",
      "set.\n",
      "\n",
      "Examples\n",
      "--------\n",
      "\n",
      ">>> from sklearn.cluster import KMeans\n",
      ">>> import numpy as np\n",
      ">>> X = np.array([[1, 2], [1, 4], [1, 0],\n",
      "...               [10, 2], [10, 4], [10, 0]])\n",
      ">>> kmeans = KMeans(n_clusters=2, random_state=0, n_init=\"auto\").fit(X)\n",
      ">>> kmeans.labels_\n",
      "array([1, 1, 1, 0, 0, 0], dtype=int32)\n",
      ">>> kmeans.predict([[0, 0], [12, 3]])\n",
      "array([1, 0], dtype=int32)\n",
      ">>> kmeans.cluster_centers_\n",
      "array([[10.,  2.],\n",
      "       [ 1.,  2.]])\n"
     ]
    }
   ],
   "source": [
    "kmeans=KMeans(n_clusters=4)\n",
    "?kmeans"
   ]
  },
  {
   "cell_type": "markdown",
   "metadata": {},
   "source": [
    "-------\n",
    "Parametreler:\n",
    "n_clusters belirleyeceğimiz merkez sayısı(küme sayısı da diyebilirsin)\n",
    "n_init merkez uzaklığı belirleme işleminin kaç kez tekrar edileceği\n"
   ]
  },
  {
   "cell_type": "code",
   "execution_count": 112,
   "metadata": {},
   "outputs": [
    {
     "data": {
      "text/plain": [
       "4"
      ]
     },
     "execution_count": 112,
     "metadata": {},
     "output_type": "execute_result"
    }
   ],
   "source": [
    "k_fit=kmeans.fit(df)\n",
    "k_fit.n_clusters"
   ]
  },
  {
   "cell_type": "code",
   "execution_count": 113,
   "metadata": {},
   "outputs": [
    {
     "data": {
      "text/plain": [
       "array([[ 11.8125    , 272.5625    ,  68.3125    ,  28.375     ],\n",
       "       [  5.59      , 112.4       ,  65.6       ,  17.27      ],\n",
       "       [  8.21428571, 173.28571429,  70.64285714,  22.84285714],\n",
       "       [  2.95      ,  62.7       ,  53.9       ,  11.51      ]])"
      ]
     },
     "execution_count": 113,
     "metadata": {},
     "output_type": "execute_result"
    }
   ],
   "source": [
    "k_fit.cluster_centers_"
   ]
  },
  {
   "cell_type": "code",
   "execution_count": 114,
   "metadata": {},
   "outputs": [
    {
     "data": {
      "text/plain": [
       "array([0, 0, 0, 2, 0, 2, 1, 0, 0, 2, 3, 1, 0, 1, 3, 1, 1, 0, 3, 0, 2, 0,\n",
       "       3, 0, 2, 1, 1, 0, 3, 2, 0, 0, 0, 3, 1, 2, 2, 1, 2, 0, 3, 2, 2, 1,\n",
       "       3, 2, 2, 3, 3, 2], dtype=int32)"
      ]
     },
     "execution_count": 114,
     "metadata": {},
     "output_type": "execute_result"
    }
   ],
   "source": [
    "k_fit.labels_"
   ]
  },
  {
   "cell_type": "code",
   "execution_count": 96,
   "metadata": {},
   "outputs": [],
   "source": [
    "# hocam göreselleştirmek için değişken sayısını indeirgeme gerekiyor üç küme var iki boyutta nasıl ifade edicez\n",
    "# had, üç boyut için iç boyutlu grafik kullan ee daha çok boyutlu olursa o zaman da boyut indirgemeye gidibilirsin ama\n",
    "# onunla uğraşmak istemiyorum o yüzden görselleştirme kısmın agirmiyorum hiç"
   ]
  },
  {
   "cell_type": "code",
   "execution_count": 115,
   "metadata": {},
   "outputs": [
    {
     "data": {
      "text/html": [
       "<div>\n",
       "<style scoped>\n",
       "    .dataframe tbody tr th:only-of-type {\n",
       "        vertical-align: middle;\n",
       "    }\n",
       "\n",
       "    .dataframe tbody tr th {\n",
       "        vertical-align: top;\n",
       "    }\n",
       "\n",
       "    .dataframe thead th {\n",
       "        text-align: right;\n",
       "    }\n",
       "</style>\n",
       "<table border=\"1\" class=\"dataframe\">\n",
       "  <thead>\n",
       "    <tr style=\"text-align: right;\">\n",
       "      <th></th>\n",
       "      <th>Eyaletler</th>\n",
       "      <th>Kumeler</th>\n",
       "    </tr>\n",
       "  </thead>\n",
       "  <tbody>\n",
       "    <tr>\n",
       "      <th>0</th>\n",
       "      <td>Alabama</td>\n",
       "      <td>0</td>\n",
       "    </tr>\n",
       "    <tr>\n",
       "      <th>1</th>\n",
       "      <td>Alaska</td>\n",
       "      <td>0</td>\n",
       "    </tr>\n",
       "    <tr>\n",
       "      <th>2</th>\n",
       "      <td>Arizona</td>\n",
       "      <td>0</td>\n",
       "    </tr>\n",
       "    <tr>\n",
       "      <th>3</th>\n",
       "      <td>Arkansas</td>\n",
       "      <td>2</td>\n",
       "    </tr>\n",
       "    <tr>\n",
       "      <th>4</th>\n",
       "      <td>California</td>\n",
       "      <td>0</td>\n",
       "    </tr>\n",
       "    <tr>\n",
       "      <th>5</th>\n",
       "      <td>Colorado</td>\n",
       "      <td>2</td>\n",
       "    </tr>\n",
       "    <tr>\n",
       "      <th>6</th>\n",
       "      <td>Connecticut</td>\n",
       "      <td>1</td>\n",
       "    </tr>\n",
       "    <tr>\n",
       "      <th>7</th>\n",
       "      <td>Delaware</td>\n",
       "      <td>0</td>\n",
       "    </tr>\n",
       "    <tr>\n",
       "      <th>8</th>\n",
       "      <td>Florida</td>\n",
       "      <td>0</td>\n",
       "    </tr>\n",
       "    <tr>\n",
       "      <th>9</th>\n",
       "      <td>Georgia</td>\n",
       "      <td>2</td>\n",
       "    </tr>\n",
       "  </tbody>\n",
       "</table>\n",
       "</div>"
      ],
      "text/plain": [
       "     Eyaletler  Kumeler\n",
       "0      Alabama        0\n",
       "1       Alaska        0\n",
       "2      Arizona        0\n",
       "3     Arkansas        2\n",
       "4   California        0\n",
       "5     Colorado        2\n",
       "6  Connecticut        1\n",
       "7     Delaware        0\n",
       "8      Florida        0\n",
       "9      Georgia        2"
      ]
     },
     "execution_count": 115,
     "metadata": {},
     "output_type": "execute_result"
    }
   ],
   "source": [
    "# hangi eyalet hangi kümede diye öğrenmek istersek. ki isteyelim :))\n",
    "kumeler = k_fit.labels_\n",
    "pd.DataFrame({\"Eyaletler\" : df.index, \"Kumeler\": kumeler})[0:10]"
   ]
  },
  {
   "cell_type": "code",
   "execution_count": 116,
   "metadata": {},
   "outputs": [
    {
     "data": {
      "text/html": [
       "<div>\n",
       "<style scoped>\n",
       "    .dataframe tbody tr th:only-of-type {\n",
       "        vertical-align: middle;\n",
       "    }\n",
       "\n",
       "    .dataframe tbody tr th {\n",
       "        vertical-align: top;\n",
       "    }\n",
       "\n",
       "    .dataframe thead th {\n",
       "        text-align: right;\n",
       "    }\n",
       "</style>\n",
       "<table border=\"1\" class=\"dataframe\">\n",
       "  <thead>\n",
       "    <tr style=\"text-align: right;\">\n",
       "      <th></th>\n",
       "      <th>Murder</th>\n",
       "      <th>Assault</th>\n",
       "      <th>UrbanPop</th>\n",
       "      <th>Rape</th>\n",
       "      <th>kume_no</th>\n",
       "    </tr>\n",
       "  </thead>\n",
       "  <tbody>\n",
       "    <tr>\n",
       "      <th>Alabama</th>\n",
       "      <td>13.2</td>\n",
       "      <td>236</td>\n",
       "      <td>58</td>\n",
       "      <td>21.2</td>\n",
       "      <td>1</td>\n",
       "    </tr>\n",
       "    <tr>\n",
       "      <th>Alaska</th>\n",
       "      <td>10.0</td>\n",
       "      <td>263</td>\n",
       "      <td>48</td>\n",
       "      <td>44.5</td>\n",
       "      <td>1</td>\n",
       "    </tr>\n",
       "    <tr>\n",
       "      <th>Arizona</th>\n",
       "      <td>8.1</td>\n",
       "      <td>294</td>\n",
       "      <td>80</td>\n",
       "      <td>31.0</td>\n",
       "      <td>1</td>\n",
       "    </tr>\n",
       "    <tr>\n",
       "      <th>Arkansas</th>\n",
       "      <td>8.8</td>\n",
       "      <td>190</td>\n",
       "      <td>50</td>\n",
       "      <td>19.5</td>\n",
       "      <td>3</td>\n",
       "    </tr>\n",
       "  </tbody>\n",
       "</table>\n",
       "</div>"
      ],
      "text/plain": [
       "          Murder  Assault  UrbanPop  Rape  kume_no\n",
       "Alabama     13.2      236        58  21.2        1\n",
       "Alaska      10.0      263        48  44.5        1\n",
       "Arizona      8.1      294        80  31.0        1\n",
       "Arkansas     8.8      190        50  19.5        3"
      ]
     },
     "execution_count": 116,
     "metadata": {},
     "output_type": "execute_result"
    }
   ],
   "source": [
    "df[\"kume_no\"]=kumeler\n",
    "df[\"kume_no\"]=df[\"kume_no\"]+1\n",
    "df[0:4]"
   ]
  },
  {
   "cell_type": "code",
   "execution_count": 117,
   "metadata": {},
   "outputs": [
    {
     "data": {
      "text/plain": [
       "1    16\n",
       "3    14\n",
       "2    10\n",
       "4    10\n",
       "Name: kume_no, dtype: int64"
      ]
     },
     "execution_count": 117,
     "metadata": {},
     "output_type": "execute_result"
    }
   ],
   "source": [
    "df[\"kume_no\"].value_counts()"
   ]
  },
  {
   "cell_type": "code",
   "execution_count": 126,
   "metadata": {},
   "outputs": [
    {
     "data": {
      "text/plain": [
       "<AxesSubplot: >"
      ]
     },
     "execution_count": 126,
     "metadata": {},
     "output_type": "execute_result"
    },
    {
     "data": {
      "image/png": "[encoded data removed]",
      "text/plain": [
       "<Figure size 1000x500 with 1 Axes>"
      ]
     },
     "metadata": {},
     "output_type": "display_data"
    }
   ],
   "source": [
    "#kümelerdeki eyalet sayısı\n",
    "plt.figure(figsize=(10,5))\n",
    "df[\"kume_no\"].value_counts().plot.barh()"
   ]
  },
  {
   "cell_type": "code",
   "execution_count": 125,
   "metadata": {},
   "outputs": [
    {
     "data": {
      "image/png": "[encoded data removed]",
      "text/plain": [
       "<Figure size 300x1000 with 1 Axes>"
      ]
     },
     "metadata": {},
     "output_type": "display_data"
    }
   ],
   "source": [
    "#hangi eyalet hangi kümede görselleştirerek görelim\n",
    "sns.scatterplot(y=df.index, x=df[\"kume_no\"], hue=df[\"kume_no\"], data=df)\n",
    "sns.set(rc={'figure.figsize':(3,10)})"
   ]
  },
  {
   "cell_type": "code",
   "execution_count": null,
   "metadata": {},
   "outputs": [],
   "source": []
  },
  {
   "cell_type": "code",
   "execution_count": null,
   "metadata": {},
   "outputs": [],
   "source": []
  }
 ],
 "metadata": {
  "kernelspec": {
   "display_name": "Python 3.9.6 64-bit",
   "language": "python",
   "name": "python3"
  },
  "language_info": {
   "codemirror_mode": {
    "name": "ipython",
    "version": 3
   },
   "file_extension": ".py",
   "mimetype": "text/x-python",
   "name": "python",
   "nbconvert_exporter": "python",
   "pygments_lexer": "ipython3",
   "version": "3.9.6"
  },
  "orig_nbformat": 4,
  "vscode": {
   "interpreter": {
    "hash": "31f2aee4e71d21fbe5cf8b01ff0e069b9275f58929596ceb00d14d90e3e16cd6"
   }
  }
 },
 "nbformat": 4,
 "nbformat_minor": 2
}
