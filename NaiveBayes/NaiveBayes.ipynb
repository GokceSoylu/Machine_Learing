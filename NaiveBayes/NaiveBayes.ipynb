{
 "cells": [
  {
   "cell_type": "markdown",
   "metadata": {},
   "source": [
    "# Naive Bayes\n",
    "\n",
    "Olasılık temelli bir hesaplama tekniğidir.\n",
    "\n",
    "Amaç belirli bir örneğin her bir sınıfa ait olma olasılığının koşullu olasılık temelli hesaplanmasıdır.\n",
    "\n",
    "Not: data da değişken sınıfı çoksa ve bunlar etkili etkili olduğu için indirgeyemiyorsak birde bu değişknelerden neredeyse yasısı\n",
    "süreksiz değişknese(kategoric) güzel çalışan bir algoritmadir. Bu şekilde bir data seet varsa elinde kullanman gğzel olur.\n",
    "\n"
   ]
  },
  {
   "cell_type": "code",
   "execution_count": null,
   "metadata": {},
   "outputs": [],
   "source": []
  }
 ],
 "metadata": {
  "language_info": {
   "name": "python"
  },
  "orig_nbformat": 4
 },
 "nbformat": 4,
 "nbformat_minor": 2
}
