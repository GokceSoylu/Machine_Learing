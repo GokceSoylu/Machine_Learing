{
 "cells": [
  {
   "cell_type": "markdown",
   "metadata": {},
   "source": [
    "# Bagging"
   ]
  },
  {
   "cell_type": "markdown",
   "metadata": {},
   "source": [
    "* Temeli bootstrap yöntemi ile oluşturulan birden fazla karar ağacının\n",
    "ürettiği tahminlerin bir araya getirilerek değerlendirilmesine dayanır"
   ]
  },
  {
   "cell_type": "markdown",
   "metadata": {},
   "source": [
    "* veri setinden bir parça gözlem seti çekilerek bir karar ağacı oluşturulur. Bu işlem tekrarlanarak T adet karar ağacı oluşturulur\n",
    "* Karar ağaçalrı oluşturma işleminde veri setinin her parçasının seçilme olasılığı eşittir. \n",
    "* ayrıca oluşturulan ağaçaların daha önceki ağaçlarla bağlantısı yoktur\n",
    "* oluşturulan T adet karar ağacından gelen t adet tahmin bir araya getirilerek model tahmini oluşturulur\n",
    "* Çekilen ağaçların 2/3'ü ağaçları oluşturulması için gerisi ağaçların test edilmesi içn kullanılır\n",
    "* CART a göre aşırı öğrenme sorunu girderilmiştir\n",
    " "
   ]
  },
  {
   "cell_type": "markdown",
   "metadata": {},
   "source": [
    "# Model"
   ]
  },
  {
   "cell_type": "code",
   "execution_count": 75,
   "metadata": {},
   "outputs": [],
   "source": [
    "import numpy as np\n",
    "import pandas as pd \n",
    "from sklearn.model_selection import train_test_split, GridSearchCV,cross_val_score\n",
    "from sklearn.metrics import mean_squared_error, r2_score\n",
    "import matplotlib.pyplot as plt\n",
    "from sklearn.preprocessing import scale \n",
    "from sklearn import model_selection\n",
    "from sklearn.tree import DecisionTreeRegressor, DecisionTreeClassifier\n",
    "from sklearn.neighbors import KNeighborsRegressor\n",
    "from sklearn.ensemble import BaggingRegressor\n",
    "\n",
    "from warnings import filterwarnings\n",
    "filterwarnings('ignore')"
   ]
  },
  {
   "cell_type": "code",
   "execution_count": 76,
   "metadata": {},
   "outputs": [],
   "source": [
    "hit = pd.read_csv(\"Hitters.csv\")\n",
    "df = hit.copy()\n",
    "df = df.dropna()\n",
    "dms = pd.get_dummies(df[['League', 'Division', 'NewLeague']])\n",
    "y = df[\"Salary\"]\n",
    "X_ = df.drop(['Salary', 'League', 'Division', 'NewLeague'], axis=1).astype('float64')\n",
    "X = pd.concat([X_, dms[['League_N', 'Division_W', 'NewLeague_N']]], axis=1)\n",
    "X_train, X_test, y_train, y_test = train_test_split(X, y, \n",
    "                                                    test_size=0.25, \n",
    "                                                    random_state=42)"
   ]
  },
  {
   "cell_type": "code",
   "execution_count": 77,
   "metadata": {},
   "outputs": [
    {
     "data": {
      "text/html": [
       "<style>#sk-container-id-13 {color: black;background-color: white;}#sk-container-id-13 pre{padding: 0;}#sk-container-id-13 div.sk-toggleable {background-color: white;}#sk-container-id-13 label.sk-toggleable__label {cursor: pointer;display: block;width: 100%;margin-bottom: 0;padding: 0.3em;box-sizing: border-box;text-align: center;}#sk-container-id-13 label.sk-toggleable__label-arrow:before {content: \"▸\";float: left;margin-right: 0.25em;color: #696969;}#sk-container-id-13 label.sk-toggleable__label-arrow:hover:before {color: black;}#sk-container-id-13 div.sk-estimator:hover label.sk-toggleable__label-arrow:before {color: black;}#sk-container-id-13 div.sk-toggleable__content {max-height: 0;max-width: 0;overflow: hidden;text-align: left;background-color: #f0f8ff;}#sk-container-id-13 div.sk-toggleable__content pre {margin: 0.2em;color: black;border-radius: 0.25em;background-color: #f0f8ff;}#sk-container-id-13 input.sk-toggleable__control:checked~div.sk-toggleable__content {max-height: 200px;max-width: 100%;overflow: auto;}#sk-container-id-13 input.sk-toggleable__control:checked~label.sk-toggleable__label-arrow:before {content: \"▾\";}#sk-container-id-13 div.sk-estimator input.sk-toggleable__control:checked~label.sk-toggleable__label {background-color: #d4ebff;}#sk-container-id-13 div.sk-label input.sk-toggleable__control:checked~label.sk-toggleable__label {background-color: #d4ebff;}#sk-container-id-13 input.sk-hidden--visually {border: 0;clip: rect(1px 1px 1px 1px);clip: rect(1px, 1px, 1px, 1px);height: 1px;margin: -1px;overflow: hidden;padding: 0;position: absolute;width: 1px;}#sk-container-id-13 div.sk-estimator {font-family: monospace;background-color: #f0f8ff;border: 1px dotted black;border-radius: 0.25em;box-sizing: border-box;margin-bottom: 0.5em;}#sk-container-id-13 div.sk-estimator:hover {background-color: #d4ebff;}#sk-container-id-13 div.sk-parallel-item::after {content: \"\";width: 100%;border-bottom: 1px solid gray;flex-grow: 1;}#sk-container-id-13 div.sk-label:hover label.sk-toggleable__label {background-color: #d4ebff;}#sk-container-id-13 div.sk-serial::before {content: \"\";position: absolute;border-left: 1px solid gray;box-sizing: border-box;top: 0;bottom: 0;left: 50%;z-index: 0;}#sk-container-id-13 div.sk-serial {display: flex;flex-direction: column;align-items: center;background-color: white;padding-right: 0.2em;padding-left: 0.2em;position: relative;}#sk-container-id-13 div.sk-item {position: relative;z-index: 1;}#sk-container-id-13 div.sk-parallel {display: flex;align-items: stretch;justify-content: center;background-color: white;position: relative;}#sk-container-id-13 div.sk-item::before, #sk-container-id-13 div.sk-parallel-item::before {content: \"\";position: absolute;border-left: 1px solid gray;box-sizing: border-box;top: 0;bottom: 0;left: 50%;z-index: -1;}#sk-container-id-13 div.sk-parallel-item {display: flex;flex-direction: column;z-index: 1;position: relative;background-color: white;}#sk-container-id-13 div.sk-parallel-item:first-child::after {align-self: flex-end;width: 50%;}#sk-container-id-13 div.sk-parallel-item:last-child::after {align-self: flex-start;width: 50%;}#sk-container-id-13 div.sk-parallel-item:only-child::after {width: 0;}#sk-container-id-13 div.sk-dashed-wrapped {border: 1px dashed gray;margin: 0 0.4em 0.5em 0.4em;box-sizing: border-box;padding-bottom: 0.4em;background-color: white;}#sk-container-id-13 div.sk-label label {font-family: monospace;font-weight: bold;display: inline-block;line-height: 1.2em;}#sk-container-id-13 div.sk-label-container {text-align: center;}#sk-container-id-13 div.sk-container {/* jupyter's `normalize.less` sets `[hidden] { display: none; }` but bootstrap.min.css set `[hidden] { display: none !important; }` so we also need the `!important` here to be able to override the default hidden behavior on the sphinx rendered scikit-learn.org. See: https://github.com/scikit-learn/scikit-learn/issues/21755 */display: inline-block !important;position: relative;}#sk-container-id-13 div.sk-text-repr-fallback {display: none;}</style><div id=\"sk-container-id-13\" class=\"sk-top-container\"><div class=\"sk-text-repr-fallback\"><pre>BaggingRegressor(bootstrap_features=True)</pre><b>In a Jupyter environment, please rerun this cell to show the HTML representation or trust the notebook. <br />On GitHub, the HTML representation is unable to render, please try loading this page with nbviewer.org.</b></div><div class=\"sk-container\" hidden><div class=\"sk-item\"><div class=\"sk-estimator sk-toggleable\"><input class=\"sk-toggleable__control sk-hidden--visually\" id=\"sk-estimator-id-13\" type=\"checkbox\" checked><label for=\"sk-estimator-id-13\" class=\"sk-toggleable__label sk-toggleable__label-arrow\">BaggingRegressor</label><div class=\"sk-toggleable__content\"><pre>BaggingRegressor(bootstrap_features=True)</pre></div></div></div></div></div>"
      ],
      "text/plain": [
       "BaggingRegressor(bootstrap_features=True)"
      ]
     },
     "execution_count": 77,
     "metadata": {},
     "output_type": "execute_result"
    }
   ],
   "source": [
    "bag=BaggingRegressor(bootstrap_features=True)\n",
    "bag.fit(X_train,y_train)"
   ]
  },
  {
   "cell_type": "code",
   "execution_count": 78,
   "metadata": {},
   "outputs": [
    {
     "data": {
      "text/plain": [
       "10"
      ]
     },
     "execution_count": 78,
     "metadata": {},
     "output_type": "execute_result"
    }
   ],
   "source": [
    "bag.n_estimators#ağaç sayıusı"
   ]
  },
  {
   "cell_type": "code",
   "execution_count": 79,
   "metadata": {},
   "outputs": [
    {
     "data": {
      "text/plain": [
       "[DecisionTreeRegressor(random_state=1147578142),\n",
       " DecisionTreeRegressor(random_state=549197831),\n",
       " DecisionTreeRegressor(random_state=810512976),\n",
       " DecisionTreeRegressor(random_state=2020617360),\n",
       " DecisionTreeRegressor(random_state=602390298),\n",
       " DecisionTreeRegressor(random_state=270134607),\n",
       " DecisionTreeRegressor(random_state=706751308),\n",
       " DecisionTreeRegressor(random_state=2091323852),\n",
       " DecisionTreeRegressor(random_state=65736456),\n",
       " DecisionTreeRegressor(random_state=401371610)]"
      ]
     },
     "execution_count": 79,
     "metadata": {},
     "output_type": "execute_result"
    }
   ],
   "source": [
    "bag.estimators_#ağaçlar"
   ]
  },
  {
   "cell_type": "code",
   "execution_count": 80,
   "metadata": {},
   "outputs": [
    {
     "data": {
      "text/plain": [
       "[array([177,  36,  76,  66,  80,  42, 189,  32, 123,  21, 102, 124, 103,\n",
       "        179, 125,  52, 179,  50, 121,  27,  10,  51, 153, 119, 164, 152,\n",
       "        194, 166, 184, 113,  15,  15, 110,  79, 152, 113,  21,  49,  94,\n",
       "        188, 112,  52,  11,  26,  68,   3, 165, 111,  92,   5,  67, 141,\n",
       "         34, 114, 131, 187, 176, 171,  49,  72,  96,  56, 158, 166, 124,\n",
       "        119, 144, 116, 119, 115,   0,  99, 184, 141,  54,  86, 184, 170,\n",
       "         65, 163, 125, 120,  69, 157, 106,  29,  88, 107, 141,  64,  78,\n",
       "         47,  56, 145,  69, 186, 116,  98, 130,  35, 148, 110, 109,  32,\n",
       "         51, 121, 152,  85, 183,  89, 123,  29,  56,  52, 174,  89, 109,\n",
       "        114, 190, 177,  28, 184,  50,  32,  64,  19,  84, 101,  79,  59,\n",
       "          0, 171,  98,   0,  66, 156,  62,  58, 160,  58, 182,  69,   9,\n",
       "        184,   7, 163, 171, 170, 168,  54,  31,  55, 148,  91,  39, 157,\n",
       "         25, 106,  28,  47,   1,  81,  61,  81,  23,  78, 121,  27, 136,\n",
       "        140, 157, 166,  41,  63, 128,   7,  98, 129,  65,  38, 104, 165,\n",
       "        156, 184, 143,  15,   1,  92,  73, 100, 124, 145,  73,  92, 151,\n",
       "         10, 152]),\n",
       " array([111,  69, 146,  79, 144,  46, 103,  62,  73,  64,  17,  42,  74,\n",
       "         26,  33, 162, 157, 156, 145,  69, 140, 164, 162,  76, 155, 181,\n",
       "         98,  75, 170, 143, 165, 182, 196,  18,  54,  79, 105,  21,  58,\n",
       "        114, 124, 127, 132,  66,  34, 120,  10,  88,  14,  61, 184, 163,\n",
       "        196, 110, 133, 111,  74, 182, 114,  18, 144, 109,   9,  56,  94,\n",
       "         68,  18, 148, 182,  59, 148, 190,  24,  62, 141, 127,  47, 157,\n",
       "        146,  72, 162,  55, 156, 113,  49, 186, 194, 188,  93,  56, 175,\n",
       "        146,  46,  28, 107,  54,  53,  11, 135, 194,  85,  68,  20, 177,\n",
       "         31,  42, 155,  84, 107,  49, 193,  89, 147, 103, 187, 176,  67,\n",
       "         46, 175, 177, 147,   5, 101, 152, 182, 163,  61, 124, 150,   7,\n",
       "        152,   9, 170, 107, 169, 164, 142,  15, 187,  11,  52, 160, 143,\n",
       "        196,  59, 190,  70,  51,  38,  13,  19, 179, 124, 112,  72, 108,\n",
       "        130, 162,  34, 137, 103,  39, 153,  11, 145, 163,  13,  47, 125,\n",
       "        187,  51, 153, 123, 135, 167,  48, 133, 183, 100,  90,  48,  13,\n",
       "        157, 190, 144,  82,  46,  56, 174, 121, 158, 179,  39,   6,  78,\n",
       "         87, 148]),\n",
       " array([107, 171,  16, 155, 132,  97,  10, 128, 188, 119, 187, 169,  23,\n",
       "        190, 171, 107, 194, 149, 172, 182,  18, 102,  83,  85,  81, 178,\n",
       "         51,  61,  11,  44, 122,  86,  90, 161,  43, 156, 165, 158, 142,\n",
       "        112, 130, 166,   0,  64,  17, 149,  20, 190,  58, 155, 149, 117,\n",
       "         24,  16,  14, 145,   1,  63,  59,  15, 153, 124, 172,  77, 134,\n",
       "        162, 155, 106, 102,  88,  20,  81,  32, 149, 175,  90, 137, 143,\n",
       "         38,   2,  78,   0,  39,  99,  12,  86,  79,  28, 173, 195, 188,\n",
       "        141, 125, 153, 115,  20,  63, 142, 157,  25, 157,  56,  18, 119,\n",
       "          6, 113, 116,  60, 168, 113,  69,  97, 127,  48, 156, 131, 103,\n",
       "         96, 120,  54,  40, 149, 133,  11,  65, 166,  78,  68, 145,  61,\n",
       "        129, 110, 112, 167,  24,   3, 156,  53, 122, 102, 167,  84, 121,\n",
       "        102, 107, 145, 137, 116,   7, 119,  79,  92, 148, 115, 162,   4,\n",
       "         24, 157, 103,  98, 182,  46,  22,  58,  10, 157,  95,  34, 128,\n",
       "         53,  22,  29,  56,  22,  27, 121, 128,  52,  71, 174, 186,  54,\n",
       "        168,   2,  84, 109, 153,  89, 162, 177, 190, 172,  40,  82,  79,\n",
       "         15,   4]),\n",
       " array([ 84, 146, 166, 174, 196, 194, 121,  72,  47, 183,  34,  96, 183,\n",
       "         74, 106, 139,  37, 126,   5,  38,  23,  22, 101,  18,  59,  81,\n",
       "         25,  30,  40, 128, 130,  90, 195, 149,  29,  68, 111,  14,  92,\n",
       "         93, 123, 131, 169,  63,  56,  20,   4, 119, 185,  82, 187,  50,\n",
       "        164, 106, 176,  80, 106, 159, 161,  54,  36, 145,  26,  56,  26,\n",
       "        195,  79, 123,  86, 129,  36,  57, 167,  97, 106, 118,  46, 129,\n",
       "         39, 184, 146, 159,  20,  98, 189,  38, 180, 191, 139,  21,  11,\n",
       "         51,  99,  15,  92, 175,  13,  34,  68, 123,  45,  63, 157,   7,\n",
       "         10,  99,  15, 152, 191,  91, 192, 136,  67,   6, 155,  26,  52,\n",
       "         57, 179, 127, 178, 100,  79,  60,  74, 104, 157,  76,   4,   7,\n",
       "         21, 106, 100, 100,  87,  44,  74, 170, 101,   6, 179,   6,  81,\n",
       "         24, 156, 137, 122,  76, 188, 106,  10,  54, 106, 184, 149, 141,\n",
       "         22, 126,  20,  38,  92,  52, 166,  34,  56, 156, 130, 105, 156,\n",
       "         38, 102,  80, 180,  68, 190,  66,  11,  38, 124, 139, 138, 165,\n",
       "        183, 134,  11, 165,  20, 140,  45,  83,  60, 112, 142, 127,   9,\n",
       "         85,  18]),\n",
       " array([ 55, 192,  34,  53, 143, 170, 132, 108, 117,  72,  74,  87,  11,\n",
       "         40, 188,  96,  18,  68,  30, 153, 153,  69,  14,  54,  51, 160,\n",
       "        187, 118,  45,  35,   3,  29, 191,  95, 163, 128,  71, 195, 124,\n",
       "         99,  21,  69,  14, 181, 148, 171,  38,  55, 103, 136, 175,  96,\n",
       "         69,  95, 116, 170, 167,  35,  47, 189,  86,  89,  40, 182,  43,\n",
       "        172, 171, 184, 191,  80,  72,  88,  57,  68,  36, 196, 174, 158,\n",
       "         13,  74, 139,  96,  76, 190,   2, 163, 184, 121,  82, 152, 165,\n",
       "         39, 142, 120,  43,   3,  53,  34, 192, 152,  63, 137,  35,  74,\n",
       "         22, 104,  22, 106,  68, 163,  11,  54,  60, 192, 143, 178, 102,\n",
       "         44,  44,  87, 175,  74,  35,  51, 190, 157,  24,  87,  92,  98,\n",
       "         79, 196, 171,  41, 145,  59, 104,  84,  51, 103,  23,  58,  14,\n",
       "        189,  67,  90,  97,  39, 109, 148,  92, 123, 162,  46, 170,  77,\n",
       "        140,  90,  35, 171,  81,  44, 119, 118,  86,  80, 157, 127,  95,\n",
       "         58, 155, 176,  39,  17, 122, 144, 176,  50, 133, 181,  28, 175,\n",
       "        109, 115, 109, 141, 112,  39, 143, 159, 161, 177,  40,  38,  58,\n",
       "        153,  45]),\n",
       " array([110,  38, 170, 190,  31, 109,   9,  36,  77, 168, 101,  15, 124,\n",
       "         96, 196,  99, 163,  93,  82,  25,  78,  63,  67, 191, 114, 122,\n",
       "        145, 129, 142,  22,  36,  80,  24, 112,  18,  83,  49,  29,  24,\n",
       "         20,  57, 124,  92,  29, 169, 155,  18,  47, 189, 119,  86, 133,\n",
       "        132, 186, 172, 179, 162,  89, 123, 133,  14, 152,  30,  91, 131,\n",
       "         44,  39, 151, 105, 109, 121,  51,  91, 180, 171, 187,  43,  37,\n",
       "         38,  68,  64,  27, 142, 104,   9, 139, 189,  28, 172, 120, 167,\n",
       "        102, 157,  98,  21,  34, 141,  58,  31,  28,  26, 120,   1, 129,\n",
       "         56,  82, 151,  14, 164,  23, 171, 112, 140, 195, 130, 185,  56,\n",
       "        179,   9, 143, 147, 147,  61, 109,  57, 132, 172,  64, 103, 102,\n",
       "        195, 155,  17,  69, 182,  79, 187,  18,   8, 132, 119, 133,  53,\n",
       "         24, 188,   5,  22,  91, 190,  37, 178, 154,  42, 171,   5,  56,\n",
       "        182,  64, 126,   1,   9, 106, 151, 142, 162, 137, 107,  31,  55,\n",
       "         90, 140, 155, 156, 150,  32, 176,  53, 189,  25, 154, 177,  93,\n",
       "         11, 112, 139, 135,  14,  55, 152,  97,  51,  45, 128, 164,  17,\n",
       "        147, 119]),\n",
       " array([138, 113,  83,  27,  10, 125,  24, 126,  18, 157,  50,  50, 163,\n",
       "          7,  26, 118,   3,  18, 139, 136, 128,  10,  39,  10, 127,  39,\n",
       "         14, 176,  31,   3, 114,  14,  83, 146, 102,  27, 194,   8,  11,\n",
       "        147,  71, 128, 173,  72,  86,   8,   9,  44, 127, 129,  93,  65,\n",
       "        114,  39, 140,  35, 162, 163,  97, 100,  21, 185,   8, 116,  47,\n",
       "        179, 179,  50,  88,  83,  48, 196,  37, 160, 108, 121, 164,  56,\n",
       "          6, 165, 146,  24, 136, 145,  87,   7,  93, 128,  35,  49,  83,\n",
       "         92,  36,  49, 155,  93, 144,   3, 169,  18,  22, 179,  29,  70,\n",
       "         84,  12, 100, 103,  76, 106, 192, 190,   9, 148,  14,   0, 114,\n",
       "        192,  67, 170,  77,  75, 132, 166,  56, 125, 131,  65, 191,  50,\n",
       "         33, 174,  17, 135,  27, 156, 180,   5,  28,  53,  63,  28, 143,\n",
       "        155, 139,  25,  25, 179, 104, 127, 117, 178, 154, 107,  53, 102,\n",
       "        154, 169, 139, 159, 166, 158,  44,  17,  52, 148, 156, 141, 101,\n",
       "         38, 130,   7, 185, 100, 143,  36, 173,  69,  39,  30,  96, 121,\n",
       "        174,  47,  13,  32, 170,  82, 186, 158, 144, 105,  15,  10,  19,\n",
       "        107, 186]),\n",
       " array([ 66,  70, 181, 131,   3,  48,  10, 137, 102, 160,  95, 195,  69,\n",
       "        100, 176,  87,  61, 121,  59,  45,  33, 190, 138,  97, 108,   9,\n",
       "         92,  27,  24, 194,  29, 142, 181, 131,  63,  76,  91,  98,  21,\n",
       "        193,  43,  49, 139,  49, 179,  15,  33, 140, 177,  14,  17, 179,\n",
       "         96,  63,   3, 140,  49, 130,  15, 110,  29,  46,  29,   9,   6,\n",
       "        166,  47, 100, 138, 106, 150,  51, 136, 189, 125,  87, 171, 185,\n",
       "        126, 177,  99,  93,  46,  44, 193, 105,  50,  60, 164,  26, 137,\n",
       "        189, 181,   1, 154,  96, 126,  10, 141,  64,  53,  54,  46, 169,\n",
       "         22,  83, 147, 109, 134, 180, 173, 154,   7,  62,  93, 168,   4,\n",
       "        184, 196,  78, 155, 150,  91, 160, 130, 144,  15,  78,  87, 143,\n",
       "         38,  42,  44, 139,  30, 152, 171, 196,  37, 184, 154, 105,  34,\n",
       "         91,   6, 104, 194, 161,  90, 185,  54,  48,  85,  34,   3,  71,\n",
       "         35,  40,  30, 181, 166,  69, 125, 169, 121, 195,  58,  50, 101,\n",
       "         72,   4, 126,  31, 140,  59,  41,  81,  95,  61, 108, 142,  83,\n",
       "         18,  75,  89,  14, 158,  54,  41, 101, 171,  95, 122, 188,  58,\n",
       "         29,  80]),\n",
       " array([ 67,  63, 103,  21, 163,  90, 126,  96, 166,  73, 166, 192,  10,\n",
       "        143, 113,  25,  31,  30,  77,  59, 138, 192, 100, 194,  54, 109,\n",
       "        159,  12, 155,  71,  80,  80, 135,  15,  47,  28,  58,  60,  76,\n",
       "         14, 104, 140,  27, 161,  89,  22,  67,  67, 104,  93, 136, 186,\n",
       "          2, 182,   6, 149,  15, 192,   3, 128,  20,  15, 116, 104,  88,\n",
       "        161,  58, 183,  52, 163, 151,  73,  72,  54,  13,  56, 125,  99,\n",
       "         74, 160,  37, 142, 160,  24,  29,  44,  18,  37,  95, 134,  23,\n",
       "        151,  92, 115, 101, 152,  29,  20,  53,  82,  28, 172,   3,  82,\n",
       "         56,  97, 184, 126, 122, 168, 165, 126, 131, 104, 129,  61, 141,\n",
       "        181,  56, 165, 119, 153,  34, 115,  92, 166, 171,  19,  42, 131,\n",
       "        172, 180, 164, 102, 173, 113,  31, 191,  53,  36,   8,  56,  41,\n",
       "         50, 160, 172,  16, 104, 103,  32, 126, 188,  73,  55, 193, 134,\n",
       "        186,  44, 138,  61, 100,  53,  15, 140,  48,  70, 163, 194,  43,\n",
       "         10, 146, 190, 184, 154, 125,  71, 138,  48,  53,  29,  96, 183,\n",
       "        180, 106,  12,  63,  16, 180, 137, 159,  20, 155, 166, 107, 119,\n",
       "        192, 169]),\n",
       " array([ 65,  68, 180,   9, 116, 185,  80, 114, 108, 158, 105, 191,  75,\n",
       "         96,  92, 106,  98, 133, 138,  78,  75, 154,  29, 182, 112,  51,\n",
       "         40,  53, 115, 122, 162,  50, 161,   1, 190, 150,  25,  65, 116,\n",
       "        140, 114,  51,  20, 151,  34,  93,  85, 188,  14, 184, 180,  37,\n",
       "         33,  27,  56, 152,  78,  15, 163, 150,   2,   9, 114,  11,   4,\n",
       "         54,  46,  91,  37,  42, 112, 139, 106,  41, 145,  34,  10,  10,\n",
       "        115, 156, 116, 122, 146, 162,  10, 174,  90,   3,  47, 160, 142,\n",
       "         44,  56, 130,  98,  58, 195,  75, 151,  72,  65,  54,  31,  64,\n",
       "        184,  93, 194, 179, 120, 158, 175,  36, 159,  17,  87,  72, 174,\n",
       "        140, 174, 160,  54, 173, 111,  47,   3,  87, 120,  27, 121, 163,\n",
       "        157, 158, 156,  13,  53, 162,   6,   2, 116, 159,  49,  33,  20,\n",
       "        149, 167, 124,  98, 138, 170, 165,  70, 171, 110,  58,  37, 163,\n",
       "        159,  18,  82, 118,  35, 186,  45,  59, 135, 148, 141,  26,  54,\n",
       "         30, 194, 109, 108, 167, 116,  21,   2,   6, 108, 187, 151,  90,\n",
       "         53,  95, 171,  95,  96,  11, 163,  47, 170, 152,  84,  27,  31,\n",
       "        172, 111])]"
      ]
     },
     "execution_count": 80,
     "metadata": {},
     "output_type": "execute_result"
    }
   ],
   "source": [
    "bag.estimators_samples_#her ağaçtaki ornekler"
   ]
  },
  {
   "cell_type": "code",
   "execution_count": 81,
   "metadata": {},
   "outputs": [
    {
     "data": {
      "text/plain": [
       "[array([11,  9, 14,  6, 11,  0, 11, 12, 15, 16,  9, 18, 16,  4, 16,  9,  9,\n",
       "        12,  3]),\n",
       " array([ 7, 12, 14, 16,  3,  3, 11, 18,  4, 18, 14,  3,  6, 18,  5, 18, 13,\n",
       "         1, 16]),\n",
       " array([16,  0,  5, 11,  6,  7, 15, 15, 16, 16,  9, 12,  7, 18,  4, 13,  5,\n",
       "         1, 13]),\n",
       " array([16,  2, 14, 10, 11, 17,  4, 17, 12, 17,  5, 13, 10, 13, 12, 18,  4,\n",
       "        12,  1]),\n",
       " array([ 7,  4,  2, 11,  3,  3, 18,  8, 12,  5, 16, 10, 18,  7, 13,  2,  3,\n",
       "         4,  9]),\n",
       " array([15, 14,  7, 13,  0,  0, 12,  2, 16,  7,  7, 13, 17,  5, 11, 10, 17,\n",
       "         4,  6]),\n",
       " array([12, 11,  2,  0, 18, 14,  3, 15,  6, 12, 16,  8, 14,  2,  8, 13,  6,\n",
       "        14, 13]),\n",
       " array([12,  1, 15,  2, 11, 17, 14, 15,  9, 14, 11,  8, 14, 11, 13, 17,  9,\n",
       "         3,  4]),\n",
       " array([ 8,  9, 15,  4, 13, 13, 18, 13,  0,  2,  6, 15, 13, 18, 13,  1, 18,\n",
       "         5,  4]),\n",
       " array([ 4,  2,  0,  1,  8, 12,  1,  3, 10, 17,  0, 12,  5,  8, 16,  2, 16,\n",
       "         8, 13])]"
      ]
     },
     "execution_count": 81,
     "metadata": {},
     "output_type": "execute_result"
    }
   ],
   "source": [
    "bag.estimators_features_#her ağaçtakş bağımsız değşkenlerin indexleri"
   ]
  },
  {
   "cell_type": "code",
   "execution_count": 82,
   "metadata": {},
   "outputs": [
    {
     "data": {
      "text/html": [
       "<style>#sk-container-id-14 {color: black;background-color: white;}#sk-container-id-14 pre{padding: 0;}#sk-container-id-14 div.sk-toggleable {background-color: white;}#sk-container-id-14 label.sk-toggleable__label {cursor: pointer;display: block;width: 100%;margin-bottom: 0;padding: 0.3em;box-sizing: border-box;text-align: center;}#sk-container-id-14 label.sk-toggleable__label-arrow:before {content: \"▸\";float: left;margin-right: 0.25em;color: #696969;}#sk-container-id-14 label.sk-toggleable__label-arrow:hover:before {color: black;}#sk-container-id-14 div.sk-estimator:hover label.sk-toggleable__label-arrow:before {color: black;}#sk-container-id-14 div.sk-toggleable__content {max-height: 0;max-width: 0;overflow: hidden;text-align: left;background-color: #f0f8ff;}#sk-container-id-14 div.sk-toggleable__content pre {margin: 0.2em;color: black;border-radius: 0.25em;background-color: #f0f8ff;}#sk-container-id-14 input.sk-toggleable__control:checked~div.sk-toggleable__content {max-height: 200px;max-width: 100%;overflow: auto;}#sk-container-id-14 input.sk-toggleable__control:checked~label.sk-toggleable__label-arrow:before {content: \"▾\";}#sk-container-id-14 div.sk-estimator input.sk-toggleable__control:checked~label.sk-toggleable__label {background-color: #d4ebff;}#sk-container-id-14 div.sk-label input.sk-toggleable__control:checked~label.sk-toggleable__label {background-color: #d4ebff;}#sk-container-id-14 input.sk-hidden--visually {border: 0;clip: rect(1px 1px 1px 1px);clip: rect(1px, 1px, 1px, 1px);height: 1px;margin: -1px;overflow: hidden;padding: 0;position: absolute;width: 1px;}#sk-container-id-14 div.sk-estimator {font-family: monospace;background-color: #f0f8ff;border: 1px dotted black;border-radius: 0.25em;box-sizing: border-box;margin-bottom: 0.5em;}#sk-container-id-14 div.sk-estimator:hover {background-color: #d4ebff;}#sk-container-id-14 div.sk-parallel-item::after {content: \"\";width: 100%;border-bottom: 1px solid gray;flex-grow: 1;}#sk-container-id-14 div.sk-label:hover label.sk-toggleable__label {background-color: #d4ebff;}#sk-container-id-14 div.sk-serial::before {content: \"\";position: absolute;border-left: 1px solid gray;box-sizing: border-box;top: 0;bottom: 0;left: 50%;z-index: 0;}#sk-container-id-14 div.sk-serial {display: flex;flex-direction: column;align-items: center;background-color: white;padding-right: 0.2em;padding-left: 0.2em;position: relative;}#sk-container-id-14 div.sk-item {position: relative;z-index: 1;}#sk-container-id-14 div.sk-parallel {display: flex;align-items: stretch;justify-content: center;background-color: white;position: relative;}#sk-container-id-14 div.sk-item::before, #sk-container-id-14 div.sk-parallel-item::before {content: \"\";position: absolute;border-left: 1px solid gray;box-sizing: border-box;top: 0;bottom: 0;left: 50%;z-index: -1;}#sk-container-id-14 div.sk-parallel-item {display: flex;flex-direction: column;z-index: 1;position: relative;background-color: white;}#sk-container-id-14 div.sk-parallel-item:first-child::after {align-self: flex-end;width: 50%;}#sk-container-id-14 div.sk-parallel-item:last-child::after {align-self: flex-start;width: 50%;}#sk-container-id-14 div.sk-parallel-item:only-child::after {width: 0;}#sk-container-id-14 div.sk-dashed-wrapped {border: 1px dashed gray;margin: 0 0.4em 0.5em 0.4em;box-sizing: border-box;padding-bottom: 0.4em;background-color: white;}#sk-container-id-14 div.sk-label label {font-family: monospace;font-weight: bold;display: inline-block;line-height: 1.2em;}#sk-container-id-14 div.sk-label-container {text-align: center;}#sk-container-id-14 div.sk-container {/* jupyter's `normalize.less` sets `[hidden] { display: none; }` but bootstrap.min.css set `[hidden] { display: none !important; }` so we also need the `!important` here to be able to override the default hidden behavior on the sphinx rendered scikit-learn.org. See: https://github.com/scikit-learn/scikit-learn/issues/21755 */display: inline-block !important;position: relative;}#sk-container-id-14 div.sk-text-repr-fallback {display: none;}</style><div id=\"sk-container-id-14\" class=\"sk-top-container\"><div class=\"sk-text-repr-fallback\"><pre>DecisionTreeRegressor(random_state=1147578142)</pre><b>In a Jupyter environment, please rerun this cell to show the HTML representation or trust the notebook. <br />On GitHub, the HTML representation is unable to render, please try loading this page with nbviewer.org.</b></div><div class=\"sk-container\" hidden><div class=\"sk-item\"><div class=\"sk-estimator sk-toggleable\"><input class=\"sk-toggleable__control sk-hidden--visually\" id=\"sk-estimator-id-14\" type=\"checkbox\" checked><label for=\"sk-estimator-id-14\" class=\"sk-toggleable__label sk-toggleable__label-arrow\">DecisionTreeRegressor</label><div class=\"sk-toggleable__content\"><pre>DecisionTreeRegressor(random_state=1147578142)</pre></div></div></div></div></div>"
      ],
      "text/plain": [
       "DecisionTreeRegressor(random_state=1147578142)"
      ]
     },
     "execution_count": 82,
     "metadata": {},
     "output_type": "execute_result"
    }
   ],
   "source": [
    "bag.estimators_[0] #her bir ağaca ayrı ayroı ulaşıyoruz"
   ]
  },
  {
   "cell_type": "markdown",
   "metadata": {},
   "source": [
    "# Tahmin"
   ]
  },
  {
   "cell_type": "code",
   "execution_count": 83,
   "metadata": {},
   "outputs": [],
   "source": [
    "y_pred=bag.predict(X_test)"
   ]
  },
  {
   "cell_type": "code",
   "execution_count": 84,
   "metadata": {},
   "outputs": [
    {
     "data": {
      "text/plain": [
       "331.0829089753083"
      ]
     },
     "execution_count": 84,
     "metadata": {},
     "output_type": "execute_result"
    }
   ],
   "source": [
    "np.sqrt(mean_squared_error(y_test,y_pred))"
   ]
  },
  {
   "cell_type": "markdown",
   "metadata": {},
   "source": [
    "- Şimdi ağaç ağaç değer soralım. ağaç ağaç haat değeri hesapalamay bakalım\n",
    "- Buradaki asıl amaç hatalı olan hata değerini yüksek veren ağacı bulup hesap sormaktır"
   ]
  },
  {
   "cell_type": "markdown",
   "metadata": {},
   "source": [
    "- Bu işlemi Şu şekilde yapıyoruz:\n",
    "\n",
    "Her bir ağaca bag.estimators_[index] diyerek ulaşıyoruz daha sonra her bir ağaç için tekrar model kuruyoruz(bundan kastım model fit'lemek)\n",
    "\n",
    "zaten bag ile sınıfı oluşturduk sadece her bir ağaç için fit metodunu tekrara çaalıştırıyoruz. daha sonra ise bildiiğmiz tahmin yapma\n",
    "\n",
    "hata değeri hesaplama işlenlerini yapıyoruz"
   ]
  },
  {
   "cell_type": "code",
   "execution_count": 85,
   "metadata": {},
   "outputs": [
    {
     "name": "stdout",
     "output_type": "stream",
     "text": [
      "0.agaç =  524.7761597761844\n",
      "1.agaç =  529.797970392231\n",
      "2.agaç =  523.8755066027211\n",
      "3.agaç =  463.91034911715434\n",
      "4.agaç =  513.094363008729\n",
      "5.agaç =  450.4445019056681\n",
      "6.agaç =  519.1202163157365\n",
      "7.agaç =  446.32772697810225\n",
      "8.agaç =  432.4940897217644\n",
      "9.agaç =  434.68541441769685\n"
     ]
    }
   ],
   "source": [
    "for i in np.arange(0,10,1):\n",
    "    new_y_pred=bag.estimators_[i].fit(X_train,y_train).predict(X_test)\n",
    "    print(\"%d.agaç = \"%i,np.sqrt(mean_squared_error(y_test,new_y_pred)))"
   ]
  },
  {
   "cell_type": "code",
   "execution_count": null,
   "metadata": {},
   "outputs": [],
   "source": []
  }
 ],
 "metadata": {
  "kernelspec": {
   "display_name": "Python 3.9.6 64-bit",
   "language": "python",
   "name": "python3"
  },
  "language_info": {
   "codemirror_mode": {
    "name": "ipython",
    "version": 3
   },
   "file_extension": ".py",
   "mimetype": "text/x-python",
   "name": "python",
   "nbconvert_exporter": "python",
   "pygments_lexer": "ipython3",
   "version": "3.9.6"
  },
  "orig_nbformat": 4,
  "vscode": {
   "interpreter": {
    "hash": "31f2aee4e71d21fbe5cf8b01ff0e069b9275f58929596ceb00d14d90e3e16cd6"
   }
  }
 },
 "nbformat": 4,
 "nbformat_minor": 2
}
