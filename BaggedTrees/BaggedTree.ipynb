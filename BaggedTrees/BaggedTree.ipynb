{
 "cells": [
  {
   "cell_type": "markdown",
   "metadata": {},
   "source": [
    "# Bagging"
   ]
  },
  {
   "cell_type": "markdown",
   "metadata": {},
   "source": [
    "* Temeli bootstrap yöntemi ile oluşturulan birden fazla karar ağacının\n",
    "ürettiği tahminlerin bir araya getirilerek değerlendirilmesine dayanır"
   ]
  },
  {
   "cell_type": "markdown",
   "metadata": {},
   "source": [
    "* veri setinden bir parça gözlem seti çekilerek bir karar ağacı oluşturulur. Bu işlem tekrarlanarak T adet karar ağacı oluşturulur\n",
    "* Karar ağaçalrı oluşturma işleminde veri setinin her parçasının seçilme olasılığı eşittir. \n",
    "* ayrıca oluşturulan ağaçaların daha önceki ağaçlarla bağlantısı yoktur\n",
    "* oluşturulan T adet karar ağacından gelen t adet tahmin bir araya getirilerek model tahmini oluşturulur\n",
    "* Çekilen ağaçların 2/3'ü ağaçları oluşturulması için gerisi ağaçların test edilmesi içn kullanılır\n",
    "* CART a göre aşırı öğrenme sorunu girderilmiştir\n",
    " "
   ]
  },
  {
   "cell_type": "markdown",
   "metadata": {},
   "source": [
    "# Model"
   ]
  },
  {
   "cell_type": "code",
   "execution_count": 101,
   "metadata": {},
   "outputs": [],
   "source": [
    "import numpy as np\n",
    "import pandas as pd \n",
    "from sklearn.model_selection import train_test_split, GridSearchCV,cross_val_score\n",
    "from sklearn.metrics import mean_squared_error, r2_score\n",
    "import matplotlib.pyplot as plt\n",
    "from sklearn.preprocessing import scale \n",
    "from sklearn import model_selection\n",
    "from sklearn.tree import DecisionTreeRegressor, DecisionTreeClassifier\n",
    "from sklearn.neighbors import KNeighborsRegressor\n",
    "from sklearn.ensemble import BaggingRegressor\n",
    "\n",
    "from warnings import filterwarnings\n",
    "filterwarnings('ignore')"
   ]
  },
  {
   "cell_type": "code",
   "execution_count": 102,
   "metadata": {},
   "outputs": [],
   "source": [
    "hit = pd.read_csv(\"Hitters.csv\")\n",
    "df = hit.copy()\n",
    "df = df.dropna()\n",
    "dms = pd.get_dummies(df[['League', 'Division', 'NewLeague']])\n",
    "y = df[\"Salary\"]\n",
    "X_ = df.drop(['Salary', 'League', 'Division', 'NewLeague'], axis=1).astype('float64')\n",
    "X = pd.concat([X_, dms[['League_N', 'Division_W', 'NewLeague_N']]], axis=1)\n",
    "X_train, X_test, y_train, y_test = train_test_split(X, y, \n",
    "                                                    test_size=0.25, \n",
    "                                                    random_state=42)"
   ]
  },
  {
   "cell_type": "code",
   "execution_count": 103,
   "metadata": {},
   "outputs": [
    {
     "data": {
      "text/html": [
       "<style>#sk-container-id-17 {color: black;background-color: white;}#sk-container-id-17 pre{padding: 0;}#sk-container-id-17 div.sk-toggleable {background-color: white;}#sk-container-id-17 label.sk-toggleable__label {cursor: pointer;display: block;width: 100%;margin-bottom: 0;padding: 0.3em;box-sizing: border-box;text-align: center;}#sk-container-id-17 label.sk-toggleable__label-arrow:before {content: \"▸\";float: left;margin-right: 0.25em;color: #696969;}#sk-container-id-17 label.sk-toggleable__label-arrow:hover:before {color: black;}#sk-container-id-17 div.sk-estimator:hover label.sk-toggleable__label-arrow:before {color: black;}#sk-container-id-17 div.sk-toggleable__content {max-height: 0;max-width: 0;overflow: hidden;text-align: left;background-color: #f0f8ff;}#sk-container-id-17 div.sk-toggleable__content pre {margin: 0.2em;color: black;border-radius: 0.25em;background-color: #f0f8ff;}#sk-container-id-17 input.sk-toggleable__control:checked~div.sk-toggleable__content {max-height: 200px;max-width: 100%;overflow: auto;}#sk-container-id-17 input.sk-toggleable__control:checked~label.sk-toggleable__label-arrow:before {content: \"▾\";}#sk-container-id-17 div.sk-estimator input.sk-toggleable__control:checked~label.sk-toggleable__label {background-color: #d4ebff;}#sk-container-id-17 div.sk-label input.sk-toggleable__control:checked~label.sk-toggleable__label {background-color: #d4ebff;}#sk-container-id-17 input.sk-hidden--visually {border: 0;clip: rect(1px 1px 1px 1px);clip: rect(1px, 1px, 1px, 1px);height: 1px;margin: -1px;overflow: hidden;padding: 0;position: absolute;width: 1px;}#sk-container-id-17 div.sk-estimator {font-family: monospace;background-color: #f0f8ff;border: 1px dotted black;border-radius: 0.25em;box-sizing: border-box;margin-bottom: 0.5em;}#sk-container-id-17 div.sk-estimator:hover {background-color: #d4ebff;}#sk-container-id-17 div.sk-parallel-item::after {content: \"\";width: 100%;border-bottom: 1px solid gray;flex-grow: 1;}#sk-container-id-17 div.sk-label:hover label.sk-toggleable__label {background-color: #d4ebff;}#sk-container-id-17 div.sk-serial::before {content: \"\";position: absolute;border-left: 1px solid gray;box-sizing: border-box;top: 0;bottom: 0;left: 50%;z-index: 0;}#sk-container-id-17 div.sk-serial {display: flex;flex-direction: column;align-items: center;background-color: white;padding-right: 0.2em;padding-left: 0.2em;position: relative;}#sk-container-id-17 div.sk-item {position: relative;z-index: 1;}#sk-container-id-17 div.sk-parallel {display: flex;align-items: stretch;justify-content: center;background-color: white;position: relative;}#sk-container-id-17 div.sk-item::before, #sk-container-id-17 div.sk-parallel-item::before {content: \"\";position: absolute;border-left: 1px solid gray;box-sizing: border-box;top: 0;bottom: 0;left: 50%;z-index: -1;}#sk-container-id-17 div.sk-parallel-item {display: flex;flex-direction: column;z-index: 1;position: relative;background-color: white;}#sk-container-id-17 div.sk-parallel-item:first-child::after {align-self: flex-end;width: 50%;}#sk-container-id-17 div.sk-parallel-item:last-child::after {align-self: flex-start;width: 50%;}#sk-container-id-17 div.sk-parallel-item:only-child::after {width: 0;}#sk-container-id-17 div.sk-dashed-wrapped {border: 1px dashed gray;margin: 0 0.4em 0.5em 0.4em;box-sizing: border-box;padding-bottom: 0.4em;background-color: white;}#sk-container-id-17 div.sk-label label {font-family: monospace;font-weight: bold;display: inline-block;line-height: 1.2em;}#sk-container-id-17 div.sk-label-container {text-align: center;}#sk-container-id-17 div.sk-container {/* jupyter's `normalize.less` sets `[hidden] { display: none; }` but bootstrap.min.css set `[hidden] { display: none !important; }` so we also need the `!important` here to be able to override the default hidden behavior on the sphinx rendered scikit-learn.org. See: https://github.com/scikit-learn/scikit-learn/issues/21755 */display: inline-block !important;position: relative;}#sk-container-id-17 div.sk-text-repr-fallback {display: none;}</style><div id=\"sk-container-id-17\" class=\"sk-top-container\"><div class=\"sk-text-repr-fallback\"><pre>BaggingRegressor(bootstrap_features=True, random_state=42)</pre><b>In a Jupyter environment, please rerun this cell to show the HTML representation or trust the notebook. <br />On GitHub, the HTML representation is unable to render, please try loading this page with nbviewer.org.</b></div><div class=\"sk-container\" hidden><div class=\"sk-item\"><div class=\"sk-estimator sk-toggleable\"><input class=\"sk-toggleable__control sk-hidden--visually\" id=\"sk-estimator-id-17\" type=\"checkbox\" checked><label for=\"sk-estimator-id-17\" class=\"sk-toggleable__label sk-toggleable__label-arrow\">BaggingRegressor</label><div class=\"sk-toggleable__content\"><pre>BaggingRegressor(bootstrap_features=True, random_state=42)</pre></div></div></div></div></div>"
      ],
      "text/plain": [
       "BaggingRegressor(bootstrap_features=True, random_state=42)"
      ]
     },
     "execution_count": 103,
     "metadata": {},
     "output_type": "execute_result"
    }
   ],
   "source": [
    "bag=BaggingRegressor(bootstrap_features=True,random_state=42)\n",
    "bag.fit(X_train,y_train)"
   ]
  },
  {
   "cell_type": "code",
   "execution_count": 104,
   "metadata": {},
   "outputs": [
    {
     "data": {
      "text/plain": [
       "10"
      ]
     },
     "execution_count": 104,
     "metadata": {},
     "output_type": "execute_result"
    }
   ],
   "source": [
    "bag.n_estimators#ağaç sayıusı"
   ]
  },
  {
   "cell_type": "code",
   "execution_count": 105,
   "metadata": {},
   "outputs": [
    {
     "data": {
      "text/plain": [
       "[DecisionTreeRegressor(random_state=1952926171),\n",
       " DecisionTreeRegressor(random_state=1761383086),\n",
       " DecisionTreeRegressor(random_state=1449071958),\n",
       " DecisionTreeRegressor(random_state=1910541088),\n",
       " DecisionTreeRegressor(random_state=1341730541),\n",
       " DecisionTreeRegressor(random_state=1286572245),\n",
       " DecisionTreeRegressor(random_state=1005142668),\n",
       " DecisionTreeRegressor(random_state=502852014),\n",
       " DecisionTreeRegressor(random_state=186414760),\n",
       " DecisionTreeRegressor(random_state=1956263048)]"
      ]
     },
     "execution_count": 105,
     "metadata": {},
     "output_type": "execute_result"
    }
   ],
   "source": [
    "bag.estimators_#ağaçlar"
   ]
  },
  {
   "cell_type": "code",
   "execution_count": 106,
   "metadata": {},
   "outputs": [
    {
     "data": {
      "text/plain": [
       "[array([ 34,   8, 142,  32,  59,  95,   3, 150, 107,  46, 116, 194, 105,\n",
       "        181, 177,  77, 184,  80,  64,   0, 122,  59, 103,  81,  41, 181,\n",
       "         91,  70, 132,   0,  60, 184,  23, 156,  14, 183, 123,  45,  84,\n",
       "        165, 100, 173, 111,  23,  70,   1,  81, 172,  38,  97, 111, 115,\n",
       "         52, 182,   9,  82,  71, 109,  73, 191, 116, 196,  14,  32, 176,\n",
       "        104, 174,  43, 104,  45, 196, 177, 101,  53,   5, 114, 142, 146,\n",
       "         36, 152,  47,  23,  84,  96,  39, 120, 143,  36,   0, 150, 135,\n",
       "        122, 181,  13,   9,  15, 125, 191, 156, 169,   6,  77,  48,  27,\n",
       "         70, 191, 128,  60, 148, 173,  49, 131,  12,  85, 184,  47,  99,\n",
       "         62, 169, 119, 145,   1,  90, 164, 166,  36,  86, 150,  64,  66,\n",
       "         68,  76,  57,  87,  93, 110, 158,  79,  65,  57,  75,   5, 102,\n",
       "         14,   1, 157,  26,  97,  16, 129, 176, 127,  66, 175, 194, 138,\n",
       "         62, 121, 171,  11, 117,  24,  74,  36,  23, 103,  30,  36,  64,\n",
       "        140, 154, 119, 169, 113,  37, 137, 188,  76, 141, 133,   1,  68,\n",
       "         65,  66,  49,  32, 174, 166,  44,  34,  38, 143, 157, 177,  15,\n",
       "        100,  89]),\n",
       " array([ 90, 117,  51,  58,  75,  87, 184, 107,  16, 177,  85,  84,  91,\n",
       "          7, 193,  72, 161,   3, 131, 177,  61,  45,  31, 182, 189, 174,\n",
       "         84, 171,   2,   9, 178, 144,  57, 189,  59, 168, 138, 139, 119,\n",
       "         39, 184, 134,  78,  53, 189, 137, 139,  87, 193, 113, 161, 130,\n",
       "         17,  41, 152, 119,  12, 143, 121, 134,  50,  83, 103, 124, 152,\n",
       "         59, 192,  55, 179,  94,  58,   0, 175, 176, 115, 191,  18, 133,\n",
       "         67,  84, 137, 166,  27,  86, 142, 191,  73, 178, 132,  60,  71,\n",
       "         99, 166,  57,  98, 194,  72, 183,  34, 165,  29,  87, 171,  34,\n",
       "         73, 188, 137,  54,  86, 136,  60, 162,  99, 129, 135,  83,  83,\n",
       "         12, 150, 148,  20, 104,  90,  27,   9, 121, 178,  74,  25,   1,\n",
       "        175, 192,  56, 193,  75, 131, 127,  82, 125,  94,  44,  66, 114,\n",
       "         68,  14, 106, 110, 122,  78, 187,  80,   1, 195, 131,  21,  84,\n",
       "        176, 191,   7,  27,  85, 186, 159, 103, 108,  46, 120, 168, 188,\n",
       "         13, 102, 111,  91, 192, 163,  14, 137,  36,  41, 126, 168,  60,\n",
       "        107, 110, 187,  65,  18,  82,  95, 158,  68,  23, 121, 127, 127,\n",
       "        165,   5]),\n",
       " array([ 18,  51,  80, 138, 164,  70,  11,  52,  70,  19,  27,  87,  96,\n",
       "         38,  52, 174, 112,  25, 118, 146,  93, 119,  58,  56, 194, 172,\n",
       "         45,  15,  40,  86, 190, 177, 104, 176, 108,  11,  28,  51, 172,\n",
       "         18,  18, 182,  71,  82,  40, 114,  29,   8,  13, 101,  49, 105,\n",
       "        187, 108, 122,  20,  22,  90,  69,  52, 141, 105,  74,  86,  22,\n",
       "        196, 191, 130,  74,  87,  90, 173, 145, 118,  29,   2, 174, 163,\n",
       "         87, 111,  38, 194, 107,  29,  19,  57,  13,  13,  45,  80,  77,\n",
       "         73, 163,  17, 192, 102,  99, 133,   5, 185, 156,  24,  61,  27,\n",
       "         17,  78, 119, 155,  16, 196,  22,  32,  31, 124,  35, 149, 140,\n",
       "         93, 119,  41, 169, 120,  50, 113,  83, 171,  80,  99,  54,  77,\n",
       "         16,  30,  29,  79, 162, 195, 132,  36,  80,  77, 167, 115, 157,\n",
       "         35, 112, 111,  85,  34,  21, 167,  20, 136, 168, 143, 173,  86,\n",
       "        143,  43, 109, 187, 137,  21, 125,  73,  83, 185, 186,  42,  70,\n",
       "         56, 152, 128, 110,  58,  82, 194, 176, 172,  42,  68, 161,  38,\n",
       "         24,  84, 171, 125, 140,  32, 116, 156,  77, 168,  42,  15, 172,\n",
       "         56, 130]),\n",
       " array([102,  26, 107, 107, 186, 193,  70, 148,  89, 160,  23,  61,  99,\n",
       "          2,  57,  12,  31,  33,  62,   9,  66, 129, 178, 101,  61,   5,\n",
       "         48, 190,  28, 137,  99, 137, 140,   3,   0, 164, 175,   7, 177,\n",
       "        172,  65, 113, 176,  38,  89,  82,  72, 155, 167, 190, 176, 150,\n",
       "         74,  22,  41, 131, 111, 107, 143, 195,  34, 175,   0, 148, 174,\n",
       "        144, 159, 164,  58,  65, 136, 185,  62,  53, 159, 151, 188, 156,\n",
       "          1,   9,  32,  24,  28,   4, 194, 190, 178,  59, 139, 165,  42,\n",
       "        186,   8,  27,  20,  61, 145, 176,  28, 105,  36,  88,  79,  40,\n",
       "         59, 107, 152, 152, 147,  79, 161,  82, 141,  91,  37,  36,  14,\n",
       "         49,  12, 192,  67,  86,  24, 105, 142,  68, 181,  55, 185,  55,\n",
       "        105,  24,  99, 133,  64,  96,  23,  19, 122,  90, 154, 160,  40,\n",
       "        153, 101, 125,  25,  90,  83, 142,  99,  32, 184,  52, 129,   1,\n",
       "         17, 103,  28, 177,  23,  32, 106, 173, 119, 113,  90, 122, 188,\n",
       "         55,  34, 189, 104,  37, 164,   4,   6,  68,  31, 118,  42, 108,\n",
       "          5,  53, 177,  70, 101, 146, 115,  37,  70, 189,  24,  61,  77,\n",
       "         36, 127]),\n",
       " array([ 60, 146,  69, 184,   1,   2, 175,  62,  39,  62, 195, 131, 105,\n",
       "        195, 190, 133,   0, 103,  58, 177, 153, 105,  69, 124,  61,  58,\n",
       "        185, 114, 128,   2,  62, 125,  96, 119, 128,  37,  78,  57, 119,\n",
       "         83,  55,  67, 114,  65, 152, 167,   9,  68,  55, 185, 162,  74,\n",
       "         24,  64, 119, 143,  50, 180, 168, 168,  39,  61, 103,   9, 179,\n",
       "        102, 171,  83, 177,  65,  68,  91,  44, 180,  87,  97, 173,   8,\n",
       "         47,   1, 150, 186, 150, 143,  79,  19,  97, 172,  75, 162,  22,\n",
       "         60, 113,  19, 161,  76, 165, 107,  21,  64, 105,  99,  73, 155,\n",
       "          3, 172,  95,  69,  32, 126,  26, 181, 155, 154,  91, 101,  19,\n",
       "        166,  38, 140,  50,  90,   8,  61, 114,  40, 135,  85, 194, 129,\n",
       "         17,  81,  59, 124,  32,  40, 136, 142, 122, 189,  28, 161, 104,\n",
       "         24,   4, 119, 140, 190,  78,  93,  98,  29, 132, 189, 124,  17,\n",
       "         61, 172, 169,  57,  28,  93, 123, 171,  44,   1,   6,  43,  91,\n",
       "        104, 196, 160,  53, 157,  68,  23, 146,  99, 196,  45,  73, 138,\n",
       "        137,  63, 189,  17, 188,  86, 187, 195, 179,  42, 171, 168,  37,\n",
       "         81,  89]),\n",
       " array([139, 178, 179,   1, 127,  99, 110,  99,  79,  70,  97,  21, 118,\n",
       "        152,  26,   5, 117,   4,  95, 142,  32, 125, 156, 113, 178,  89,\n",
       "          7, 189, 144, 176,  67,  35,  58, 130, 106, 107,  14,  96,   6,\n",
       "         99, 117,  32, 128, 166, 136, 102, 189,  79,  85,  26,  92, 116,\n",
       "         86,  44, 178,  59, 100, 102,  48, 189,  55,  16,  99, 182, 191,\n",
       "         27,  42, 195, 175,  41,  89,  50,  13,  35, 186, 147,  51,   7,\n",
       "        160, 176, 100, 182,   5,  26,  62,  60,  54,   3,  18,  27,  32,\n",
       "         80, 133,  87,  42, 179,  19, 106,  80,  64,  30, 181, 138,  48,\n",
       "         20,  11, 151, 115, 103, 149, 173, 195, 103, 101,  19,  34,  70,\n",
       "         85,   7,  50, 153,  16,  87, 112,  23, 108,  23,  79,  72,  96,\n",
       "        146, 128,  16,  81, 175,  74,  98,  47,  67, 124,  13, 105, 192,\n",
       "         14,  33,   7, 103, 139,  95,  43, 128, 113, 175, 191, 153,  84,\n",
       "         86,  24, 125, 115,  87,  89,  44,  21,  22, 193, 116, 188, 153,\n",
       "         84,  25,  46,  39, 142,  11, 127,  94, 194, 119, 108, 113,  18,\n",
       "         30,  37, 145,  50, 147, 124, 158,  87,  15,  60,  56, 162,  37,\n",
       "        108,  14]),\n",
       " array([ 94, 160, 115,  41,  28, 103, 101, 129, 104,  87,   5,  59, 128,\n",
       "        176, 138, 190, 185,  96, 146,  94, 124, 117, 134,  23, 121, 193,\n",
       "        150, 139, 120,  14,  53,  89,  55,  77, 128,  88, 108,  84,  87,\n",
       "        186, 189, 166,  78,  20, 130,  90,   2,  39,  92,  80, 120,  78,\n",
       "        115, 154,  62, 133,  71, 194, 145,  40, 143,   1, 121,   7, 103,\n",
       "         53, 120,  73,  11,  66,  72,  25, 189,  15,  33, 195, 122, 160,\n",
       "         90, 182,  83, 126,  57, 144, 114, 174, 192, 144,  39,  22,  44,\n",
       "        181,  66, 150, 115,   5,  89, 133, 194,   9, 100,  50, 188,  78,\n",
       "        153, 132,  62,  85, 193, 154, 129, 147, 146,  76,  35, 153,  85,\n",
       "        123, 167,  50,  42, 131, 191, 164, 164,   6, 118,  92,  18, 110,\n",
       "        193, 168, 116, 114,  67,   4, 128, 141, 116, 108, 155,  59, 141,\n",
       "          5,  69,   2,  82,  32, 128,  32,  64,  82, 160, 193, 115, 167,\n",
       "        155, 129, 132,  47, 133, 146, 129,  40,  82,  17,  46,   7, 179,\n",
       "        173,  20, 165, 125,  20, 181, 184,   4,  44,  57, 190,  36,  76,\n",
       "         27,  27,  64,  55,  74,   6,  16,  40, 132, 163, 149, 175,  32,\n",
       "         79, 181]),\n",
       " array([ 84,  40,  61,  73,  32, 148, 110,  31, 156, 107, 192,  41,  98,\n",
       "         12,   6, 139, 142, 180,  93, 184, 189,  25,  11,  80,  45, 148,\n",
       "        184, 185,  94,  49,  81, 190, 164,  64, 169,   0,  57,  26, 195,\n",
       "         42,  44, 148, 183,  16, 151, 155,  27, 130, 115,  36, 111, 137,\n",
       "         23,  37,  37, 117, 152, 125,   4,  13, 143, 115,   1,  41,  71,\n",
       "        193,  98,  89,  64,  67, 136, 141,   3, 132, 160,  52, 107,  68,\n",
       "         16,  78, 152, 163,  97, 119,  90,  92, 170,  42, 195,  97, 168,\n",
       "          6, 140, 105, 132,  54, 173,  52,  52, 177,  29,  48,  98,  18,\n",
       "        111,  95,  61, 116, 182, 165, 175,  97,  27, 102, 165, 155,  55,\n",
       "        132,  49,  27,  58,  38,  97,  11, 108, 136,  55,  76, 143,  59,\n",
       "         87,  47,  68,  62, 125, 133, 106, 149, 178,  94, 100, 196,  80,\n",
       "         78,  60,  56, 117,  21, 171, 125,  51, 162, 134, 119, 131,  40,\n",
       "        160,   7,  34,  34, 125,   2,   4,  11,  70, 133,  73, 191,  65,\n",
       "        181, 109,  36, 133,  36, 106,  84, 185, 148, 158,  95,   4,  97,\n",
       "         30, 120, 128,  99,  76,  46, 143, 101,  96, 160, 132, 143, 148,\n",
       "        138,  43]),\n",
       " array([ 52, 153,  82,  25,  81, 144, 131, 132,  81, 139, 191,  83, 159,\n",
       "         39,  32,  75, 129,  22,   1, 167, 152,  70,  56, 118, 166,  95,\n",
       "         35,  55, 181, 160,  66,  45, 155, 186, 105, 175, 179, 100, 137,\n",
       "        112,  41,  29,  71,  74,  28,  93,  80,   6, 122, 191,  80, 114,\n",
       "        189, 146, 105,  43, 122, 179,  75, 191,  53,  70,  77,  57, 194,\n",
       "         59,  56, 146, 192, 159, 195,  34,  35, 178, 159,  55,  14,  38,\n",
       "        134,  11, 110,   9, 169,  60, 100, 151,  39,  16, 135, 185,   3,\n",
       "         11, 113, 124,  98,  68,  42, 191, 187, 167, 178, 174, 133,  76,\n",
       "         72, 125, 152, 145,   7, 195, 161,  45,  51, 174, 179,   3,  33,\n",
       "        157,  78,  84, 106, 109, 109, 179, 167,  42,  20,  29,  12, 142,\n",
       "         64, 122, 129,  80,  71,  59,  64, 148, 190, 129, 176, 136, 109,\n",
       "         48,  22,  93, 148,  74, 187, 163, 143,  38, 166,  16, 188, 169,\n",
       "        183, 177, 134, 105,   8, 121, 127, 196, 135,  61, 180, 179, 109,\n",
       "        160,   3, 155,  60,  93,  59,  76, 181, 191, 188, 104,  94, 139,\n",
       "        133,  19,  62,  13,   1, 154, 175, 103, 141, 100, 176,   2,  98,\n",
       "        129, 100]),\n",
       " array([ 32, 182,  47,   7,  60, 189, 176, 121, 169,   3, 172, 166, 105,\n",
       "        154, 140, 106,  62, 121,  97, 165,  76,  10,  99,  51, 176,  99,\n",
       "         93, 164,  37, 158, 154,  77, 139, 138, 164, 101,  23, 130, 116,\n",
       "         81, 190, 181,  48, 180,  65,  15,  95, 186,  65, 178,  31,  53,\n",
       "         84,  76, 177, 152, 192,  31,  12,  60,  88, 186, 182, 100, 147,\n",
       "        121,  86, 166, 176, 178,  20,   2, 111,  74,  11,  62, 154, 184,\n",
       "         12,  82, 172,  81,  80, 176, 126, 185,  37, 169, 194, 127,  12,\n",
       "        195,  24,  57,  56, 157, 196,  69, 122,  39,  23,   5,  16,  55,\n",
       "          6,   3,  24,  49, 195, 183, 133, 141, 170, 119,  64,  90, 105,\n",
       "        175, 104, 137,  10,   8, 136,  22, 170, 127, 170,  70,  56, 117,\n",
       "         40, 101, 195,  68, 160, 180, 137,  76,  80,  65, 180,  67,  25,\n",
       "         73, 167, 159, 112, 159,  80, 116, 122,  92, 108, 182,   5,  93,\n",
       "        195, 150, 144, 184, 119,  72, 183,  61, 157, 170,  23, 148,  71,\n",
       "        173, 163, 194, 101, 190,  65, 164,  72, 101,  15, 103,  33, 183,\n",
       "         10, 144,  13, 153,  39, 166,  89,  41, 146, 158, 115, 131, 193,\n",
       "         74, 183])]"
      ]
     },
     "execution_count": 106,
     "metadata": {},
     "output_type": "execute_result"
    }
   ],
   "source": [
    "bag.estimators_samples_#her ağaçtaki ornekler"
   ]
  },
  {
   "cell_type": "code",
   "execution_count": 107,
   "metadata": {},
   "outputs": [
    {
     "data": {
      "text/plain": [
       "[array([ 9, 10, 12,  2,  9,  7,  7, 18,  9,  6, 13,  4, 17, 18,  9, 10, 17,\n",
       "         2,  4]),\n",
       " array([14,  5, 10,  3,  9, 15, 10, 16,  8,  3, 13,  3,  9,  8,  8, 18,  7,\n",
       "        17, 11]),\n",
       " array([14,  0,  7,  7,  8, 18, 14,  3,  6,  5,  8, 13,  4, 15,  0,  2,  1,\n",
       "        16,  9]),\n",
       " array([ 0,  5, 10, 12,  4, 17, 18, 11,  3, 17,  2, 10, 16, 17,  4, 14, 10,\n",
       "         9, 14]),\n",
       " array([13,  6,  6, 11,  3, 15,  3,  8,  3,  8, 16,  7, 10, 12, 11, 15, 14,\n",
       "        13, 16]),\n",
       " array([18,  1, 18,  7, 13, 13, 17, 13,  3, 15,  6, 17, 11,  1, 14,  1,  9,\n",
       "        11,  4]),\n",
       " array([12, 12,  2, 10, 17,  2,  3, 17,  5,  5, 15, 11, 13,  1,  1, 10,  3,\n",
       "        14, 11]),\n",
       " array([14, 11,  6, 18, 14,  2,  5, 16, 15, 15,  3,  5, 17,  6, 16,  9,  0,\n",
       "         4, 16]),\n",
       " array([ 8, 12, 10,  4, 13,  3, 13, 18, 12, 12, 10, 11,  3, 13, 11, 16,  3,\n",
       "         7, 16]),\n",
       " array([ 8, 13, 17, 14,  9, 16,  7, 14, 12,  8,  1, 17, 13, 10,  5,  9,  5,\n",
       "        17,  8])]"
      ]
     },
     "execution_count": 107,
     "metadata": {},
     "output_type": "execute_result"
    }
   ],
   "source": [
    "bag.estimators_features_#her ağaçtakş bağımsız değşkenlerin indexleri"
   ]
  },
  {
   "cell_type": "code",
   "execution_count": 108,
   "metadata": {},
   "outputs": [
    {
     "data": {
      "text/html": [
       "<style>#sk-container-id-18 {color: black;background-color: white;}#sk-container-id-18 pre{padding: 0;}#sk-container-id-18 div.sk-toggleable {background-color: white;}#sk-container-id-18 label.sk-toggleable__label {cursor: pointer;display: block;width: 100%;margin-bottom: 0;padding: 0.3em;box-sizing: border-box;text-align: center;}#sk-container-id-18 label.sk-toggleable__label-arrow:before {content: \"▸\";float: left;margin-right: 0.25em;color: #696969;}#sk-container-id-18 label.sk-toggleable__label-arrow:hover:before {color: black;}#sk-container-id-18 div.sk-estimator:hover label.sk-toggleable__label-arrow:before {color: black;}#sk-container-id-18 div.sk-toggleable__content {max-height: 0;max-width: 0;overflow: hidden;text-align: left;background-color: #f0f8ff;}#sk-container-id-18 div.sk-toggleable__content pre {margin: 0.2em;color: black;border-radius: 0.25em;background-color: #f0f8ff;}#sk-container-id-18 input.sk-toggleable__control:checked~div.sk-toggleable__content {max-height: 200px;max-width: 100%;overflow: auto;}#sk-container-id-18 input.sk-toggleable__control:checked~label.sk-toggleable__label-arrow:before {content: \"▾\";}#sk-container-id-18 div.sk-estimator input.sk-toggleable__control:checked~label.sk-toggleable__label {background-color: #d4ebff;}#sk-container-id-18 div.sk-label input.sk-toggleable__control:checked~label.sk-toggleable__label {background-color: #d4ebff;}#sk-container-id-18 input.sk-hidden--visually {border: 0;clip: rect(1px 1px 1px 1px);clip: rect(1px, 1px, 1px, 1px);height: 1px;margin: -1px;overflow: hidden;padding: 0;position: absolute;width: 1px;}#sk-container-id-18 div.sk-estimator {font-family: monospace;background-color: #f0f8ff;border: 1px dotted black;border-radius: 0.25em;box-sizing: border-box;margin-bottom: 0.5em;}#sk-container-id-18 div.sk-estimator:hover {background-color: #d4ebff;}#sk-container-id-18 div.sk-parallel-item::after {content: \"\";width: 100%;border-bottom: 1px solid gray;flex-grow: 1;}#sk-container-id-18 div.sk-label:hover label.sk-toggleable__label {background-color: #d4ebff;}#sk-container-id-18 div.sk-serial::before {content: \"\";position: absolute;border-left: 1px solid gray;box-sizing: border-box;top: 0;bottom: 0;left: 50%;z-index: 0;}#sk-container-id-18 div.sk-serial {display: flex;flex-direction: column;align-items: center;background-color: white;padding-right: 0.2em;padding-left: 0.2em;position: relative;}#sk-container-id-18 div.sk-item {position: relative;z-index: 1;}#sk-container-id-18 div.sk-parallel {display: flex;align-items: stretch;justify-content: center;background-color: white;position: relative;}#sk-container-id-18 div.sk-item::before, #sk-container-id-18 div.sk-parallel-item::before {content: \"\";position: absolute;border-left: 1px solid gray;box-sizing: border-box;top: 0;bottom: 0;left: 50%;z-index: -1;}#sk-container-id-18 div.sk-parallel-item {display: flex;flex-direction: column;z-index: 1;position: relative;background-color: white;}#sk-container-id-18 div.sk-parallel-item:first-child::after {align-self: flex-end;width: 50%;}#sk-container-id-18 div.sk-parallel-item:last-child::after {align-self: flex-start;width: 50%;}#sk-container-id-18 div.sk-parallel-item:only-child::after {width: 0;}#sk-container-id-18 div.sk-dashed-wrapped {border: 1px dashed gray;margin: 0 0.4em 0.5em 0.4em;box-sizing: border-box;padding-bottom: 0.4em;background-color: white;}#sk-container-id-18 div.sk-label label {font-family: monospace;font-weight: bold;display: inline-block;line-height: 1.2em;}#sk-container-id-18 div.sk-label-container {text-align: center;}#sk-container-id-18 div.sk-container {/* jupyter's `normalize.less` sets `[hidden] { display: none; }` but bootstrap.min.css set `[hidden] { display: none !important; }` so we also need the `!important` here to be able to override the default hidden behavior on the sphinx rendered scikit-learn.org. See: https://github.com/scikit-learn/scikit-learn/issues/21755 */display: inline-block !important;position: relative;}#sk-container-id-18 div.sk-text-repr-fallback {display: none;}</style><div id=\"sk-container-id-18\" class=\"sk-top-container\"><div class=\"sk-text-repr-fallback\"><pre>DecisionTreeRegressor(random_state=1952926171)</pre><b>In a Jupyter environment, please rerun this cell to show the HTML representation or trust the notebook. <br />On GitHub, the HTML representation is unable to render, please try loading this page with nbviewer.org.</b></div><div class=\"sk-container\" hidden><div class=\"sk-item\"><div class=\"sk-estimator sk-toggleable\"><input class=\"sk-toggleable__control sk-hidden--visually\" id=\"sk-estimator-id-18\" type=\"checkbox\" checked><label for=\"sk-estimator-id-18\" class=\"sk-toggleable__label sk-toggleable__label-arrow\">DecisionTreeRegressor</label><div class=\"sk-toggleable__content\"><pre>DecisionTreeRegressor(random_state=1952926171)</pre></div></div></div></div></div>"
      ],
      "text/plain": [
       "DecisionTreeRegressor(random_state=1952926171)"
      ]
     },
     "execution_count": 108,
     "metadata": {},
     "output_type": "execute_result"
    }
   ],
   "source": [
    "bag.estimators_[0] #her bir ağaca ayrı ayroı ulaşıyoruz"
   ]
  },
  {
   "cell_type": "markdown",
   "metadata": {},
   "source": [
    "# Tahmin"
   ]
  },
  {
   "cell_type": "code",
   "execution_count": 109,
   "metadata": {},
   "outputs": [],
   "source": [
    "y_pred=bag.predict(X_test)"
   ]
  },
  {
   "cell_type": "code",
   "execution_count": 110,
   "metadata": {},
   "outputs": [
    {
     "data": {
      "text/plain": [
       "342.05849991036536"
      ]
     },
     "execution_count": 110,
     "metadata": {},
     "output_type": "execute_result"
    }
   ],
   "source": [
    "np.sqrt(mean_squared_error(y_test,y_pred))"
   ]
  },
  {
   "cell_type": "markdown",
   "metadata": {},
   "source": [
    "- Şimdi ağaç ağaç değer soralım. ağaç ağaç haat değeri hesapalamay bakalım\n",
    "- Buradaki asıl amaç hatalı olan hata değerini yüksek veren ağacı bulup hesap sormaktır"
   ]
  },
  {
   "cell_type": "markdown",
   "metadata": {},
   "source": [
    "- Bu işlemi Şu şekilde yapıyoruz:\n",
    "\n",
    "Her bir ağaca bag.estimators_[index] diyerek ulaşıyoruz daha sonra her bir ağaç için tekrar model kuruyoruz(bundan kastım model fit'lemek)\n",
    "\n",
    "zaten bag ile sınıfı oluşturduk sadece her bir ağaç için fit metodunu tekrara çaalıştırıyoruz. daha sonra ise bildiiğmiz tahmin yapma\n",
    "\n",
    "hata değeri hesaplama işlenlerini yapıyoruz"
   ]
  },
  {
   "cell_type": "code",
   "execution_count": 111,
   "metadata": {},
   "outputs": [
    {
     "name": "stdout",
     "output_type": "stream",
     "text": [
      "0.agaç =  528.7221926962928\n",
      "1.agaç =  514.7173203940404\n",
      "2.agaç =  514.6843519908659\n",
      "3.agaç =  446.9572257566102\n",
      "4.agaç =  491.509210761486\n",
      "5.agaç =  461.7520701053169\n",
      "6.agaç =  512.6042765948389\n",
      "7.agaç =  452.3319491456736\n",
      "8.agaç =  514.3400428715335\n",
      "9.agaç =  522.1287354954193\n"
     ]
    }
   ],
   "source": [
    "for i in np.arange(0,10,1):\n",
    "    new_y_pred=bag.estimators_[i].fit(X_train,y_train).predict(X_test)\n",
    "    print(\"%d.agaç = \"%i,np.sqrt(mean_squared_error(y_test,new_y_pred)))"
   ]
  },
  {
   "cell_type": "code",
   "execution_count": 112,
   "metadata": {},
   "outputs": [],
   "source": [
    "params={\"n_estimators\":range(0,20)}\n",
    "bag_CV=GridSearchCV(bag,params,cv=10).fit(X_train,y_train)"
   ]
  },
  {
   "cell_type": "code",
   "execution_count": 113,
   "metadata": {},
   "outputs": [
    {
     "data": {
      "text/plain": [
       "{'n_estimators': 14}"
      ]
     },
     "execution_count": 113,
     "metadata": {},
     "output_type": "execute_result"
    }
   ],
   "source": [
    "bag_CV.best_params_"
   ]
  },
  {
   "cell_type": "code",
   "execution_count": 114,
   "metadata": {},
   "outputs": [],
   "source": [
    "bag_final=BaggingRegressor(n_estimators=bag_CV.best_params_[\"n_estimators\"],random_state=45)"
   ]
  },
  {
   "cell_type": "code",
   "execution_count": 115,
   "metadata": {},
   "outputs": [
    {
     "data": {
      "text/html": [
       "<style>#sk-container-id-19 {color: black;background-color: white;}#sk-container-id-19 pre{padding: 0;}#sk-container-id-19 div.sk-toggleable {background-color: white;}#sk-container-id-19 label.sk-toggleable__label {cursor: pointer;display: block;width: 100%;margin-bottom: 0;padding: 0.3em;box-sizing: border-box;text-align: center;}#sk-container-id-19 label.sk-toggleable__label-arrow:before {content: \"▸\";float: left;margin-right: 0.25em;color: #696969;}#sk-container-id-19 label.sk-toggleable__label-arrow:hover:before {color: black;}#sk-container-id-19 div.sk-estimator:hover label.sk-toggleable__label-arrow:before {color: black;}#sk-container-id-19 div.sk-toggleable__content {max-height: 0;max-width: 0;overflow: hidden;text-align: left;background-color: #f0f8ff;}#sk-container-id-19 div.sk-toggleable__content pre {margin: 0.2em;color: black;border-radius: 0.25em;background-color: #f0f8ff;}#sk-container-id-19 input.sk-toggleable__control:checked~div.sk-toggleable__content {max-height: 200px;max-width: 100%;overflow: auto;}#sk-container-id-19 input.sk-toggleable__control:checked~label.sk-toggleable__label-arrow:before {content: \"▾\";}#sk-container-id-19 div.sk-estimator input.sk-toggleable__control:checked~label.sk-toggleable__label {background-color: #d4ebff;}#sk-container-id-19 div.sk-label input.sk-toggleable__control:checked~label.sk-toggleable__label {background-color: #d4ebff;}#sk-container-id-19 input.sk-hidden--visually {border: 0;clip: rect(1px 1px 1px 1px);clip: rect(1px, 1px, 1px, 1px);height: 1px;margin: -1px;overflow: hidden;padding: 0;position: absolute;width: 1px;}#sk-container-id-19 div.sk-estimator {font-family: monospace;background-color: #f0f8ff;border: 1px dotted black;border-radius: 0.25em;box-sizing: border-box;margin-bottom: 0.5em;}#sk-container-id-19 div.sk-estimator:hover {background-color: #d4ebff;}#sk-container-id-19 div.sk-parallel-item::after {content: \"\";width: 100%;border-bottom: 1px solid gray;flex-grow: 1;}#sk-container-id-19 div.sk-label:hover label.sk-toggleable__label {background-color: #d4ebff;}#sk-container-id-19 div.sk-serial::before {content: \"\";position: absolute;border-left: 1px solid gray;box-sizing: border-box;top: 0;bottom: 0;left: 50%;z-index: 0;}#sk-container-id-19 div.sk-serial {display: flex;flex-direction: column;align-items: center;background-color: white;padding-right: 0.2em;padding-left: 0.2em;position: relative;}#sk-container-id-19 div.sk-item {position: relative;z-index: 1;}#sk-container-id-19 div.sk-parallel {display: flex;align-items: stretch;justify-content: center;background-color: white;position: relative;}#sk-container-id-19 div.sk-item::before, #sk-container-id-19 div.sk-parallel-item::before {content: \"\";position: absolute;border-left: 1px solid gray;box-sizing: border-box;top: 0;bottom: 0;left: 50%;z-index: -1;}#sk-container-id-19 div.sk-parallel-item {display: flex;flex-direction: column;z-index: 1;position: relative;background-color: white;}#sk-container-id-19 div.sk-parallel-item:first-child::after {align-self: flex-end;width: 50%;}#sk-container-id-19 div.sk-parallel-item:last-child::after {align-self: flex-start;width: 50%;}#sk-container-id-19 div.sk-parallel-item:only-child::after {width: 0;}#sk-container-id-19 div.sk-dashed-wrapped {border: 1px dashed gray;margin: 0 0.4em 0.5em 0.4em;box-sizing: border-box;padding-bottom: 0.4em;background-color: white;}#sk-container-id-19 div.sk-label label {font-family: monospace;font-weight: bold;display: inline-block;line-height: 1.2em;}#sk-container-id-19 div.sk-label-container {text-align: center;}#sk-container-id-19 div.sk-container {/* jupyter's `normalize.less` sets `[hidden] { display: none; }` but bootstrap.min.css set `[hidden] { display: none !important; }` so we also need the `!important` here to be able to override the default hidden behavior on the sphinx rendered scikit-learn.org. See: https://github.com/scikit-learn/scikit-learn/issues/21755 */display: inline-block !important;position: relative;}#sk-container-id-19 div.sk-text-repr-fallback {display: none;}</style><div id=\"sk-container-id-19\" class=\"sk-top-container\"><div class=\"sk-text-repr-fallback\"><pre>BaggingRegressor(n_estimators=14, random_state=45)</pre><b>In a Jupyter environment, please rerun this cell to show the HTML representation or trust the notebook. <br />On GitHub, the HTML representation is unable to render, please try loading this page with nbviewer.org.</b></div><div class=\"sk-container\" hidden><div class=\"sk-item\"><div class=\"sk-estimator sk-toggleable\"><input class=\"sk-toggleable__control sk-hidden--visually\" id=\"sk-estimator-id-19\" type=\"checkbox\" checked><label for=\"sk-estimator-id-19\" class=\"sk-toggleable__label sk-toggleable__label-arrow\">BaggingRegressor</label><div class=\"sk-toggleable__content\"><pre>BaggingRegressor(n_estimators=14, random_state=45)</pre></div></div></div></div></div>"
      ],
      "text/plain": [
       "BaggingRegressor(n_estimators=14, random_state=45)"
      ]
     },
     "execution_count": 115,
     "metadata": {},
     "output_type": "execute_result"
    }
   ],
   "source": [
    "bag_final.fit(X_train,y_train)"
   ]
  },
  {
   "cell_type": "code",
   "execution_count": 116,
   "metadata": {},
   "outputs": [
    {
     "data": {
      "text/plain": [
       "346.457987188104"
      ]
     },
     "execution_count": 116,
     "metadata": {},
     "output_type": "execute_result"
    }
   ],
   "source": [
    "np.sqrt(mean_squared_error(y_test,bag_final.predict(X_test)))"
   ]
  }
 ],
 "metadata": {
  "kernelspec": {
   "display_name": "Python 3.9.6 64-bit",
   "language": "python",
   "name": "python3"
  },
  "language_info": {
   "codemirror_mode": {
    "name": "ipython",
    "version": 3
   },
   "file_extension": ".py",
   "mimetype": "text/x-python",
   "name": "python",
   "nbconvert_exporter": "python",
   "pygments_lexer": "ipython3",
   "version": "3.9.6"
  },
  "orig_nbformat": 4,
  "vscode": {
   "interpreter": {
    "hash": "31f2aee4e71d21fbe5cf8b01ff0e069b9275f58929596ceb00d14d90e3e16cd6"
   }
  }
 },
 "nbformat": 4,
 "nbformat_minor": 2
}
