{
 "cells": [
  {
   "cell_type": "markdown",
   "metadata": {},
   "source": [
    "# SVR / Destek Vektör Regresyonu\n",
    "Amaç bir marjin aralığına maksimum noktayı minumum hata ile alabilecek şekilde doğru yada eğriyi belirlemektir\n",
    "\n",
    "Hocam belirli bir epsilon edğeri var. Gözlemlerden doğru etrafında bu epsilon kadarlık yakınlarda duranlarla alakalı sıkıntı yaşanmıyor\n",
    "Bu epsilon değerini aşanlarıda kıssi denilen yenş bir ölçek içerisinde tutmaya çalışıypr işte tüm gözlemleri kendi etrafında \n",
    "bu aralıklarda tutabilecek olan doğru/eğri oluşturuluyor.\n",
    "Takdir edersin ki bu ddoğrudaki değişikliği asıl etkileyecek olan epsilon değerini aşan gözlemlerdir"
   ]
  },
  {
   "cell_type": "markdown",
   "metadata": {},
   "source": [
    "robas regresyon:\n",
    "Aykırılıklara karşı daha dayanıklı regresyon türleridir. SVR da robas regresyon türünden sayılır\n",
    "\n",
    "\n",
    " "
   ]
  },
  {
   "cell_type": "code",
   "execution_count": null,
   "metadata": {},
   "outputs": [],
   "source": []
  }
 ],
 "metadata": {
  "language_info": {
   "name": "python"
  },
  "orig_nbformat": 4
 },
 "nbformat": 4,
 "nbformat_minor": 2
}
