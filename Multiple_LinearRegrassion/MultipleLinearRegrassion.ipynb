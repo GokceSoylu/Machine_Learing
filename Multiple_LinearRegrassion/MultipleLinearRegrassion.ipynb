{
 "cells": [
  {
   "cell_type": "markdown",
   "metadata": {},
   "source": [
    "# Çoklu Lineer Regrasyon"
   ]
  },
  {
   "cell_type": "markdown",
   "metadata": {},
   "source": [
    "Çoklu doğrusal regrasyan ile çalışan bir veri blimcinin iki hedefimiz olabilir\n",
    "* bağımzız değişkenlere bakrak bağımlı değişkenin tahmini\n",
    "* bağımsız değişkenin bağımlı değişkeni nasıl ne derce hangi yönlü etkildediğini bulmak"
   ]
  },
  {
   "cell_type": "markdown",
   "metadata": {},
   "source": [
    "# Doğrusal Model Varsayımları\n",
    "* Hatalar normal dağılır\n",
    "* Hatalar birbirinden bağımsızdır ve aralarında otokorolasyon yoktur\n",
    "* Her bir gözlem için hata terimleri varyansları sabittir\n",
    "* Değişkenler ile hata terimi arasında ilişki yoktur\n",
    "* Bağımsız değişkenler arasında çoklu doğrusal ilişki problemi yoktur"
   ]
  },
  {
   "cell_type": "markdown",
   "metadata": {},
   "source": [
    "hocam bu varsayımlar akedemide çok çok önemlidir ancak sektörde it works than don't tuch it mantığında kayda alınmazlar\n"
   ]
  },
  {
   "cell_type": "markdown",
   "metadata": {},
   "source": [
    "# Regresyon Modellerinin Avantajları\n",
    "* Doğrusallık nedensellik yorumları yapılabilmesini sağlar, bu durum Aksiyoner ve stratejik modelleme imkanı verir\n",
    "* Değişkenlerin etki düzeyleri ve anlamlılıkları değrlendirilebilir\n",
    "* Bağımlı değişkendeki değişkenliğin açıklanma başarısı ölçülebilir\n",
    "* model anlamlığı değerledirilebilir"
   ]
  },
  {
   "cell_type": "markdown",
   "metadata": {},
   "source": [
    "# Regresyon Modelleri Dezavantajları\n",
    "* Varsayımları vardır\n",
    "* Aykırı gözlemlere duyalıdır"
   ]
  },
  {
   "cell_type": "markdown",
   "metadata": {},
   "source": [
    "özellikle çoklu doğrusal bağlantı problemini sevmeyiz"
   ]
  },
  {
   "cell_type": "code",
   "execution_count": null,
   "metadata": {},
   "outputs": [],
   "source": []
  }
 ],
 "metadata": {
  "kernelspec": {
   "display_name": "Python 3.9.6 64-bit",
   "language": "python",
   "name": "python3"
  },
  "language_info": {
   "name": "python",
   "version": "3.9.6"
  },
  "orig_nbformat": 4,
  "vscode": {
   "interpreter": {
    "hash": "31f2aee4e71d21fbe5cf8b01ff0e069b9275f58929596ceb00d14d90e3e16cd6"
   }
  }
 },
 "nbformat": 4,
 "nbformat_minor": 2
}
