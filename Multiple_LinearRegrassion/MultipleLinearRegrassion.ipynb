{
 "cells": [
  {
   "cell_type": "markdown",
   "metadata": {},
   "source": [
    "# Çoklu Lineer Regrasyon"
   ]
  },
  {
   "cell_type": "markdown",
   "metadata": {},
   "source": [
    "Çoklu doğrusal regrasyan ile çalışan bir veri blimcinin iki hedefimiz olabilir\n",
    "* bağımzız değişkenlere bakrak bağımlı değişkenin tahmini\n",
    "* bağımsız değişkenin bağımlı değişkeni nasıl ne derce hangi yönlü etkildediğini bulmak"
   ]
  },
  {
   "cell_type": "markdown",
   "metadata": {},
   "source": [
    "# Doğrusal Model Varsayımları\n",
    "* Hatalar normal dağılır\n",
    "* Hatalar birbirinden bağımsızdır ve aralarında otokorolasyon yoktur\n",
    "* Her bir gözlem için hata terimleri varyansları sabittir\n",
    "* Değişkenler ile hata terimi arasında ilişki yoktur\n",
    "* Bağımsız değişkenler arasında çoklu doğrusal ilişki problemi yoktur"
   ]
  },
  {
   "cell_type": "markdown",
   "metadata": {},
   "source": [
    "hocam bu varsayımlar akedemide çok çok önemlidir ancak sektörde it works than don't tuch it mantığında kayda alınmazlar\n"
   ]
  },
  {
   "cell_type": "markdown",
   "metadata": {},
   "source": [
    "# Regresyon Modellerinin Avantajları\n",
    "* Doğrusallık nedensellik yorumları yapılabilmesini sağlar, bu durum Aksiyoner ve stratejik modelleme imkanı verir\n",
    "* Değişkenlerin etki düzeyleri ve anlamlılıkları değrlendirilebilir\n",
    "* Bağımlı değişkendeki değişkenliğin açıklanma başarısı ölçülebilir\n",
    "* model anlamlığı değerledirilebilir"
   ]
  },
  {
   "cell_type": "markdown",
   "metadata": {},
   "source": [
    "# Regresyon Modelleri Dezavantajları\n",
    "* Varsayımları vardır\n",
    "* Aykırı gözlemlere duyalıdır"
   ]
  },
  {
   "cell_type": "markdown",
   "metadata": {},
   "source": [
    "özellikle çoklu doğrusal bağlantı problemini sevmeyiz"
   ]
  },
  {
   "cell_type": "code",
   "execution_count": null,
   "metadata": {},
   "outputs": [],
   "source": []
  }
 ],
 "metadata": {
  "language_info": {
   "name": "python"
  },
  "orig_nbformat": 4
 },
 "nbformat": 4,
 "nbformat_minor": 2
}
