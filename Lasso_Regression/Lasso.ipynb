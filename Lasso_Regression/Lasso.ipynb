{
 "cells": [
  {
   "cell_type": "markdown",
   "metadata": {},
   "source": [
    "# Lasso Regresyo\n",
    "n\n",
    "Hata kareleri toplamını minimalize eden katsayıalrı, katsayılara ceza uygulayrak bulmaktır\n",
    "\n",
    "Ridge regresyon ile çok benziyor farkı:\n",
    "\n",
    "ridge katsayıalrı sıfır yapmaz, Lasso katsayıları sıfır yapar bu yüzden değişken seçme işelmi yapmış olur"
   ]
  },
  {
   "cell_type": "markdown",
   "metadata": {},
   "source": [
    "* Ridge regresyonunun ilgili ilgisiz tüm değişkenleri modelde bırakma dezavantajını giderir\n",
    "* Lasso da katsayıalr sıfıra yaklaştırılır \n",
    "fakat L1 normu lambda yeterince büyük olduğunda bazı katsayıalrı sıfır yapar böylece değişken seçimi yapmış olur\n",
    "* lambda nın(alpha da diyebilirsin) doğru seçilmesi çok önemlidir. bu seçim için cross validation işkemş kıullanılır\n",
    "* Ridge ve Lasso yöntemeleri birbirinden üstün değildir "
   ]
  },
  {
   "cell_type": "markdown",
   "metadata": {},
   "source": [
    "# Ayar pametresinin belirlenmesi\n",
    "* lambdanın sıfır olduğu yer EKK dır\n",
    "* lambda için belirli değerleri içeren bir küme seçilir ve her birisi için cross validation test hatası hesaplanır\n",
    "* En küçük cross validation test hatsı veren lambda ayar parametresi olarak seçilir\n",
    "* son olarak seçilen bu lambda ile model yenşden tüm gözlemlerle fit edilir"
   ]
  },
  {
   "cell_type": "code",
   "execution_count": null,
   "metadata": {},
   "outputs": [],
   "source": []
  }
 ],
 "metadata": {
  "language_info": {
   "name": "python"
  },
  "orig_nbformat": 4
 },
 "nbformat": 4,
 "nbformat_minor": 2
}
