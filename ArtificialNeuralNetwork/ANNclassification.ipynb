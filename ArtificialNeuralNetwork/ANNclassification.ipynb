{
 "cells": [
  {
   "cell_type": "markdown",
   "metadata": {},
   "source": [
    "# Yapay sinir ağları sınıflandırma\n",
    "\n",
    "Hocam zaten diper file 'da da teoric partı göreceğin üzere zaten bir sinir ağı yapısnı biiyorsun. \n",
    "\n",
    "Önce gözlemelerdeki bağımsız değişkenler ağırlıklarla(yani katsayılarla) çarpılıyor \n",
    "\n",
    "daha sonra bunlar toplanıyuor üzrine birde bir aktivasyon fonksiyonu elde ediliyor son olarak tahmin değeri elde edilip gerçek \n",
    "\n",
    "değerle karşilaştırılıyor. işte geriye doğru öğrenme kımsı tam olarak  burada kendini gösteriyor. \n",
    "\n",
    "ilk başta o çarptığımız katsayıalrı ağırlıkları random atar sonra tekrar tekrar deneyerk işte bu çıktıları karşılaştırarak doğtru katsayıyı bulur\n",
    "\n",
    "Ez cümle önce topolojik yapı(katman saysı falan) ayarlanır sonra random katsayılala işlem başlar daha sonra çıktılara göre \n",
    "\n",
    "en iyi paremetreler ağırlıklar bulunmaya çalışılır."
   ]
  },
  {
   "cell_type": "code",
   "execution_count": 6,
   "metadata": {},
   "outputs": [],
   "source": [
    "import numpy as np\n",
    "import pandas as pd \n",
    "import statsmodels.api as sm\n",
    "import statsmodels.formula.api as smf\n",
    "import seaborn as sns\n",
    "from sklearn.preprocessing import StandardScaler \n",
    "from sklearn.model_selection import train_test_split, GridSearchCV, cross_val_score\n",
    "from sklearn.metrics import confusion_matrix, accuracy_score, classification_report\n",
    "from sklearn.metrics import roc_auc_score,roc_curve\n",
    "import statsmodels.formula.api as smf\n",
    "import matplotlib.pyplot as plt\n",
    "from sklearn.neighbors import KNeighborsClassifier\n",
    "from sklearn.discriminant_analysis import LinearDiscriminantAnalysis\n",
    "from sklearn.linear_model import LogisticRegression\n",
    "from sklearn.svm import SVC\n",
    "from sklearn.naive_bayes import GaussianNB\n",
    "from sklearn import tree\n",
    "from sklearn.ensemble import RandomForestClassifier\n",
    "from sklearn.ensemble import GradientBoostingClassifier\n",
    "from xgboost import XGBClassifier\n",
    "from catboost import CatBoostClassifier\n",
    "\n",
    "from warnings import filterwarnings\n",
    "filterwarnings('ignore')"
   ]
  },
  {
   "cell_type": "code",
   "execution_count": 5,
   "metadata": {},
   "outputs": [],
   "source": [
    "diabet=pd.read_csv(\"diabetes.csv\")\n",
    "df=diabet.copy()\n",
    "df=df.dropna()\n",
    "y=df[\"Outcome\"]\n",
    "X=df.drop([\"Outcome\"],axis=1)\n",
    "X_train, X_test, y_train, y_test=train_test_split(X,y, test_size=0.30, random_state=42) "
   ]
  },
  {
   "cell_type": "code",
   "execution_count": 11,
   "metadata": {},
   "outputs": [],
   "source": [
    "# öncelikle bağımsız değişkenleri standardlaştıralım. Normalde algoritmalrın hepsi standartlaştırlmış veriyi sever ancak\n",
    "# yapay sşnşr ağları özellikle bu konuda hassatır aykırı veri, değişkenleirn varyansı bunlardan oldukça fazla etkilenir\n",
    "scaler=StandardScaler()\n",
    "scaler.fit(X_train)\n",
    "X_train_scaled=scaler.transform(X_train)\n",
    "X_test_scaled=scaler.transform(X_test)"
   ]
  },
  {
   "cell_type": "code",
   "execution_count": 10,
   "metadata": {},
   "outputs": [],
   "source": [
    "from sklearn.neural_network import MLPClassifier #mlpc multi layer perceptron classifier"
   ]
  },
  {
   "cell_type": "code",
   "execution_count": 12,
   "metadata": {},
   "outputs": [
    {
     "data": {
      "text/plain": [
       "0.7359307359307359"
      ]
     },
     "execution_count": 12,
     "metadata": {},
     "output_type": "execute_result"
    }
   ],
   "source": [
    "mlpc=MLPClassifier()\n",
    "mlpc.fit(X_train_scaled,y_train)\n",
    "mlpc.score(X_test_scaled,y_test)"
   ]
  },
  {
   "cell_type": "markdown",
   "metadata": {},
   "source": [
    "# Tuning"
   ]
  },
  {
   "cell_type": "code",
   "execution_count": 13,
   "metadata": {},
   "outputs": [
    {
     "data": {
      "text/plain": [
       "(100,)"
      ]
     },
     "execution_count": 13,
     "metadata": {},
     "output_type": "execute_result"
    }
   ],
   "source": [
    "mlpc.hidden_layer_sizes\n",
    "#bu tek katlı olduğunu gösterir. tek katlı ve 100 hücresi var."
   ]
  },
  {
   "cell_type": "code",
   "execution_count": 14,
   "metadata": {},
   "outputs": [
    {
     "data": {
      "text/plain": [
       "'relu'"
      ]
     },
     "execution_count": 14,
     "metadata": {},
     "output_type": "execute_result"
    }
   ],
   "source": [
    "mlpc.activation#aktivasyon fonksiyonu olarak relu kullanılmış"
   ]
  },
  {
   "cell_type": "code",
   "execution_count": 15,
   "metadata": {},
   "outputs": [
    {
     "data": {
      "text/plain": [
       "'adam'"
      ]
     },
     "execution_count": 15,
     "metadata": {},
     "output_type": "execute_result"
    }
   ],
   "source": [
    "mlpc.solver#baştaki ağırllıların optimumm değerini bulmak için kullanılan metod"
   ]
  },
  {
   "cell_type": "code",
   "execution_count": 16,
   "metadata": {},
   "outputs": [
    {
     "data": {
      "text/plain": [
       "0.0001"
      ]
     },
     "execution_count": 16,
     "metadata": {},
     "output_type": "execute_result"
    }
   ],
   "source": [
    "mlpc.alpha#düzenlem terimi"
   ]
  },
  {
   "cell_type": "code",
   "execution_count": 21,
   "metadata": {},
   "outputs": [
    {
     "name": "stdout",
     "output_type": "stream",
     "text": [
      "\u001b[0;31mType:\u001b[0m        MLPClassifier\n",
      "\u001b[0;31mString form:\u001b[0m MLPClassifier()\n",
      "\u001b[0;31mFile:\u001b[0m        ~/Library/Python/3.9/lib/python/site-packages/sklearn/neural_network/_multilayer_perceptron.py\n",
      "\u001b[0;31mDocstring:\u001b[0m  \n",
      "Multi-layer Perceptron classifier.\n",
      "\n",
      "This model optimizes the log-loss function using LBFGS or stochastic\n",
      "gradient descent.\n",
      "\n",
      ".. versionadded:: 0.18\n",
      "\n",
      "Parameters\n",
      "----------\n",
      "hidden_layer_sizes : array-like of shape(n_layers - 2,), default=(100,)\n",
      "    The ith element represents the number of neurons in the ith\n",
      "    hidden layer.\n",
      "\n",
      "activation : {'identity', 'logistic', 'tanh', 'relu'}, default='relu'\n",
      "    Activation function for the hidden layer.\n",
      "\n",
      "    - 'identity', no-op activation, useful to implement linear bottleneck,\n",
      "      returns f(x) = x\n",
      "\n",
      "    - 'logistic', the logistic sigmoid function,\n",
      "      returns f(x) = 1 / (1 + exp(-x)).\n",
      "\n",
      "    - 'tanh', the hyperbolic tan function,\n",
      "      returns f(x) = tanh(x).\n",
      "\n",
      "    - 'relu', the rectified linear unit function,\n",
      "      returns f(x) = max(0, x)\n",
      "\n",
      "solver : {'lbfgs', 'sgd', 'adam'}, default='adam'\n",
      "    The solver for weight optimization.\n",
      "\n",
      "    - 'lbfgs' is an optimizer in the family of quasi-Newton methods.\n",
      "\n",
      "    - 'sgd' refers to stochastic gradient descent.\n",
      "\n",
      "    - 'adam' refers to a stochastic gradient-based optimizer proposed\n",
      "      by Kingma, Diederik, and Jimmy Ba\n",
      "\n",
      "    Note: The default solver 'adam' works pretty well on relatively\n",
      "    large datasets (with thousands of training samples or more) in terms of\n",
      "    both training time and validation score.\n",
      "    For small datasets, however, 'lbfgs' can converge faster and perform\n",
      "    better.\n",
      "\n",
      "alpha : float, default=0.0001\n",
      "    Strength of the L2 regularization term. The L2 regularization term\n",
      "    is divided by the sample size when added to the loss.\n",
      "\n",
      "batch_size : int, default='auto'\n",
      "    Size of minibatches for stochastic optimizers.\n",
      "    If the solver is 'lbfgs', the classifier will not use minibatch.\n",
      "    When set to \"auto\", `batch_size=min(200, n_samples)`.\n",
      "\n",
      "learning_rate : {'constant', 'invscaling', 'adaptive'}, default='constant'\n",
      "    Learning rate schedule for weight updates.\n",
      "\n",
      "    - 'constant' is a constant learning rate given by\n",
      "      'learning_rate_init'.\n",
      "\n",
      "    - 'invscaling' gradually decreases the learning rate at each\n",
      "      time step 't' using an inverse scaling exponent of 'power_t'.\n",
      "      effective_learning_rate = learning_rate_init / pow(t, power_t)\n",
      "\n",
      "    - 'adaptive' keeps the learning rate constant to\n",
      "      'learning_rate_init' as long as training loss keeps decreasing.\n",
      "      Each time two consecutive epochs fail to decrease training loss by at\n",
      "      least tol, or fail to increase validation score by at least tol if\n",
      "      'early_stopping' is on, the current learning rate is divided by 5.\n",
      "\n",
      "    Only used when ``solver='sgd'``.\n",
      "\n",
      "learning_rate_init : float, default=0.001\n",
      "    The initial learning rate used. It controls the step-size\n",
      "    in updating the weights. Only used when solver='sgd' or 'adam'.\n",
      "\n",
      "power_t : float, default=0.5\n",
      "    The exponent for inverse scaling learning rate.\n",
      "    It is used in updating effective learning rate when the learning_rate\n",
      "    is set to 'invscaling'. Only used when solver='sgd'.\n",
      "\n",
      "max_iter : int, default=200\n",
      "    Maximum number of iterations. The solver iterates until convergence\n",
      "    (determined by 'tol') or this number of iterations. For stochastic\n",
      "    solvers ('sgd', 'adam'), note that this determines the number of epochs\n",
      "    (how many times each data point will be used), not the number of\n",
      "    gradient steps.\n",
      "\n",
      "shuffle : bool, default=True\n",
      "    Whether to shuffle samples in each iteration. Only used when\n",
      "    solver='sgd' or 'adam'.\n",
      "\n",
      "random_state : int, RandomState instance, default=None\n",
      "    Determines random number generation for weights and bias\n",
      "    initialization, train-test split if early stopping is used, and batch\n",
      "    sampling when solver='sgd' or 'adam'.\n",
      "    Pass an int for reproducible results across multiple function calls.\n",
      "    See :term:`Glossary <random_state>`.\n",
      "\n",
      "tol : float, default=1e-4\n",
      "    Tolerance for the optimization. When the loss or score is not improving\n",
      "    by at least ``tol`` for ``n_iter_no_change`` consecutive iterations,\n",
      "    unless ``learning_rate`` is set to 'adaptive', convergence is\n",
      "    considered to be reached and training stops.\n",
      "\n",
      "verbose : bool, default=False\n",
      "    Whether to print progress messages to stdout.\n",
      "\n",
      "warm_start : bool, default=False\n",
      "    When set to True, reuse the solution of the previous\n",
      "    call to fit as initialization, otherwise, just erase the\n",
      "    previous solution. See :term:`the Glossary <warm_start>`.\n",
      "\n",
      "momentum : float, default=0.9\n",
      "    Momentum for gradient descent update. Should be between 0 and 1. Only\n",
      "    used when solver='sgd'.\n",
      "\n",
      "nesterovs_momentum : bool, default=True\n",
      "    Whether to use Nesterov's momentum. Only used when solver='sgd' and\n",
      "    momentum > 0.\n",
      "\n",
      "early_stopping : bool, default=False\n",
      "    Whether to use early stopping to terminate training when validation\n",
      "    score is not improving. If set to true, it will automatically set\n",
      "    aside 10% of training data as validation and terminate training when\n",
      "    validation score is not improving by at least tol for\n",
      "    ``n_iter_no_change`` consecutive epochs. The split is stratified,\n",
      "    except in a multilabel setting.\n",
      "    If early stopping is False, then the training stops when the training\n",
      "    loss does not improve by more than tol for n_iter_no_change consecutive\n",
      "    passes over the training set.\n",
      "    Only effective when solver='sgd' or 'adam'.\n",
      "\n",
      "validation_fraction : float, default=0.1\n",
      "    The proportion of training data to set aside as validation set for\n",
      "    early stopping. Must be between 0 and 1.\n",
      "    Only used if early_stopping is True.\n",
      "\n",
      "beta_1 : float, default=0.9\n",
      "    Exponential decay rate for estimates of first moment vector in adam,\n",
      "    should be in [0, 1). Only used when solver='adam'.\n",
      "\n",
      "beta_2 : float, default=0.999\n",
      "    Exponential decay rate for estimates of second moment vector in adam,\n",
      "    should be in [0, 1). Only used when solver='adam'.\n",
      "\n",
      "epsilon : float, default=1e-8\n",
      "    Value for numerical stability in adam. Only used when solver='adam'.\n",
      "\n",
      "n_iter_no_change : int, default=10\n",
      "    Maximum number of epochs to not meet ``tol`` improvement.\n",
      "    Only effective when solver='sgd' or 'adam'.\n",
      "\n",
      "    .. versionadded:: 0.20\n",
      "\n",
      "max_fun : int, default=15000\n",
      "    Only used when solver='lbfgs'. Maximum number of loss function calls.\n",
      "    The solver iterates until convergence (determined by 'tol'), number\n",
      "    of iterations reaches max_iter, or this number of loss function calls.\n",
      "    Note that number of loss function calls will be greater than or equal\n",
      "    to the number of iterations for the `MLPClassifier`.\n",
      "\n",
      "    .. versionadded:: 0.22\n",
      "\n",
      "Attributes\n",
      "----------\n",
      "classes_ : ndarray or list of ndarray of shape (n_classes,)\n",
      "    Class labels for each output.\n",
      "\n",
      "loss_ : float\n",
      "    The current loss computed with the loss function.\n",
      "\n",
      "best_loss_ : float or None\n",
      "    The minimum loss reached by the solver throughout fitting.\n",
      "    If `early_stopping=True`, this attribute is set ot `None`. Refer to\n",
      "    the `best_validation_score_` fitted attribute instead.\n",
      "\n",
      "loss_curve_ : list of shape (`n_iter_`,)\n",
      "    The ith element in the list represents the loss at the ith iteration.\n",
      "\n",
      "validation_scores_ : list of shape (`n_iter_`,) or None\n",
      "    The score at each iteration on a held-out validation set. The score\n",
      "    reported is the accuracy score. Only available if `early_stopping=True`,\n",
      "    otherwise the attribute is set to `None`.\n",
      "\n",
      "best_validation_score_ : float or None\n",
      "    The best validation score (i.e. accuracy score) that triggered the\n",
      "    early stopping. Only available if `early_stopping=True`, otherwise the\n",
      "    attribute is set to `None`.\n",
      "\n",
      "t_ : int\n",
      "    The number of training samples seen by the solver during fitting.\n",
      "\n",
      "coefs_ : list of shape (n_layers - 1,)\n",
      "    The ith element in the list represents the weight matrix corresponding\n",
      "    to layer i.\n",
      "\n",
      "intercepts_ : list of shape (n_layers - 1,)\n",
      "    The ith element in the list represents the bias vector corresponding to\n",
      "    layer i + 1.\n",
      "\n",
      "n_features_in_ : int\n",
      "    Number of features seen during :term:`fit`.\n",
      "\n",
      "    .. versionadded:: 0.24\n",
      "\n",
      "feature_names_in_ : ndarray of shape (`n_features_in_`,)\n",
      "    Names of features seen during :term:`fit`. Defined only when `X`\n",
      "    has feature names that are all strings.\n",
      "\n",
      "    .. versionadded:: 1.0\n",
      "\n",
      "n_iter_ : int\n",
      "    The number of iterations the solver has run.\n",
      "\n",
      "n_layers_ : int\n",
      "    Number of layers.\n",
      "\n",
      "n_outputs_ : int\n",
      "    Number of outputs.\n",
      "\n",
      "out_activation_ : str\n",
      "    Name of the output activation function.\n",
      "\n",
      "See Also\n",
      "--------\n",
      "MLPRegressor : Multi-layer Perceptron regressor.\n",
      "BernoulliRBM : Bernoulli Restricted Boltzmann Machine (RBM).\n",
      "\n",
      "Notes\n",
      "-----\n",
      "MLPClassifier trains iteratively since at each time step\n",
      "the partial derivatives of the loss function with respect to the model\n",
      "parameters are computed to update the parameters.\n",
      "\n",
      "It can also have a regularization term added to the loss function\n",
      "that shrinks model parameters to prevent overfitting.\n",
      "\n",
      "This implementation works with data represented as dense numpy arrays or\n",
      "sparse scipy arrays of floating point values.\n",
      "\n",
      "References\n",
      "----------\n",
      "Hinton, Geoffrey E. \"Connectionist learning procedures.\"\n",
      "Artificial intelligence 40.1 (1989): 185-234.\n",
      "\n",
      "Glorot, Xavier, and Yoshua Bengio.\n",
      "\"Understanding the difficulty of training deep feedforward neural networks.\"\n",
      "International Conference on Artificial Intelligence and Statistics. 2010.\n",
      "\n",
      ":arxiv:`He, Kaiming, et al (2015). \"Delving deep into rectifiers:\n",
      "Surpassing human-level performance on imagenet classification.\" <1502.01852>`\n",
      "\n",
      ":arxiv:`Kingma, Diederik, and Jimmy Ba (2014)\n",
      "\"Adam: A method for stochastic optimization.\" <1412.6980>`\n",
      "\n",
      "Examples\n",
      "--------\n",
      ">>> from sklearn.neural_network import MLPClassifier\n",
      ">>> from sklearn.datasets import make_classification\n",
      ">>> from sklearn.model_selection import train_test_split\n",
      ">>> X, y = make_classification(n_samples=100, random_state=1)\n",
      ">>> X_train, X_test, y_train, y_test = train_test_split(X, y, stratify=y,\n",
      "...                                                     random_state=1)\n",
      ">>> clf = MLPClassifier(random_state=1, max_iter=300).fit(X_train, y_train)\n",
      ">>> clf.predict_proba(X_test[:1])\n",
      "array([[0.038..., 0.961...]])\n",
      ">>> clf.predict(X_test[:5, :])\n",
      "array([1, 0, 1, 0, 1])\n",
      ">>> clf.score(X_test, y_test)\n",
      "0.8...\n"
     ]
    }
   ],
   "source": [
    "?mlpc\n",
    "#gördüğün üzere pek çok paremetre var.  biz burada daha giriş levelinde olduğumuz için en çok etkili \n",
    "# sadece bir kaç paremetre üzerinde çalışıcaz ama gerçekte bir veri üzerinde çalışırken başka paremetrelerle de oynanabilir"
   ]
  },
  {
   "cell_type": "code",
   "execution_count": null,
   "metadata": {},
   "outputs": [],
   "source": []
  }
 ],
 "metadata": {
  "kernelspec": {
   "display_name": "Python 3.9.6 64-bit",
   "language": "python",
   "name": "python3"
  },
  "language_info": {
   "codemirror_mode": {
    "name": "ipython",
    "version": 3
   },
   "file_extension": ".py",
   "mimetype": "text/x-python",
   "name": "python",
   "nbconvert_exporter": "python",
   "pygments_lexer": "ipython3",
   "version": "3.9.6"
  },
  "orig_nbformat": 4,
  "vscode": {
   "interpreter": {
    "hash": "31f2aee4e71d21fbe5cf8b01ff0e069b9275f58929596ceb00d14d90e3e16cd6"
   }
  }
 },
 "nbformat": 4,
 "nbformat_minor": 2
}
