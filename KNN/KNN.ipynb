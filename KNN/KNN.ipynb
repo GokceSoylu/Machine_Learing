{
 "cells": [
  {
   "cell_type": "markdown",
   "metadata": {},
   "source": [
    "# En Yakın Komşu ALgoritması\n",
    "\n",
    "* Tahminler gözlem benzerliğine göre yapılır\n",
    "* çevrenizdeki beş kişinin ortalamasısınızdır"
   ]
  },
  {
   "cell_type": "markdown",
   "metadata": {},
   "source": [
    "# KNN Basamakları\n",
    "* Komşu sayısını belirle (k)\n",
    "* Bilinmeyen nokta ile diğer tüm noktalar arası uzaklıoğı hesapla\n",
    "* uzaklıkları sırala ve belirlene k sayısına göre en yakın olan k gözlemi seç\n",
    "* Sınıflandırma ise en sıksınıf, regresyon ise ortalam değeri tahmin değeri olarak ver"
   ]
  },
  {
   "cell_type": "code",
   "execution_count": null,
   "metadata": {},
   "outputs": [],
   "source": []
  }
 ],
 "metadata": {
  "language_info": {
   "name": "python"
  },
  "orig_nbformat": 4
 },
 "nbformat": 4,
 "nbformat_minor": 2
}
