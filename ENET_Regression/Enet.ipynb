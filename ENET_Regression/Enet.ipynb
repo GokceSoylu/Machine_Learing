{
 "cells": [
  {
   "cell_type": "markdown",
   "metadata": {},
   "source": [
    "# Elastic Net Regression\n",
    "L1 ve L2 birlikte kullanılır böylece hem cezalandırma hem değişken seçme birlikte değerlendirilmiş olur"
   ]
  },
  {
   "cell_type": "code",
   "execution_count": null,
   "metadata": {},
   "outputs": [],
   "source": []
  }
 ],
 "metadata": {
  "language_info": {
   "name": "python"
  },
  "orig_nbformat": 4
 },
 "nbformat": 4,
 "nbformat_minor": 2
}
