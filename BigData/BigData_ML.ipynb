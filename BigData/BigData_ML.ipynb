{
 "cells": [
  {
   "cell_type": "markdown",
   "metadata": {},
   "source": [
    "# Büyük Veride Makine Öğrenmesi"
   ]
  },
  {
   "cell_type": "code",
   "execution_count": 15,
   "metadata": {},
   "outputs": [
    {
     "data": {
      "text/html": [
       "\n",
       "        <div>\n",
       "            <p><b>SparkContext</b></p>\n",
       "\n",
       "            <p><a href=\"http://192.168.1.40:4040\">Spark UI</a></p>\n",
       "\n",
       "            <dl>\n",
       "              <dt>Version</dt>\n",
       "                <dd><code>v3.3.2</code></dd>\n",
       "              <dt>Master</dt>\n",
       "                <dd><code>local</code></dd>\n",
       "              <dt>AppName</dt>\n",
       "                <dd><code>ml_spark</code></dd>\n",
       "            </dl>\n",
       "        </div>\n",
       "        "
      ],
      "text/plain": [
       "<SparkContext master=local appName=ml_spark>"
      ]
     },
     "execution_count": 15,
     "metadata": {},
     "output_type": "execute_result"
    }
   ],
   "source": [
    "import findspark\n",
    "findspark.init(\"/Users/necmiyesoyla/spark/spark-3.3.2-bin-hadoop3\")\n",
    "\n",
    "import pyspark\n",
    "from pyspark.conf import SparkConf\n",
    "from pyspark import SparkContext\n",
    "from pyspark.sql import SparkSession\n",
    "\n",
    "spark=SparkSession.builder\\\n",
    "    .master(\"local\")\\\n",
    "    .appName(\"ml_spark\")\\\n",
    "    .getOrCreate()\n",
    "\n",
    "sc=spark.sparkContext\n",
    "sc"
   ]
  },
  {
   "cell_type": "code",
   "execution_count": 16,
   "metadata": {},
   "outputs": [
    {
     "data": {
      "text/plain": [
       "DataFrame[_c0: int, Names: string, Age: double, Total_Purchase: double, Account_Manager: int, Years: double, Num_Sites: double, Churn: int]"
      ]
     },
     "execution_count": 16,
     "metadata": {},
     "output_type": "execute_result"
    }
   ],
   "source": [
    "s_df=spark.read.csv(\"churn.csv\", header=True, inferSchema=True, sep=\",\")\n",
    "s_df.cache()"
   ]
  },
  {
   "cell_type": "code",
   "execution_count": 17,
   "metadata": {},
   "outputs": [
    {
     "name": "stdout",
     "output_type": "stream",
     "text": [
      "root\n",
      " |-- _c0: integer (nullable = true)\n",
      " |-- Names: string (nullable = true)\n",
      " |-- Age: double (nullable = true)\n",
      " |-- Total_Purchase: double (nullable = true)\n",
      " |-- Account_Manager: integer (nullable = true)\n",
      " |-- Years: double (nullable = true)\n",
      " |-- Num_Sites: double (nullable = true)\n",
      " |-- Churn: integer (nullable = true)\n",
      "\n"
     ]
    }
   ],
   "source": [
    "s_df.printSchema()"
   ]
  },
  {
   "cell_type": "code",
   "execution_count": 20,
   "metadata": {},
   "outputs": [
    {
     "name": "stdout",
     "output_type": "stream",
     "text": [
      "+---+----------------+----+--------------+---------------+-----+---------+-----+\n",
      "|_c0|           Names| Age|Total_Purchase|Account_Manager|Years|Num_Sites|Churn|\n",
      "+---+----------------+----+--------------+---------------+-----+---------+-----+\n",
      "|  0|Cameron Williams|42.0|       11066.8|              0| 7.22|      8.0|    1|\n",
      "|  1|   Kevin Mueller|41.0|      11916.22|              0|  6.5|     11.0|    1|\n",
      "|  2|     Eric Lozano|38.0|      12884.75|              0| 6.67|     12.0|    1|\n",
      "|  3|   Phillip White|42.0|       8010.76|              0| 6.71|     10.0|    1|\n",
      "|  4|  Cynthia Norton|37.0|       9191.58|              0| 5.56|      9.0|    1|\n",
      "|  5|Jessica Williams|48.0|      10356.02|              0| 5.12|      8.0|    1|\n",
      "|  6|     Eric Butler|44.0|      11331.58|              1| 5.23|     11.0|    1|\n",
      "|  7|   Zachary Walsh|32.0|       9885.12|              1| 6.92|      9.0|    1|\n",
      "|  8|     Ashlee Carr|43.0|       14062.6|              1| 5.46|     11.0|    1|\n",
      "|  9|  Jennifer Lynch|40.0|       8066.94|              1| 7.11|     11.0|    1|\n",
      "+---+----------------+----+--------------+---------------+-----+---------+-----+\n",
      "only showing top 10 rows\n",
      "\n"
     ]
    }
   ],
   "source": [
    "s_df.show(10)\n",
    "#hocam elimizde müşterilerle ilgili bir veri seti var. müşterini bizi terk edip etmeyeceğini bulmaya çalışıyoruz"
   ]
  },
  {
   "cell_type": "code",
   "execution_count": 26,
   "metadata": {},
   "outputs": [
    {
     "name": "stdout",
     "output_type": "stream",
     "text": [
      "+---+----------------+----+--------------+---------------+-----+---------+-----+\n",
      "|_c0|           names| age|total_purchase|account_manager|years|num_sites|churn|\n",
      "+---+----------------+----+--------------+---------------+-----+---------+-----+\n",
      "|  0|Cameron Williams|42.0|       11066.8|              0| 7.22|      8.0|    1|\n",
      "|  1|   Kevin Mueller|41.0|      11916.22|              0|  6.5|     11.0|    1|\n",
      "|  2|     Eric Lozano|38.0|      12884.75|              0| 6.67|     12.0|    1|\n",
      "|  3|   Phillip White|42.0|       8010.76|              0| 6.71|     10.0|    1|\n",
      "|  4|  Cynthia Norton|37.0|       9191.58|              0| 5.56|      9.0|    1|\n",
      "+---+----------------+----+--------------+---------------+-----+---------+-----+\n",
      "only showing top 5 rows\n",
      "\n"
     ]
    }
   ],
   "source": [
    "#değişken isimlerini belirli bir standartta tuttmak mantıklı olur. hadi bizde tüm değişken isimlerini küçük harli yapalım\n",
    "s_df=s_df.toDF(*[itr.lower() for itr in s_df.columns])\n",
    "s_df.show(5)\n",
    "\n",
    "#bu yöntem saprk df için geçerli aynı işşşlemi pandas df'de yapmak istersen\n",
    "#df.columns(str.lower,df.columns) evet daha kolay daat frame işlemlerinin pandas daha gelişmiş olduğunu söylemiştik :)) "
   ]
  },
  {
   "cell_type": "code",
   "execution_count": 27,
   "metadata": {},
   "outputs": [
    {
     "name": "stdout",
     "output_type": "stream",
     "text": [
      "+-----+----------------+----+--------------+---------------+-----+---------+-----+\n",
      "|index|           names| age|total_purchase|account_manager|years|num_sites|churn|\n",
      "+-----+----------------+----+--------------+---------------+-----+---------+-----+\n",
      "|    0|Cameron Williams|42.0|       11066.8|              0| 7.22|      8.0|    1|\n",
      "|    1|   Kevin Mueller|41.0|      11916.22|              0|  6.5|     11.0|    1|\n",
      "|    2|     Eric Lozano|38.0|      12884.75|              0| 6.67|     12.0|    1|\n",
      "+-----+----------------+----+--------------+---------------+-----+---------+-----+\n",
      "only showing top 3 rows\n",
      "\n"
     ]
    }
   ],
   "source": [
    "#yine data setimizz üzerinden daah rahat işlme yapabilmemiz değişiklik yapmaya aslında kişiselleştirmeye devam ediyoruz.\n",
    "#_c0 ismi çok saçma aslında index 'i tutuyır yekten index diyelim :)\n",
    "\n",
    "s_df=s_df.withColumnRenamed(\"_c0\",\"index\")\n",
    "s_df.show(3)"
   ]
  },
  {
   "cell_type": "code",
   "execution_count": 35,
   "metadata": {},
   "outputs": [
    {
     "name": "stdout",
     "output_type": "stream",
     "text": [
      "Gözlem sayısı: 900\n",
      "değişken sayısı: 8\n",
      "ve değişkn isimleri:\n"
     ]
    },
    {
     "data": {
      "text/plain": [
       "['index',\n",
       " 'names',\n",
       " 'age',\n",
       " 'total_purchase',\n",
       " 'account_manager',\n",
       " 'years',\n",
       " 'num_sites',\n",
       " 'churn']"
      ]
     },
     "execution_count": 35,
     "metadata": {},
     "output_type": "execute_result"
    }
   ],
   "source": [
    "print(\"Gözlem sayısı:\",s_df.count())#gözlem sayısı\n",
    "print(\"değişken sayısı:\",len(s_df.columns))#değişken sayısı\n",
    "print(\"ve değişkn isimleri:\")\n",
    "s_df.columns#değişkneler"
   ]
  },
  {
   "cell_type": "code",
   "execution_count": 37,
   "metadata": {},
   "outputs": [
    {
     "name": "stderr",
     "output_type": "stream",
     "text": [
      "                                                                                \r"
     ]
    },
    {
     "data": {
      "text/plain": [
       "900"
      ]
     },
     "execution_count": 37,
     "metadata": {},
     "output_type": "execute_result"
    }
   ],
   "source": [
    "#gerçek bi rproje üstünde çalışır gibi ileliyoruz\n",
    "#bu ilemlerden sonra dat sette isimsiz gözlme varmı yani tekrarlı gözlem var mı diye kontrol ederiz\n",
    "\n",
    "s_df.distinct().count()\n",
    "#ops 900 mü?"
   ]
  },
  {
   "cell_type": "code",
   "execution_count": 60,
   "metadata": {},
   "outputs": [
    {
     "name": "stdout",
     "output_type": "stream",
     "text": [
      "year: 418\n",
      "age: 36\n",
      "num_sites: 12\n",
      "total_purchase: 900\n"
     ]
    }
   ],
   "source": [
    "print(\"year:\",s_df.select(\"years\").distinct().count())\n",
    "print(\"age:\",s_df.select(\"age\").distinct().count())\n",
    "print(\"num_sites:\",s_df.select(\"num_sites\").distinct().count())\n",
    "print(\"total_purchase:\",s_df.select(\"total_purchase\").distinct().count())\n",
    "\n",
    "\n",
    "#olmadı yeaars değişkeninden kaynaklı olabilr mi demiştim\n",
    "#birde names'e bakalım belki aynı isimli müşteriler vardır"
   ]
  },
  {
   "cell_type": "code",
   "execution_count": 56,
   "metadata": {},
   "outputs": [
    {
     "name": "stdout",
     "output_type": "stream",
     "text": [
      "899\n"
     ]
    }
   ],
   "source": [
    "print(s_df.select(\"names\").distinct().count())\n",
    "#hm isim değişkenşnden kaynaj-klıumış"
   ]
  },
  {
   "cell_type": "code",
   "execution_count": 53,
   "metadata": {},
   "outputs": [
    {
     "name": "stdout",
     "output_type": "stream",
     "text": [
      "+----------------+-----+\n",
      "|           names|count|\n",
      "+----------------+-----+\n",
      "|   Jennifer Wood|    2|\n",
      "|    Patrick Bell|    1|\n",
      "|   Chelsea Marsh|    1|\n",
      "|Patrick Robinson|    1|\n",
      "|     John Barber|    1|\n",
      "+----------------+-----+\n",
      "only showing top 5 rows\n",
      "\n"
     ]
    }
   ],
   "source": [
    "#peki aklımıza bir kurt düştü bunlr gerçekten isim benzerliği olna müşteriler mi? yoksa tekrar eden gözlemler mi?\n",
    "#bunu için isime göre gruplayalım\n",
    "#isimlere göre grupluyoruz sonra sıralıyoruz \n",
    "s_df.groupBy(\"names\").count().sort(\"count\", ascending=False).show(5)"
   ]
  },
  {
   "cell_type": "code",
   "execution_count": 55,
   "metadata": {},
   "outputs": [
    {
     "name": "stdout",
     "output_type": "stream",
     "text": [
      "+-----+-------------+----+--------------+---------------+-----+---------+-----+\n",
      "|index|        names| age|total_purchase|account_manager|years|num_sites|churn|\n",
      "+-----+-------------+----+--------------+---------------+-----+---------+-----+\n",
      "|   22|Jennifer Wood|35.0|       9381.12|              1| 6.78|     11.0|    1|\n",
      "|  439|Jennifer Wood|48.0|      11585.16|              0| 4.61|      9.0|    0|\n",
      "+-----+-------------+----+--------------+---------------+-----+---------+-----+\n",
      "\n"
     ]
    }
   ],
   "source": [
    "s_df.filter(s_df.names==\"Jennifer Wood\").show()\n",
    "#evet sorun yok isim benzerliği"
   ]
  },
  {
   "cell_type": "code",
   "execution_count": 64,
   "metadata": {},
   "outputs": [
    {
     "name": "stdout",
     "output_type": "stream",
     "text": [
      "+----+-----+\n",
      "| age|count|\n",
      "+----+-----+\n",
      "|41.0|   69|\n",
      "|43.0|   59|\n",
      "|40.0|   58|\n",
      "|45.0|   56|\n",
      "|44.0|   53|\n",
      "+----+-----+\n",
      "only showing top 5 rows\n",
      "\n"
     ]
    }
   ],
   "source": [
    "s_df.groupBy(\"age\").count().sort(\"count\", ascending=False).show(5)\n",
    "#aynı yaşt insanalrın oması çokt aönemli değil sorun yok yani"
   ]
  },
  {
   "cell_type": "code",
   "execution_count": 70,
   "metadata": {},
   "outputs": [
    {
     "name": "stdout",
     "output_type": "stream",
     "text": [
      "+----------------+-----+\n",
      "|           names|count|\n",
      "+----------------+-----+\n",
      "|    Patrick Bell|    1|\n",
      "|Patrick Robinson|    1|\n",
      "|   Chelsea Marsh|    1|\n",
      "+----------------+-----+\n",
      "only showing top 3 rows\n",
      "\n"
     ]
    }
   ],
   "source": [
    "#peki farz edelim ki spesifik olarak belli bir değişknedeki tekrarlayanları silmek istiyoruz hadi bakalım \n",
    "\n",
    "s_df.select(\"names\").dropDuplicates()\n",
    "\n",
    "s_df.select(\"names\").dropDuplicates().groupby(\"names\").count().sort(\"count\",ascending=False).show(3)\n",
    "\n",
    "#ilk satırda aslında silme işlemini yaptık ama kayıt etmediğimiz için gerçekten \n",
    "#silip silmediğ,n, görmek için aymı kodu tekrar yasıp devamona da görmemizi sağlayac kodu ekledik "
   ]
  },
  {
   "cell_type": "code",
   "execution_count": 82,
   "metadata": {},
   "outputs": [
    {
     "name": "stdout",
     "output_type": "stream",
     "text": [
      "+----+-----+\n",
      "| age|count|\n",
      "+----+-----+\n",
      "|49.0|    1|\n",
      "|29.0|    1|\n",
      "|47.0|    1|\n",
      "|42.0|    1|\n",
      "|44.0|    1|\n",
      "+----+-----+\n",
      "only showing top 5 rows\n",
      "\n"
     ]
    },
    {
     "data": {
      "text/plain": [
       "36"
      ]
     },
     "execution_count": 82,
     "metadata": {},
     "output_type": "execute_result"
    }
   ],
   "source": [
    "s_df.select(\"age\").dropDuplicates()\n",
    "\n",
    "s_df.select(\"age\").dropDuplicates().groupby(\"age\").count().sort(\"count\",ascending=False).show(5)\n",
    "\n",
    "s_df.select(\"age\").dropDuplicates().count()#sadece 36 gözlem kalmış :))"
   ]
  },
  {
   "cell_type": "code",
   "execution_count": 83,
   "metadata": {},
   "outputs": [],
   "source": [
    "#Codun anlam ve önemi Hocam muhakkak duplicate gözlme avrnı diye kontrol edelim"
   ]
  },
  {
   "cell_type": "code",
   "execution_count": 84,
   "metadata": {},
   "outputs": [],
   "source": [
    "#peki birde belirli bir indise veya belirli indisden belirli bir değişkene ulaşma gereksiniminde ne yaparoz ona bakalım"
   ]
  },
  {
   "cell_type": "code",
   "execution_count": 89,
   "metadata": {},
   "outputs": [
    {
     "name": "stdout",
     "output_type": "stream",
     "text": [
      "+-----+------------+----+--------------+---------------+-----+---------+-----+\n",
      "|index|       names| age|total_purchase|account_manager|years|num_sites|churn|\n",
      "+-----+------------+----+--------------+---------------+-----+---------+-----+\n",
      "|  100|Chelsea Ward|43.0|      12104.25|              0| 5.86|      7.0|    1|\n",
      "+-----+------------+----+--------------+---------------+-----+---------+-----+\n",
      "\n"
     ]
    }
   ],
   "source": [
    "s_df.where(s_df.index==100).show()#22.indexteki kişiye eriştik"
   ]
  },
  {
   "cell_type": "code",
   "execution_count": 91,
   "metadata": {},
   "outputs": [
    {
     "name": "stdout",
     "output_type": "stream",
     "text": [
      "+------------+\n",
      "|       names|\n",
      "+------------+\n",
      "|Chelsea Ward|\n",
      "+------------+\n",
      "\n"
     ]
    }
   ],
   "source": [
    "s_df.where(s_df.index==100).select(\"names\").show()\n",
    "#sadece ismine eriştik"
   ]
  },
  {
   "cell_type": "code",
   "execution_count": 99,
   "metadata": {},
   "outputs": [],
   "source": [
    "#hocam seçtiğimiz veriyi alıp işlenebilr hala getirdik\n",
    "#bu normalde zor bir işlem. Spark data farmeden veriyi kandi tipind eişlnebilir halde almak. bunu bize sağlayan metod görüldiği collect() Teşkkkürler collect()👏🏻\n",
    "#yınıdaki [0] index işareti herzaman 0 oluyor am neden bende bilmiyorum\n",
    "x=s_df.where(s_df.index==100).collect()[0][\"age\"]"
   ]
  },
  {
   "cell_type": "code",
   "execution_count": 97,
   "metadata": {},
   "outputs": [
    {
     "data": {
      "text/plain": [
       "float"
      ]
     },
     "execution_count": 97,
     "metadata": {},
     "output_type": "execute_result"
    }
   ],
   "source": [
    "type(x)"
   ]
  },
  {
   "cell_type": "markdown",
   "metadata": {},
   "source": [
    "# Veri Analizi"
   ]
  },
  {
   "cell_type": "code",
   "execution_count": null,
   "metadata": {},
   "outputs": [],
   "source": []
  }
 ],
 "metadata": {
  "kernelspec": {
   "display_name": "Python 3.9.6 64-bit",
   "language": "python",
   "name": "python3"
  },
  "language_info": {
   "codemirror_mode": {
    "name": "ipython",
    "version": 3
   },
   "file_extension": ".py",
   "mimetype": "text/x-python",
   "name": "python",
   "nbconvert_exporter": "python",
   "pygments_lexer": "ipython3",
   "version": "3.9.6"
  },
  "orig_nbformat": 4,
  "vscode": {
   "interpreter": {
    "hash": "31f2aee4e71d21fbe5cf8b01ff0e069b9275f58929596ceb00d14d90e3e16cd6"
   }
  }
 },
 "nbformat": 4,
 "nbformat_minor": 2
}
