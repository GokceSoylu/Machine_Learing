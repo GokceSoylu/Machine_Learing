{
 "cells": [
  {
   "cell_type": "markdown",
   "metadata": {},
   "source": [
    "# Ridge Regression\n",
    "hata kareler toplamını minimalize eden katsayıları bu katsayıalara ceza uygulayarak bulmaktır"
   ]
  },
  {
   "cell_type": "markdown",
   "metadata": {},
   "source": [
    "* Aşırı öğrenmeye karşı dirençli\n",
    "* Yanlıkır fakat varyansı düşüktür(Bazen yanlı modelleri daga çok tercih ederiz)\n",
    "* Çok fazla paremetre olduğunda EKK ya göre daha iyidir\n",
    "* çok boyutluluk şanetşne karşı çözüm sunar\n",
    "* Çoklu bağlantı problemi olduğunda etkilidir\n",
    "* Tüm değişkenler ile model kurar. ilgisiz değişkenlerş modelden çıkarmaz, katsayılarını sıfıra yakalştırır\n",
    "* lambda kritik roldedir. iki terimin(fomuldeki) göreceli etkilerini kontrol etmeyi sağlar.\n",
    "* lambda için iyi bir değer bulunması önemlidir bunun için cv yöntemi kullanılır "
   ]
  },
  {
   "cell_type": "code",
   "execution_count": 1,
   "metadata": {},
   "outputs": [],
   "source": [
    "import pandas as pd\n",
    "import numpy as np\n",
    "from sklearn.linear_model import Ridge"
   ]
  },
  {
   "cell_type": "code",
   "execution_count": null,
   "metadata": {},
   "outputs": [],
   "source": [
    "hit=pd.read_csv(\"Hi\")"
   ]
  }
 ],
 "metadata": {
  "kernelspec": {
   "display_name": "Python 3.9.6 64-bit",
   "language": "python",
   "name": "python3"
  },
  "language_info": {
   "codemirror_mode": {
    "name": "ipython",
    "version": 3
   },
   "file_extension": ".py",
   "mimetype": "text/x-python",
   "name": "python",
   "nbconvert_exporter": "python",
   "pygments_lexer": "ipython3",
   "version": "3.9.6"
  },
  "orig_nbformat": 4,
  "vscode": {
   "interpreter": {
    "hash": "31f2aee4e71d21fbe5cf8b01ff0e069b9275f58929596ceb00d14d90e3e16cd6"
   }
  }
 },
 "nbformat": 4,
 "nbformat_minor": 2
}
