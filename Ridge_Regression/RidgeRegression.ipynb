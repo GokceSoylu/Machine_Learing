{
 "cells": [
  {
   "cell_type": "markdown",
   "metadata": {},
   "source": [
    "# Ridge Regression\n",
    "hata kareler toplamını minimalize eden katsayıları bu katsayıalara ceza uygulayarak bulmaktır"
   ]
  },
  {
   "cell_type": "markdown",
   "metadata": {},
   "source": [
    "* Aşırı öğrenmeye karşı dirençli\n",
    "* Yanlıkır fakat varyansı düşüktür(Bazen yanlı modelleri daga çok tercih ederiz)\n",
    "* Çok fazla paremetre olduğunda EKK ya göre daha iyidir\n",
    "* çok boyutluluk şanetşne karşı çözüm sunar\n",
    "* Çoklu bağlantı problemi olduğunda etkilidir\n",
    "* Tüm değişkenler ile model kurar. ilgisiz değişkenlerş modelden çıkarmaz, katsayılarını sıfıra yakalştırır\n",
    "* lambda kritik roldedir. iki terimin(fomuldeki) göreceli etkilerini kontrol etmeyi sağlar.\n",
    "* lambda için iyi bir değer bulunması önemlidir bunun için cv yöntemi kullanılır "
   ]
  },
  {
   "cell_type": "code",
   "execution_count": null,
   "metadata": {},
   "outputs": [],
   "source": []
  }
 ],
 "metadata": {
  "language_info": {
   "name": "python"
  },
  "orig_nbformat": 4
 },
 "nbformat": 4,
 "nbformat_minor": 2
}
