{
 "cells": [
  {
   "cell_type": "markdown",
   "metadata": {},
   "source": [
    "# Logistic Regresyon\n",
    "\n",
    "Amaç snıflandırma problemi için bağımlı ve bağımsız değişkne arasındaki ilişkiyi tanımlayan doğrusal bir model kurmaktır\n",
    "\n",
    "sonucun 0-1 arasında olmasının garanti eder\n",
    "\n",
    "* Bağımlı değişken kategoriktir\n",
    "\n",
    "* adını bağımlı değişkne uygulanan logit dönüşümünden alır\n",
    "\n",
    "* Logistic regresyonda aranan varsayımlar burada aranmadığı için daha esnaktir\n",
    "\n",
    "* Bağımlı değişkenin bir olarak tanımlanan değerinin gerçekleşme olasılığı hesaplanır. \n",
    "Dolayısıyla bağımlı değişkenşn alacağı değerlerle ilgilenilmez\n",
    "\n",
    "* Logistic fonk ile üretilen değerler 0-1 aralığında olur"
   ]
  },
  {
   "cell_type": "code",
   "execution_count": null,
   "metadata": {},
   "outputs": [],
   "source": []
  }
 ],
 "metadata": {
  "language_info": {
   "name": "python"
  },
  "orig_nbformat": 4
 },
 "nbformat": 4,
 "nbformat_minor": 2
}
