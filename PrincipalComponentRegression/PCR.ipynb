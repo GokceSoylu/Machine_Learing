{
 "cells": [
  {
   "cell_type": "markdown",
   "metadata": {},
   "source": [
    "# PCR / Temel Bileşen Regresyonu\n",
    "\n",
    "Veri setlerinde bağımsız değişkenler arasında korolasyon olabilyor. \n",
    "Bu durumda daha önceden bahsdilen çoklu doğrusal ilişki sorunu olur\n",
    "Ayrıca fazla değişken olmasıda sorundur (çok boyutluluk laneti)\n",
    "o zaman EKK (en küçük kareler yöntemi) tahmincileri yanlılıklar oluşturmaya başlıyor.  \n",
    "\n",
    "PCR boyut indirgemesi yaklaşımıdır. Şöyle ki:\n",
    "belli sayıda değişkişkenin şfade ettiği bilgiyi daha az değişkenle ifad etme şeklidir(gerekirse az bir bilgi kaybını göze alarak) \n"
   ]
  },
  {
   "cell_type": "markdown",
   "metadata": {},
   "source": [
    "Yani hocam eskiden direkt regresyon uyguluyorduk. Şimdi önce boyut indirhgemesi yapıp daha sonra regresyona sokuyoruz"
   ]
  },
  {
   "cell_type": "markdown",
   "metadata": {},
   "source": [
    "Bu işlem gerçekleştirildikten sonra  değişken sayısı indirgenddiğnde değişkne arasında bağlantı olmaz. \n",
    "Bu sayede hem çok booyutluluk laneti hemde öoklu doğrusal bağlantı problemi çözülmüş olur"
   ]
  },
  {
   "cell_type": "markdown",
   "metadata": {},
   "source": [
    "# PCR Model"
   ]
  },
  {
   "cell_type": "code",
   "execution_count": null,
   "metadata": {},
   "outputs": [],
   "source": []
  },
  {
   "cell_type": "code",
   "execution_count": null,
   "metadata": {},
   "outputs": [],
   "source": []
  }
 ],
 "metadata": {
  "kernelspec": {
   "display_name": "Python 3.9.6 64-bit",
   "language": "python",
   "name": "python3"
  },
  "language_info": {
   "name": "python",
   "version": "3.9.6"
  },
  "orig_nbformat": 4,
  "vscode": {
   "interpreter": {
    "hash": "31f2aee4e71d21fbe5cf8b01ff0e069b9275f58929596ceb00d14d90e3e16cd6"
   }
  }
 },
 "nbformat": 4,
 "nbformat_minor": 2
}
