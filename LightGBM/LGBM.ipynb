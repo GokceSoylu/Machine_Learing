{
 "cells": [
  {
   "cell_type": "markdown",
   "metadata": {},
   "source": [
    "# Light Graident Boosting Model\n",
    "\n",
    "Xboost'un eğitim süresi performansını arttırmaya yönelik geliştirilen bir diğer GBM türüdür\n",
    "\n",
    "\n",
    "## Xboost ile temel farkı\n",
    "\n",
    "* level wise büyüme stratejisi yerine leaf wise büyüme stratejisini kullanır.\n",
    "\n",
    "Bunlar split etme yöntemleridir\n",
    "\n",
    "level wise(ağaç büyümüe stratejisi): karar ağaçalrına bakılır\n",
    "\n",
    "leaf wise: daha iyi büyümek için splitlere bakılır"
   ]
  },
  {
   "cell_type": "markdown",
   "metadata": {},
   "source": [
    "* Breadth first search(BFS) yerine depth first search(DFS) kullanılır \n",
    "\n",
    "BFS'de daha geniş ilk arama yapar.  DFS'de ise daha derin ilk arama yapar"
   ]
  },
  {
   "cell_type": "code",
   "execution_count": null,
   "metadata": {},
   "outputs": [],
   "source": []
  }
 ],
 "metadata": {
  "language_info": {
   "name": "python"
  },
  "orig_nbformat": 4
 },
 "nbformat": 4,
 "nbformat_minor": 2
}
