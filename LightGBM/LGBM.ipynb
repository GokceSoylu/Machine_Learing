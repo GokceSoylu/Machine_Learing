{
 "cells": [
  {
   "cell_type": "markdown",
   "metadata": {},
   "source": [
    "# Light Graident Boosting Model\n",
    "\n",
    "Xboost'un eğitim süresi performansını arttırmaya yönelik geliştirilen bir diğer GBM türüdür\n",
    "\n",
    "\n",
    "## Xboost ile temel farkı\n",
    "\n",
    "* level wise büyüme stratejisi yerine leaf wise büyüme stratejisini kullanır.\n",
    "\n",
    "Bunlar split etme yöntemleridir\n",
    "\n",
    "level wise(ağaç büyümüe stratejisi): karar ağaçalrına bakılır\n",
    "\n",
    "leaf wise: daha iyi büyümek için splitlere bakılır"
   ]
  },
  {
   "cell_type": "markdown",
   "metadata": {},
   "source": [
    "* Breadth first search(BFS) yerine depth first search(DFS) kullanılır \n",
    "\n",
    "BFS'de daha geniş ilk arama yapar.  DFS'de ise daha derin ilk arama yapar"
   ]
  },
  {
   "cell_type": "code",
   "execution_count": 1,
   "metadata": {},
   "outputs": [
    {
     "ename": "ModuleNotFoundError",
     "evalue": "No module named 'lightgbm'",
     "output_type": "error",
     "traceback": [
      "\u001b[0;31m---------------------------------------------------------------------------\u001b[0m",
      "\u001b[0;31mModuleNotFoundError\u001b[0m                       Traceback (most recent call last)",
      "Cell \u001b[0;32mIn[1], line 1\u001b[0m\n\u001b[0;32m----> 1\u001b[0m \u001b[38;5;28;01mimport\u001b[39;00m \u001b[38;5;21;01mlightgbm\u001b[39;00m \u001b[38;5;28;01mas\u001b[39;00m \u001b[38;5;21;01ml\u001b[39;00m\n",
      "\u001b[0;31mModuleNotFoundError\u001b[0m: No module named 'lightgbm'"
     ]
    }
   ],
   "source": [
    "import lightgbm as l"
   ]
  },
  {
   "cell_type": "code",
   "execution_count": null,
   "metadata": {},
   "outputs": [],
   "source": []
  }
 ],
 "metadata": {
  "kernelspec": {
   "display_name": "Python 3.9.6 64-bit",
   "language": "python",
   "name": "python3"
  },
  "language_info": {
   "codemirror_mode": {
    "name": "ipython",
    "version": 3
   },
   "file_extension": ".py",
   "mimetype": "text/x-python",
   "name": "python",
   "nbconvert_exporter": "python",
   "pygments_lexer": "ipython3",
   "version": "3.9.6"
  },
  "orig_nbformat": 4,
  "vscode": {
   "interpreter": {
    "hash": "31f2aee4e71d21fbe5cf8b01ff0e069b9275f58929596ceb00d14d90e3e16cd6"
   }
  }
 },
 "nbformat": 4,
 "nbformat_minor": 2
}
