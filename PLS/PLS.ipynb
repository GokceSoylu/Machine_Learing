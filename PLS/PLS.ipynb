{
 "cells": [
  {
   "cell_type": "markdown",
   "metadata": {},
   "source": [
    "# Kısmi En küçük Kareler  Regresyonu\n",
    "\n",
    "Partial least squares regression"
   ]
  },
  {
   "cell_type": "markdown",
   "metadata": {},
   "source": [
    "* çok boyutluluk laneti\n",
    "* çoklu doğrusal bağlantı problemi\n",
    "* PLS de PCR gib ibağımsız değişkenlerin doğrusal kombinasyonlarını bulur\n",
    "Bu doğrusal kombinasyonlar bileşen yada latent değişken olarak adlandırılır\n",
    "* PLS NIPELS ın özel bir halidir, iteratif olarak bağımlı değişken ile\n",
    "yüksek korolasyona sahip değişkenler arasındaki gizil(latent) ilişkiyi bulmaya çalışır "
   ]
  },
  {
   "cell_type": "markdown",
   "metadata": {},
   "source": [
    "* PCR da doğrusal kombinasyonlar yani bileşenşer *bağımsız değişken uzağındaki değişkneliği* \n",
    "maksimum şekilde özetleyecek şekilde oluşturulur\n",
    "* Bu durum bağımlı değişkeni açıklma yeteneği olmamasına sebep olmakta\n",
    "* PLS de ise *bileşenler bağımlı değişken ile olan kovaryansı* maksimumşekilde özetleyecek şekilde oşuşturulur\n",
    "- yani hocam PCR değişkenlerde indirgeme yapar ancak bağımsız değişkenler arasında oluşturu bağımlı değişknele alakası yoktur\n",
    "PLS ise bağımsız değişkenlerin bağımlı değişkene alakasına göre bir indirgeme yapar\n",
    "- İşte bu yüzden değişknelre atılmak istenmiyorsa ve açıkklanabilirlik aranıyorsa PLS yoksa PCR kullanilir\n"
   ]
  },
  {
   "cell_type": "markdown",
   "metadata": {},
   "source": [
    "# Model"
   ]
  },
  {
   "cell_type": "code",
   "execution_count": 1,
   "metadata": {},
   "outputs": [],
   "source": [
    "import pandas as pd"
   ]
  },
  {
   "cell_type": "code",
   "execution_count": null,
   "metadata": {},
   "outputs": [],
   "source": []
  }
 ],
 "metadata": {
  "kernelspec": {
   "display_name": "Python 3.9.6 64-bit",
   "language": "python",
   "name": "python3"
  },
  "language_info": {
   "codemirror_mode": {
    "name": "ipython",
    "version": 3
   },
   "file_extension": ".py",
   "mimetype": "text/x-python",
   "name": "python",
   "nbconvert_exporter": "python",
   "pygments_lexer": "ipython3",
   "version": "3.9.6"
  },
  "orig_nbformat": 4,
  "vscode": {
   "interpreter": {
    "hash": "31f2aee4e71d21fbe5cf8b01ff0e069b9275f58929596ceb00d14d90e3e16cd6"
   }
  }
 },
 "nbformat": 4,
 "nbformat_minor": 2
}
