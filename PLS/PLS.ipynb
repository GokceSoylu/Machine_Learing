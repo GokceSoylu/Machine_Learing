{
 "cells": [
  {
   "cell_type": "markdown",
   "metadata": {},
   "source": [
    "# Kısmi En küçük Kareler  Regresyonu\n",
    "\n",
    "Partial least squares regression"
   ]
  },
  {
   "cell_type": "markdown",
   "metadata": {},
   "source": [
    "* çok boyutluluk laneti\n",
    "* çoklu doğrusal bağlantı problemi\n",
    "* PLS de PCR gib ibağımsız değişkenlerin doğrusal kombinasyonlarını bulur\n",
    "Bu doğrusal kombinasyonlar bileşen yada latent değişken olarak adlandırılır\n",
    "* PLS NIPELS ın özel bir halidir, iteratif olarak bağımlı değişken ile\n",
    "yüksek korolasyona sahip değişkenler arasındaki gizil(latent) ilişkiyi bulmaya çalışır "
   ]
  },
  {
   "cell_type": "markdown",
   "metadata": {},
   "source": [
    "* PCR da doğrusal kombinasyonlar yani bileşenşer *bağımsız değişken uzağındaki değişkneliği* \n",
    "maksimum şekilde özetleyecek şekilde oluşturulur\n",
    "* Bu durum bağımlı değişkeni açıklma yeteneği olmamasına sebep olmakta\n",
    "* PLS de ise *bileşenler bağımlı değişken ile olan kovaryansı* maksimumşekilde özetleyecek şekilde oşuşturulur\n",
    "- yani hocam PCR değişkenlerde indirgeme yapar ancak bağımsız değişkenler arasında oluşturu bağımlı değişknele alakası yoktur\n",
    "PLS ise bağımsız değişkenlerin bağımlı değişkene alakasına göre bir indirgeme yapar\n",
    "- İşte bu yüzden değişknelre atılmak istenmiyorsa ve açıkklanabilirlik aranıyorsa PLS yoksa PCR kullanilir\n"
   ]
  },
  {
   "cell_type": "markdown",
   "metadata": {},
   "source": [
    "# Model"
   ]
  },
  {
   "cell_type": "code",
   "execution_count": 1,
   "metadata": {},
   "outputs": [],
   "source": [
    "import pandas as pd"
   ]
  },
  {
   "cell_type": "code",
   "execution_count": 3,
   "metadata": {},
   "outputs": [
    {
     "name": "stdout",
     "output_type": "stream",
     "text": [
      "<class 'pandas.core.frame.DataFrame'>\n",
      "Int64Index: 263 entries, 1 to 321\n",
      "Data columns (total 20 columns):\n",
      " #   Column     Non-Null Count  Dtype  \n",
      "---  ------     --------------  -----  \n",
      " 0   AtBat      263 non-null    int64  \n",
      " 1   Hits       263 non-null    int64  \n",
      " 2   HmRun      263 non-null    int64  \n",
      " 3   Runs       263 non-null    int64  \n",
      " 4   RBI        263 non-null    int64  \n",
      " 5   Walks      263 non-null    int64  \n",
      " 6   Years      263 non-null    int64  \n",
      " 7   CAtBat     263 non-null    int64  \n",
      " 8   CHits      263 non-null    int64  \n",
      " 9   CHmRun     263 non-null    int64  \n",
      " 10  CRuns      263 non-null    int64  \n",
      " 11  CRBI       263 non-null    int64  \n",
      " 12  CWalks     263 non-null    int64  \n",
      " 13  League     263 non-null    object \n",
      " 14  Division   263 non-null    object \n",
      " 15  PutOuts    263 non-null    int64  \n",
      " 16  Assists    263 non-null    int64  \n",
      " 17  Errors     263 non-null    int64  \n",
      " 18  Salary     263 non-null    float64\n",
      " 19  NewLeague  263 non-null    object \n",
      "dtypes: float64(1), int64(16), object(3)\n",
      "memory usage: 43.1+ KB\n"
     ]
    }
   ],
   "source": [
    "hit=pd.read_csv(\"Hitters.csv\")\n",
    "df=hit.copy()\n",
    "df=df.dropna()\n",
    "df.info()"
   ]
  },
  {
   "cell_type": "code",
   "execution_count": 9,
   "metadata": {},
   "outputs": [],
   "source": [
    "ms=pd.get_dummies(df[[\"League\",\"Division\",\"NewLeague\"]]) #kategorik değişkeni numeric yapma one hot"
   ]
  },
  {
   "cell_type": "code",
   "execution_count": 17,
   "metadata": {},
   "outputs": [],
   "source": [
    "y=df[\"Salary\"]#bağımlı değişkenş alma"
   ]
  },
  {
   "cell_type": "code",
   "execution_count": 16,
   "metadata": {},
   "outputs": [],
   "source": [
    "X_=df.drop([\"League\",\"Division\",\"NewLeague\"],axis=1).astype(\"float64\") #kategoric değişkenleri sildik\n",
    "X=pd.concat([X_, ms[[\"League_N\",\"Division_W\",\"NewLeague_N\"]]],axis=1)#dönüşüm yapılmıi halini ekledik"
   ]
  },
  {
   "cell_type": "code",
   "execution_count": 18,
   "metadata": {},
   "outputs": [],
   "source": [
    "from sklearn.model_selection import train_test_split\n",
    "X_train, X_test, y_train, y_test=train_test_split(X, y,test_size=0.25,random_state=42) # eğitim ve test kısmını ayırdık"
   ]
  },
  {
   "cell_type": "code",
   "execution_count": 15,
   "metadata": {},
   "outputs": [],
   "source": [
    "# buraya kadar PCR ile aynı bildiğin data yükleme temel preprocession"
   ]
  },
  {
   "cell_type": "code",
   "execution_count": 19,
   "metadata": {},
   "outputs": [],
   "source": [
    "from sklearn.cross_decomposition import PLSRegression, PLSSVD"
   ]
  },
  {
   "cell_type": "code",
   "execution_count": 24,
   "metadata": {},
   "outputs": [],
   "source": [
    "pls=PLSRegression(n_components=10) #hocam buradaki bileşen sayısını kaç yaparsan yap çıkna katsayı yine baştaki değişken sayısı ile\n",
    "#aynı olur 20 değişken varsa sen burada kaç ayarlarsan ayarla 20 katsayı çıkar. zaten çıkmazsa sorun olıur modeli kurucaz ee diyecek\n",
    "#değişken sayıları uymuyor. yani bileşen sayısnın ayarlanması direkt değişken sayısını değiştirmek değildir\n",
    "pls=pls.fit(X_train, y_train)"
   ]
  },
  {
   "cell_type": "code",
   "execution_count": 25,
   "metadata": {},
   "outputs": [
    {
     "name": "stderr",
     "output_type": "stream",
     "text": [
      "/Users/necmiyesoyla/Library/Python/3.9/lib/python/site-packages/sklearn/cross_decomposition/_pls.py:503: FutureWarning: The attribute `coef_` will be transposed in version 1.3 to be consistent with other linear models in scikit-learn. Currently, `coef_` has a shape of (n_features, n_targets) and in the future it will have a shape of (n_targets, n_features).\n",
      "  warnings.warn(\n"
     ]
    },
    {
     "data": {
      "text/plain": [
       "array([[-9.14502020e+00],\n",
       "       [ 1.04245638e+01],\n",
       "       [ 1.86367804e+00],\n",
       "       [-3.09078786e+00],\n",
       "       [-1.25212555e+00],\n",
       "       [ 2.04550727e+00],\n",
       "       [ 1.03344435e+00],\n",
       "       [-4.65331282e+00],\n",
       "       [ 1.58926000e+00],\n",
       "       [ 5.26500915e-01],\n",
       "       [ 5.95529397e+00],\n",
       "       [ 6.29274519e-01],\n",
       "       [-4.83316481e+00],\n",
       "       [ 8.38144495e-02],\n",
       "       [ 2.35638890e-01],\n",
       "       [ 7.95916033e-01],\n",
       "       [ 4.44878316e+02],\n",
       "       [-1.61809625e+00],\n",
       "       [-2.95492381e-01],\n",
       "       [ 1.69370299e+00]])"
      ]
     },
     "execution_count": 25,
     "metadata": {},
     "output_type": "execute_result"
    }
   ],
   "source": [
    "pls.coef_"
   ]
  },
  {
   "cell_type": "code",
   "execution_count": null,
   "metadata": {},
   "outputs": [],
   "source": []
  }
 ],
 "metadata": {
  "kernelspec": {
   "display_name": "Python 3.9.6 64-bit",
   "language": "python",
   "name": "python3"
  },
  "language_info": {
   "codemirror_mode": {
    "name": "ipython",
    "version": 3
   },
   "file_extension": ".py",
   "mimetype": "text/x-python",
   "name": "python",
   "nbconvert_exporter": "python",
   "pygments_lexer": "ipython3",
   "version": "3.9.6"
  },
  "orig_nbformat": 4,
  "vscode": {
   "interpreter": {
    "hash": "31f2aee4e71d21fbe5cf8b01ff0e069b9275f58929596ceb00d14d90e3e16cd6"
   }
  }
 },
 "nbformat": 4,
 "nbformat_minor": 2
}
